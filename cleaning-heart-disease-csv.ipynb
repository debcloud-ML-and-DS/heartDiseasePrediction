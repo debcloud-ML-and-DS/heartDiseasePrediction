{
 "cells": [
  {
   "cell_type": "markdown",
   "id": "interim-worthy",
   "metadata": {},
   "source": [
    "# Problem Definition.\n",
    "Buiding a classification problem to determine if a person will have heart disease or not.\n",
    "\n",
    "# Data.\n",
    "The dataset was taken from kaggle and can be accessed through the provided link https://www.kaggle.com/ronitf/heart-disease-uci.\n",
    "\n",
    "# Evaluation.\n",
    "If we are able to evaluate or train our model to get an accuracy score of 85% and with high precion, recall and f1 score between the range 60% and 85% then our model is ready to go into production.\n",
    "\n",
    "# Features.\n",
    "The heart disease features and list ted bellow and can also be retrieved from the link provided above or this one https://www.kaggle.com/ronitf/heart-disease-uci.<br>\n",
    "age<br>\n",
    "sex<br>\n",
    "chest pain type (4 values)<br>\n",
    "resting blood pressure<br>\n",
    "serum cholestoral in mg/dl<br>\n",
    "fasting blood sugar > 120 mg/dl<br>\n",
    "resting electrocardiographic results (values 0,1,2)<br>\n",
    "maximum heart rate achieved<br>\n",
    "exercise induced angina<br>\n",
    "oldpeak = ST depression induced by exercise relative to rest<br>\n",
    "the slope of the peak exercise ST segment<br>\n",
    "number of major vessels (0-3) colored by flourosopy<br>\n",
    "thal: 3 = normal; 6 = fixed defect; 7 = reversable defect<br>"
   ]
  },
  {
   "cell_type": "markdown",
   "id": "realistic-regression",
   "metadata": {},
   "source": [
    "# Setting our tools up"
   ]
  },
  {
   "cell_type": "code",
   "execution_count": 1,
   "id": "focal-alexander",
   "metadata": {},
   "outputs": [],
   "source": [
    "#Import neccesary libries\n",
    "import pandas as pd\n",
    "import numpy as np\n",
    "import matplotlib.pyplot as plt\n",
    "import seaborn as sns\n",
    "%matplotlib inline\n",
    "\n",
    "#Import scikit learn libries\n",
    "from sklearn.model_selection import train_test_split, cross_val_score\n",
    "from sklearn.feature_selection import VarianceThreshold\n",
    "from sklearn.ensemble import RandomForestClassifier\n",
    "from imblearn.under_sampling import NearMiss\n",
    "from sklearn.metrics import f1_score, recall_score, accuracy_score, precision_score, confusion_matrix\n",
    "from sklearn.model_selection import RandomizedSearchCV, GridSearchCV\n",
    "from sklearn.inspection import permutation_importance\n",
    "import pickle"
   ]
  },
  {
   "cell_type": "markdown",
   "id": "hybrid-neutral",
   "metadata": {},
   "source": [
    "# Performing Exploratory data analysis(Getting our data ready)."
   ]
  },
  {
   "cell_type": "code",
   "execution_count": 2,
   "id": "quick-danish",
   "metadata": {},
   "outputs": [
    {
     "data": {
      "text/html": [
       "<div>\n",
       "<style scoped>\n",
       "    .dataframe tbody tr th:only-of-type {\n",
       "        vertical-align: middle;\n",
       "    }\n",
       "\n",
       "    .dataframe tbody tr th {\n",
       "        vertical-align: top;\n",
       "    }\n",
       "\n",
       "    .dataframe thead th {\n",
       "        text-align: right;\n",
       "    }\n",
       "</style>\n",
       "<table border=\"1\" class=\"dataframe\">\n",
       "  <thead>\n",
       "    <tr style=\"text-align: right;\">\n",
       "      <th></th>\n",
       "      <th>age</th>\n",
       "      <th>sex</th>\n",
       "      <th>cp</th>\n",
       "      <th>trestbps</th>\n",
       "      <th>chol</th>\n",
       "      <th>fbs</th>\n",
       "      <th>restecg</th>\n",
       "      <th>thalach</th>\n",
       "      <th>exang</th>\n",
       "      <th>oldpeak</th>\n",
       "      <th>slope</th>\n",
       "      <th>ca</th>\n",
       "      <th>thal</th>\n",
       "      <th>target</th>\n",
       "    </tr>\n",
       "  </thead>\n",
       "  <tbody>\n",
       "    <tr>\n",
       "      <th>0</th>\n",
       "      <td>63</td>\n",
       "      <td>1</td>\n",
       "      <td>3</td>\n",
       "      <td>145</td>\n",
       "      <td>233</td>\n",
       "      <td>1</td>\n",
       "      <td>0</td>\n",
       "      <td>150</td>\n",
       "      <td>0</td>\n",
       "      <td>2.3</td>\n",
       "      <td>0</td>\n",
       "      <td>0</td>\n",
       "      <td>1</td>\n",
       "      <td>1</td>\n",
       "    </tr>\n",
       "    <tr>\n",
       "      <th>1</th>\n",
       "      <td>37</td>\n",
       "      <td>1</td>\n",
       "      <td>2</td>\n",
       "      <td>130</td>\n",
       "      <td>250</td>\n",
       "      <td>0</td>\n",
       "      <td>1</td>\n",
       "      <td>187</td>\n",
       "      <td>0</td>\n",
       "      <td>3.5</td>\n",
       "      <td>0</td>\n",
       "      <td>0</td>\n",
       "      <td>2</td>\n",
       "      <td>1</td>\n",
       "    </tr>\n",
       "    <tr>\n",
       "      <th>2</th>\n",
       "      <td>41</td>\n",
       "      <td>0</td>\n",
       "      <td>1</td>\n",
       "      <td>130</td>\n",
       "      <td>204</td>\n",
       "      <td>0</td>\n",
       "      <td>0</td>\n",
       "      <td>172</td>\n",
       "      <td>0</td>\n",
       "      <td>1.4</td>\n",
       "      <td>2</td>\n",
       "      <td>0</td>\n",
       "      <td>2</td>\n",
       "      <td>1</td>\n",
       "    </tr>\n",
       "    <tr>\n",
       "      <th>3</th>\n",
       "      <td>56</td>\n",
       "      <td>1</td>\n",
       "      <td>1</td>\n",
       "      <td>120</td>\n",
       "      <td>236</td>\n",
       "      <td>0</td>\n",
       "      <td>1</td>\n",
       "      <td>178</td>\n",
       "      <td>0</td>\n",
       "      <td>0.8</td>\n",
       "      <td>2</td>\n",
       "      <td>0</td>\n",
       "      <td>2</td>\n",
       "      <td>1</td>\n",
       "    </tr>\n",
       "    <tr>\n",
       "      <th>4</th>\n",
       "      <td>57</td>\n",
       "      <td>0</td>\n",
       "      <td>0</td>\n",
       "      <td>120</td>\n",
       "      <td>354</td>\n",
       "      <td>0</td>\n",
       "      <td>1</td>\n",
       "      <td>163</td>\n",
       "      <td>1</td>\n",
       "      <td>0.6</td>\n",
       "      <td>2</td>\n",
       "      <td>0</td>\n",
       "      <td>2</td>\n",
       "      <td>1</td>\n",
       "    </tr>\n",
       "  </tbody>\n",
       "</table>\n",
       "</div>"
      ],
      "text/plain": [
       "   age  sex  cp  trestbps  chol  fbs  restecg  thalach  exang  oldpeak  slope  \\\n",
       "0   63    1   3       145   233    1        0      150      0      2.3      0   \n",
       "1   37    1   2       130   250    0        1      187      0      3.5      0   \n",
       "2   41    0   1       130   204    0        0      172      0      1.4      2   \n",
       "3   56    1   1       120   236    0        1      178      0      0.8      2   \n",
       "4   57    0   0       120   354    0        1      163      1      0.6      2   \n",
       "\n",
       "   ca  thal  target  \n",
       "0   0     1       1  \n",
       "1   0     2       1  \n",
       "2   0     2       1  \n",
       "3   0     2       1  \n",
       "4   0     2       1  "
      ]
     },
     "execution_count": 2,
     "metadata": {},
     "output_type": "execute_result"
    }
   ],
   "source": [
    "#Import Dataset\n",
    "heart_dis = pd.read_csv(\"heart.csv\")\n",
    "\n",
    "#Display dataset head\n",
    "heart_dis.head()"
   ]
  },
  {
   "cell_type": "code",
   "execution_count": 85,
   "id": "ongoing-attempt",
   "metadata": {},
   "outputs": [
    {
     "data": {
      "text/plain": [
       "age         0\n",
       "sex         0\n",
       "cp          0\n",
       "trestbps    0\n",
       "chol        0\n",
       "fbs         0\n",
       "restecg     0\n",
       "thalach     0\n",
       "exang       0\n",
       "oldpeak     0\n",
       "slope       0\n",
       "ca          0\n",
       "thal        0\n",
       "target      0\n",
       "dtype: int64"
      ]
     },
     "execution_count": 85,
     "metadata": {},
     "output_type": "execute_result"
    }
   ],
   "source": [
    "#check for Nan values\n",
    "heart_dis.isna().sum()"
   ]
  },
  {
   "cell_type": "code",
   "execution_count": 86,
   "id": "liked-participant",
   "metadata": {},
   "outputs": [
    {
     "data": {
      "text/plain": [
       "age           int64\n",
       "sex           int64\n",
       "cp            int64\n",
       "trestbps      int64\n",
       "chol          int64\n",
       "fbs           int64\n",
       "restecg       int64\n",
       "thalach       int64\n",
       "exang         int64\n",
       "oldpeak     float64\n",
       "slope         int64\n",
       "ca            int64\n",
       "thal          int64\n",
       "target        int64\n",
       "dtype: object"
      ]
     },
     "execution_count": 86,
     "metadata": {},
     "output_type": "execute_result"
    }
   ],
   "source": [
    "#Checking for Non numeric types\n",
    "heart_dis.dtypes"
   ]
  },
  {
   "cell_type": "markdown",
   "id": "senior-sweet",
   "metadata": {},
   "source": [
    "Our dataset does not contain any **Null** and **Non numeric** types."
   ]
  },
  {
   "cell_type": "code",
   "execution_count": 87,
   "id": "intensive-branch",
   "metadata": {},
   "outputs": [
    {
     "data": {
      "text/plain": [
       "1    165\n",
       "0    138\n",
       "Name: target, dtype: int64"
      ]
     },
     "execution_count": 87,
     "metadata": {},
     "output_type": "execute_result"
    }
   ],
   "source": [
    "#Check value counts of dependent variable(target)\n",
    "heart_dis['target'].value_counts()"
   ]
  },
  {
   "cell_type": "code",
   "execution_count": 194,
   "id": "large-retail",
   "metadata": {},
   "outputs": [
    {
     "data": {
      "image/png": "[encoded data removed]",
      "text/plain": [
       "<Figure size 432x288 with 1 Axes>"
      ]
     },
     "metadata": {
      "needs_background": "light"
     },
     "output_type": "display_data"
    }
   ],
   "source": [
    "#Lets try to visualize the above results\n",
    "heart_dis['target'].value_counts().plot(kind='bar', color=['red','purple'])\n",
    "plt.show()"
   ]
  },
  {
   "cell_type": "code",
   "execution_count": 5,
   "id": "commercial-variable",
   "metadata": {},
   "outputs": [
    {
     "data": {
      "image/png": "[encoded data removed]",
      "text/plain": [
       "<Figure size 432x288 with 1 Axes>"
      ]
     },
     "metadata": {},
     "output_type": "display_data"
    }
   ],
   "source": [
    "#Lets try to visualize it in pie chart form\n",
    "heart_dis['target'].value_counts().plot(kind='pie')\n",
    "plt.show()"
   ]
  },
  {
   "cell_type": "code",
   "execution_count": 89,
   "id": "previous-singing",
   "metadata": {},
   "outputs": [
    {
     "name": "stdout",
     "output_type": "stream",
     "text": [
      "The diference between 1 and 0 in target variable is 27\n"
     ]
    }
   ],
   "source": [
    "#Let's find out the difference between the target variable\n",
    "print(f\"The diference between 1 and 0 in target variable is {165-138}\")"
   ]
  },
  {
   "cell_type": "markdown",
   "id": "cognitive-circulation",
   "metadata": {},
   "source": [
    "From the above the difference between 0 and 1 is 27 which is not that huge but still the dataset is inbalance.We will solve this when we start working on our dataset."
   ]
  },
  {
   "cell_type": "code",
   "execution_count": 90,
   "id": "special-assist",
   "metadata": {},
   "outputs": [
    {
     "data": {
      "text/html": [
       "<div>\n",
       "<style scoped>\n",
       "    .dataframe tbody tr th:only-of-type {\n",
       "        vertical-align: middle;\n",
       "    }\n",
       "\n",
       "    .dataframe tbody tr th {\n",
       "        vertical-align: top;\n",
       "    }\n",
       "\n",
       "    .dataframe thead th {\n",
       "        text-align: right;\n",
       "    }\n",
       "</style>\n",
       "<table border=\"1\" class=\"dataframe\">\n",
       "  <thead>\n",
       "    <tr style=\"text-align: right;\">\n",
       "      <th></th>\n",
       "      <th>age</th>\n",
       "      <th>sex</th>\n",
       "      <th>cp</th>\n",
       "      <th>trestbps</th>\n",
       "      <th>chol</th>\n",
       "      <th>fbs</th>\n",
       "      <th>restecg</th>\n",
       "      <th>thalach</th>\n",
       "      <th>exang</th>\n",
       "      <th>oldpeak</th>\n",
       "      <th>slope</th>\n",
       "      <th>ca</th>\n",
       "      <th>thal</th>\n",
       "      <th>target</th>\n",
       "    </tr>\n",
       "  </thead>\n",
       "  <tbody>\n",
       "    <tr>\n",
       "      <th>age</th>\n",
       "      <td>1.000000</td>\n",
       "      <td>-0.098447</td>\n",
       "      <td>-0.068653</td>\n",
       "      <td>0.279351</td>\n",
       "      <td>0.213678</td>\n",
       "      <td>0.121308</td>\n",
       "      <td>-0.116211</td>\n",
       "      <td>-0.398522</td>\n",
       "      <td>0.096801</td>\n",
       "      <td>0.210013</td>\n",
       "      <td>-0.168814</td>\n",
       "      <td>0.276326</td>\n",
       "      <td>0.068001</td>\n",
       "      <td>-0.225439</td>\n",
       "    </tr>\n",
       "    <tr>\n",
       "      <th>sex</th>\n",
       "      <td>-0.098447</td>\n",
       "      <td>1.000000</td>\n",
       "      <td>-0.049353</td>\n",
       "      <td>-0.056769</td>\n",
       "      <td>-0.197912</td>\n",
       "      <td>0.045032</td>\n",
       "      <td>-0.058196</td>\n",
       "      <td>-0.044020</td>\n",
       "      <td>0.141664</td>\n",
       "      <td>0.096093</td>\n",
       "      <td>-0.030711</td>\n",
       "      <td>0.118261</td>\n",
       "      <td>0.210041</td>\n",
       "      <td>-0.280937</td>\n",
       "    </tr>\n",
       "    <tr>\n",
       "      <th>cp</th>\n",
       "      <td>-0.068653</td>\n",
       "      <td>-0.049353</td>\n",
       "      <td>1.000000</td>\n",
       "      <td>0.047608</td>\n",
       "      <td>-0.076904</td>\n",
       "      <td>0.094444</td>\n",
       "      <td>0.044421</td>\n",
       "      <td>0.295762</td>\n",
       "      <td>-0.394280</td>\n",
       "      <td>-0.149230</td>\n",
       "      <td>0.119717</td>\n",
       "      <td>-0.181053</td>\n",
       "      <td>-0.161736</td>\n",
       "      <td>0.433798</td>\n",
       "    </tr>\n",
       "    <tr>\n",
       "      <th>trestbps</th>\n",
       "      <td>0.279351</td>\n",
       "      <td>-0.056769</td>\n",
       "      <td>0.047608</td>\n",
       "      <td>1.000000</td>\n",
       "      <td>0.123174</td>\n",
       "      <td>0.177531</td>\n",
       "      <td>-0.114103</td>\n",
       "      <td>-0.046698</td>\n",
       "      <td>0.067616</td>\n",
       "      <td>0.193216</td>\n",
       "      <td>-0.121475</td>\n",
       "      <td>0.101389</td>\n",
       "      <td>0.062210</td>\n",
       "      <td>-0.144931</td>\n",
       "    </tr>\n",
       "    <tr>\n",
       "      <th>chol</th>\n",
       "      <td>0.213678</td>\n",
       "      <td>-0.197912</td>\n",
       "      <td>-0.076904</td>\n",
       "      <td>0.123174</td>\n",
       "      <td>1.000000</td>\n",
       "      <td>0.013294</td>\n",
       "      <td>-0.151040</td>\n",
       "      <td>-0.009940</td>\n",
       "      <td>0.067023</td>\n",
       "      <td>0.053952</td>\n",
       "      <td>-0.004038</td>\n",
       "      <td>0.070511</td>\n",
       "      <td>0.098803</td>\n",
       "      <td>-0.085239</td>\n",
       "    </tr>\n",
       "    <tr>\n",
       "      <th>fbs</th>\n",
       "      <td>0.121308</td>\n",
       "      <td>0.045032</td>\n",
       "      <td>0.094444</td>\n",
       "      <td>0.177531</td>\n",
       "      <td>0.013294</td>\n",
       "      <td>1.000000</td>\n",
       "      <td>-0.084189</td>\n",
       "      <td>-0.008567</td>\n",
       "      <td>0.025665</td>\n",
       "      <td>0.005747</td>\n",
       "      <td>-0.059894</td>\n",
       "      <td>0.137979</td>\n",
       "      <td>-0.032019</td>\n",
       "      <td>-0.028046</td>\n",
       "    </tr>\n",
       "    <tr>\n",
       "      <th>restecg</th>\n",
       "      <td>-0.116211</td>\n",
       "      <td>-0.058196</td>\n",
       "      <td>0.044421</td>\n",
       "      <td>-0.114103</td>\n",
       "      <td>-0.151040</td>\n",
       "      <td>-0.084189</td>\n",
       "      <td>1.000000</td>\n",
       "      <td>0.044123</td>\n",
       "      <td>-0.070733</td>\n",
       "      <td>-0.058770</td>\n",
       "      <td>0.093045</td>\n",
       "      <td>-0.072042</td>\n",
       "      <td>-0.011981</td>\n",
       "      <td>0.137230</td>\n",
       "    </tr>\n",
       "    <tr>\n",
       "      <th>thalach</th>\n",
       "      <td>-0.398522</td>\n",
       "      <td>-0.044020</td>\n",
       "      <td>0.295762</td>\n",
       "      <td>-0.046698</td>\n",
       "      <td>-0.009940</td>\n",
       "      <td>-0.008567</td>\n",
       "      <td>0.044123</td>\n",
       "      <td>1.000000</td>\n",
       "      <td>-0.378812</td>\n",
       "      <td>-0.344187</td>\n",
       "      <td>0.386784</td>\n",
       "      <td>-0.213177</td>\n",
       "      <td>-0.096439</td>\n",
       "      <td>0.421741</td>\n",
       "    </tr>\n",
       "    <tr>\n",
       "      <th>exang</th>\n",
       "      <td>0.096801</td>\n",
       "      <td>0.141664</td>\n",
       "      <td>-0.394280</td>\n",
       "      <td>0.067616</td>\n",
       "      <td>0.067023</td>\n",
       "      <td>0.025665</td>\n",
       "      <td>-0.070733</td>\n",
       "      <td>-0.378812</td>\n",
       "      <td>1.000000</td>\n",
       "      <td>0.288223</td>\n",
       "      <td>-0.257748</td>\n",
       "      <td>0.115739</td>\n",
       "      <td>0.206754</td>\n",
       "      <td>-0.436757</td>\n",
       "    </tr>\n",
       "    <tr>\n",
       "      <th>oldpeak</th>\n",
       "      <td>0.210013</td>\n",
       "      <td>0.096093</td>\n",
       "      <td>-0.149230</td>\n",
       "      <td>0.193216</td>\n",
       "      <td>0.053952</td>\n",
       "      <td>0.005747</td>\n",
       "      <td>-0.058770</td>\n",
       "      <td>-0.344187</td>\n",
       "      <td>0.288223</td>\n",
       "      <td>1.000000</td>\n",
       "      <td>-0.577537</td>\n",
       "      <td>0.222682</td>\n",
       "      <td>0.210244</td>\n",
       "      <td>-0.430696</td>\n",
       "    </tr>\n",
       "    <tr>\n",
       "      <th>slope</th>\n",
       "      <td>-0.168814</td>\n",
       "      <td>-0.030711</td>\n",
       "      <td>0.119717</td>\n",
       "      <td>-0.121475</td>\n",
       "      <td>-0.004038</td>\n",
       "      <td>-0.059894</td>\n",
       "      <td>0.093045</td>\n",
       "      <td>0.386784</td>\n",
       "      <td>-0.257748</td>\n",
       "      <td>-0.577537</td>\n",
       "      <td>1.000000</td>\n",
       "      <td>-0.080155</td>\n",
       "      <td>-0.104764</td>\n",
       "      <td>0.345877</td>\n",
       "    </tr>\n",
       "    <tr>\n",
       "      <th>ca</th>\n",
       "      <td>0.276326</td>\n",
       "      <td>0.118261</td>\n",
       "      <td>-0.181053</td>\n",
       "      <td>0.101389</td>\n",
       "      <td>0.070511</td>\n",
       "      <td>0.137979</td>\n",
       "      <td>-0.072042</td>\n",
       "      <td>-0.213177</td>\n",
       "      <td>0.115739</td>\n",
       "      <td>0.222682</td>\n",
       "      <td>-0.080155</td>\n",
       "      <td>1.000000</td>\n",
       "      <td>0.151832</td>\n",
       "      <td>-0.391724</td>\n",
       "    </tr>\n",
       "    <tr>\n",
       "      <th>thal</th>\n",
       "      <td>0.068001</td>\n",
       "      <td>0.210041</td>\n",
       "      <td>-0.161736</td>\n",
       "      <td>0.062210</td>\n",
       "      <td>0.098803</td>\n",
       "      <td>-0.032019</td>\n",
       "      <td>-0.011981</td>\n",
       "      <td>-0.096439</td>\n",
       "      <td>0.206754</td>\n",
       "      <td>0.210244</td>\n",
       "      <td>-0.104764</td>\n",
       "      <td>0.151832</td>\n",
       "      <td>1.000000</td>\n",
       "      <td>-0.344029</td>\n",
       "    </tr>\n",
       "    <tr>\n",
       "      <th>target</th>\n",
       "      <td>-0.225439</td>\n",
       "      <td>-0.280937</td>\n",
       "      <td>0.433798</td>\n",
       "      <td>-0.144931</td>\n",
       "      <td>-0.085239</td>\n",
       "      <td>-0.028046</td>\n",
       "      <td>0.137230</td>\n",
       "      <td>0.421741</td>\n",
       "      <td>-0.436757</td>\n",
       "      <td>-0.430696</td>\n",
       "      <td>0.345877</td>\n",
       "      <td>-0.391724</td>\n",
       "      <td>-0.344029</td>\n",
       "      <td>1.000000</td>\n",
       "    </tr>\n",
       "  </tbody>\n",
       "</table>\n",
       "</div>"
      ],
      "text/plain": [
       "               age       sex        cp  trestbps      chol       fbs  \\\n",
       "age       1.000000 -0.098447 -0.068653  0.279351  0.213678  0.121308   \n",
       "sex      -0.098447  1.000000 -0.049353 -0.056769 -0.197912  0.045032   \n",
       "cp       -0.068653 -0.049353  1.000000  0.047608 -0.076904  0.094444   \n",
       "trestbps  0.279351 -0.056769  0.047608  1.000000  0.123174  0.177531   \n",
       "chol      0.213678 -0.197912 -0.076904  0.123174  1.000000  0.013294   \n",
       "fbs       0.121308  0.045032  0.094444  0.177531  0.013294  1.000000   \n",
       "restecg  -0.116211 -0.058196  0.044421 -0.114103 -0.151040 -0.084189   \n",
       "thalach  -0.398522 -0.044020  0.295762 -0.046698 -0.009940 -0.008567   \n",
       "exang     0.096801  0.141664 -0.394280  0.067616  0.067023  0.025665   \n",
       "oldpeak   0.210013  0.096093 -0.149230  0.193216  0.053952  0.005747   \n",
       "slope    -0.168814 -0.030711  0.119717 -0.121475 -0.004038 -0.059894   \n",
       "ca        0.276326  0.118261 -0.181053  0.101389  0.070511  0.137979   \n",
       "thal      0.068001  0.210041 -0.161736  0.062210  0.098803 -0.032019   \n",
       "target   -0.225439 -0.280937  0.433798 -0.144931 -0.085239 -0.028046   \n",
       "\n",
       "           restecg   thalach     exang   oldpeak     slope        ca  \\\n",
       "age      -0.116211 -0.398522  0.096801  0.210013 -0.168814  0.276326   \n",
       "sex      -0.058196 -0.044020  0.141664  0.096093 -0.030711  0.118261   \n",
       "cp        0.044421  0.295762 -0.394280 -0.149230  0.119717 -0.181053   \n",
       "trestbps -0.114103 -0.046698  0.067616  0.193216 -0.121475  0.101389   \n",
       "chol     -0.151040 -0.009940  0.067023  0.053952 -0.004038  0.070511   \n",
       "fbs      -0.084189 -0.008567  0.025665  0.005747 -0.059894  0.137979   \n",
       "restecg   1.000000  0.044123 -0.070733 -0.058770  0.093045 -0.072042   \n",
       "thalach   0.044123  1.000000 -0.378812 -0.344187  0.386784 -0.213177   \n",
       "exang    -0.070733 -0.378812  1.000000  0.288223 -0.257748  0.115739   \n",
       "oldpeak  -0.058770 -0.344187  0.288223  1.000000 -0.577537  0.222682   \n",
       "slope     0.093045  0.386784 -0.257748 -0.577537  1.000000 -0.080155   \n",
       "ca       -0.072042 -0.213177  0.115739  0.222682 -0.080155  1.000000   \n",
       "thal     -0.011981 -0.096439  0.206754  0.210244 -0.104764  0.151832   \n",
       "target    0.137230  0.421741 -0.436757 -0.430696  0.345877 -0.391724   \n",
       "\n",
       "              thal    target  \n",
       "age       0.068001 -0.225439  \n",
       "sex       0.210041 -0.280937  \n",
       "cp       -0.161736  0.433798  \n",
       "trestbps  0.062210 -0.144931  \n",
       "chol      0.098803 -0.085239  \n",
       "fbs      -0.032019 -0.028046  \n",
       "restecg  -0.011981  0.137230  \n",
       "thalach  -0.096439  0.421741  \n",
       "exang     0.206754 -0.436757  \n",
       "oldpeak   0.210244 -0.430696  \n",
       "slope    -0.104764  0.345877  \n",
       "ca        0.151832 -0.391724  \n",
       "thal      1.000000 -0.344029  \n",
       "target   -0.344029  1.000000  "
      ]
     },
     "execution_count": 90,
     "metadata": {},
     "output_type": "execute_result"
    }
   ],
   "source": [
    "#Lets find the correlation between the features in the dataset\n",
    "heart_dis.corr()"
   ]
  },
  {
   "cell_type": "code",
   "execution_count": 297,
   "id": "conservative-height",
   "metadata": {},
   "outputs": [
    {
     "data": {
      "text/html": [
       "<div>\n",
       "<style scoped>\n",
       "    .dataframe tbody tr th:only-of-type {\n",
       "        vertical-align: middle;\n",
       "    }\n",
       "\n",
       "    .dataframe tbody tr th {\n",
       "        vertical-align: top;\n",
       "    }\n",
       "\n",
       "    .dataframe thead th {\n",
       "        text-align: right;\n",
       "    }\n",
       "</style>\n",
       "<table border=\"1\" class=\"dataframe\">\n",
       "  <thead>\n",
       "    <tr style=\"text-align: right;\">\n",
       "      <th></th>\n",
       "      <th>count</th>\n",
       "      <th>mean</th>\n",
       "      <th>std</th>\n",
       "      <th>min</th>\n",
       "      <th>25%</th>\n",
       "      <th>50%</th>\n",
       "      <th>75%</th>\n",
       "      <th>max</th>\n",
       "    </tr>\n",
       "  </thead>\n",
       "  <tbody>\n",
       "    <tr>\n",
       "      <th>age</th>\n",
       "      <td>303.0</td>\n",
       "      <td>54.366337</td>\n",
       "      <td>9.082101</td>\n",
       "      <td>29.0</td>\n",
       "      <td>47.5</td>\n",
       "      <td>55.0</td>\n",
       "      <td>61.0</td>\n",
       "      <td>77.0</td>\n",
       "    </tr>\n",
       "    <tr>\n",
       "      <th>sex</th>\n",
       "      <td>303.0</td>\n",
       "      <td>0.683168</td>\n",
       "      <td>0.466011</td>\n",
       "      <td>0.0</td>\n",
       "      <td>0.0</td>\n",
       "      <td>1.0</td>\n",
       "      <td>1.0</td>\n",
       "      <td>1.0</td>\n",
       "    </tr>\n",
       "    <tr>\n",
       "      <th>cp</th>\n",
       "      <td>303.0</td>\n",
       "      <td>0.966997</td>\n",
       "      <td>1.032052</td>\n",
       "      <td>0.0</td>\n",
       "      <td>0.0</td>\n",
       "      <td>1.0</td>\n",
       "      <td>2.0</td>\n",
       "      <td>3.0</td>\n",
       "    </tr>\n",
       "    <tr>\n",
       "      <th>trestbps</th>\n",
       "      <td>303.0</td>\n",
       "      <td>131.623762</td>\n",
       "      <td>17.538143</td>\n",
       "      <td>94.0</td>\n",
       "      <td>120.0</td>\n",
       "      <td>130.0</td>\n",
       "      <td>140.0</td>\n",
       "      <td>200.0</td>\n",
       "    </tr>\n",
       "    <tr>\n",
       "      <th>chol</th>\n",
       "      <td>303.0</td>\n",
       "      <td>246.264026</td>\n",
       "      <td>51.830751</td>\n",
       "      <td>126.0</td>\n",
       "      <td>211.0</td>\n",
       "      <td>240.0</td>\n",
       "      <td>274.5</td>\n",
       "      <td>564.0</td>\n",
       "    </tr>\n",
       "    <tr>\n",
       "      <th>fbs</th>\n",
       "      <td>303.0</td>\n",
       "      <td>0.148515</td>\n",
       "      <td>0.356198</td>\n",
       "      <td>0.0</td>\n",
       "      <td>0.0</td>\n",
       "      <td>0.0</td>\n",
       "      <td>0.0</td>\n",
       "      <td>1.0</td>\n",
       "    </tr>\n",
       "    <tr>\n",
       "      <th>restecg</th>\n",
       "      <td>303.0</td>\n",
       "      <td>0.528053</td>\n",
       "      <td>0.525860</td>\n",
       "      <td>0.0</td>\n",
       "      <td>0.0</td>\n",
       "      <td>1.0</td>\n",
       "      <td>1.0</td>\n",
       "      <td>2.0</td>\n",
       "    </tr>\n",
       "    <tr>\n",
       "      <th>thalach</th>\n",
       "      <td>303.0</td>\n",
       "      <td>149.646865</td>\n",
       "      <td>22.905161</td>\n",
       "      <td>71.0</td>\n",
       "      <td>133.5</td>\n",
       "      <td>153.0</td>\n",
       "      <td>166.0</td>\n",
       "      <td>202.0</td>\n",
       "    </tr>\n",
       "    <tr>\n",
       "      <th>exang</th>\n",
       "      <td>303.0</td>\n",
       "      <td>0.326733</td>\n",
       "      <td>0.469794</td>\n",
       "      <td>0.0</td>\n",
       "      <td>0.0</td>\n",
       "      <td>0.0</td>\n",
       "      <td>1.0</td>\n",
       "      <td>1.0</td>\n",
       "    </tr>\n",
       "    <tr>\n",
       "      <th>oldpeak</th>\n",
       "      <td>303.0</td>\n",
       "      <td>1.039604</td>\n",
       "      <td>1.161075</td>\n",
       "      <td>0.0</td>\n",
       "      <td>0.0</td>\n",
       "      <td>0.8</td>\n",
       "      <td>1.6</td>\n",
       "      <td>6.2</td>\n",
       "    </tr>\n",
       "    <tr>\n",
       "      <th>slope</th>\n",
       "      <td>303.0</td>\n",
       "      <td>1.399340</td>\n",
       "      <td>0.616226</td>\n",
       "      <td>0.0</td>\n",
       "      <td>1.0</td>\n",
       "      <td>1.0</td>\n",
       "      <td>2.0</td>\n",
       "      <td>2.0</td>\n",
       "    </tr>\n",
       "    <tr>\n",
       "      <th>ca</th>\n",
       "      <td>303.0</td>\n",
       "      <td>0.729373</td>\n",
       "      <td>1.022606</td>\n",
       "      <td>0.0</td>\n",
       "      <td>0.0</td>\n",
       "      <td>0.0</td>\n",
       "      <td>1.0</td>\n",
       "      <td>4.0</td>\n",
       "    </tr>\n",
       "    <tr>\n",
       "      <th>thal</th>\n",
       "      <td>303.0</td>\n",
       "      <td>2.313531</td>\n",
       "      <td>0.612277</td>\n",
       "      <td>0.0</td>\n",
       "      <td>2.0</td>\n",
       "      <td>2.0</td>\n",
       "      <td>3.0</td>\n",
       "      <td>3.0</td>\n",
       "    </tr>\n",
       "    <tr>\n",
       "      <th>target</th>\n",
       "      <td>303.0</td>\n",
       "      <td>0.544554</td>\n",
       "      <td>0.498835</td>\n",
       "      <td>0.0</td>\n",
       "      <td>0.0</td>\n",
       "      <td>1.0</td>\n",
       "      <td>1.0</td>\n",
       "      <td>1.0</td>\n",
       "    </tr>\n",
       "  </tbody>\n",
       "</table>\n",
       "</div>"
      ],
      "text/plain": [
       "          count        mean        std    min    25%    50%    75%    max\n",
       "age       303.0   54.366337   9.082101   29.0   47.5   55.0   61.0   77.0\n",
       "sex       303.0    0.683168   0.466011    0.0    0.0    1.0    1.0    1.0\n",
       "cp        303.0    0.966997   1.032052    0.0    0.0    1.0    2.0    3.0\n",
       "trestbps  303.0  131.623762  17.538143   94.0  120.0  130.0  140.0  200.0\n",
       "chol      303.0  246.264026  51.830751  126.0  211.0  240.0  274.5  564.0\n",
       "fbs       303.0    0.148515   0.356198    0.0    0.0    0.0    0.0    1.0\n",
       "restecg   303.0    0.528053   0.525860    0.0    0.0    1.0    1.0    2.0\n",
       "thalach   303.0  149.646865  22.905161   71.0  133.5  153.0  166.0  202.0\n",
       "exang     303.0    0.326733   0.469794    0.0    0.0    0.0    1.0    1.0\n",
       "oldpeak   303.0    1.039604   1.161075    0.0    0.0    0.8    1.6    6.2\n",
       "slope     303.0    1.399340   0.616226    0.0    1.0    1.0    2.0    2.0\n",
       "ca        303.0    0.729373   1.022606    0.0    0.0    0.0    1.0    4.0\n",
       "thal      303.0    2.313531   0.612277    0.0    2.0    2.0    3.0    3.0\n",
       "target    303.0    0.544554   0.498835    0.0    0.0    1.0    1.0    1.0"
      ]
     },
     "execution_count": 297,
     "metadata": {},
     "output_type": "execute_result"
    }
   ],
   "source": [
    "#Lets display the five summary(min, max, lower quatile, upper quatile and the median) also\n",
    "#with other informations such as the count, mean and standard devuation of each features.\n",
    "heart_dis.describe().T"
   ]
  },
  {
   "cell_type": "code",
   "execution_count": 300,
   "id": "proof-myrtle",
   "metadata": {},
   "outputs": [
    {
     "data": {
      "image/png": "[encoded data removed]",
      "text/plain": [
       "<Figure size 1152x432 with 2 Axes>"
      ]
     },
     "metadata": {
      "needs_background": "light"
     },
     "output_type": "display_data"
    }
   ],
   "source": [
    "#Using heatmap to visualize highly correlated features with threshold of 95% and remove them all\n",
    "heart_cor = heart_dis.corr()\n",
    "plt.figure(figsize=(16, 6))\n",
    "sns.set(style=\"darkgrid\")\n",
    "sns.heatmap(heart_cor, annot=True, square=False, linewidths=1)\n",
    "plt.show()"
   ]
  },
  {
   "cell_type": "markdown",
   "id": "legitimate-fence",
   "metadata": {},
   "source": [
    "Our correlation threshold is **95%** but from the above the correlation between the features are not high. Hence there is **low negative and positive correlation** in our dataset. Since it does not meet our threshold we cannot delete/remove any features from our datasets."
   ]
  },
  {
   "cell_type": "code",
   "execution_count": 6,
   "id": "eligible-boards",
   "metadata": {},
   "outputs": [],
   "source": [
    "#Split data into features and labels thats x=independent variables and y=dependent variable\n",
    "x=heart_dis.drop('target', axis=1)\n",
    "y=heart_dis['target']"
   ]
  },
  {
   "cell_type": "code",
   "execution_count": 93,
   "id": "adequate-intranet",
   "metadata": {},
   "outputs": [
    {
     "data": {
      "text/plain": [
       "0    1\n",
       "1    1\n",
       "2    1\n",
       "3    1\n",
       "4    1\n",
       "Name: target, dtype: int64"
      ]
     },
     "execution_count": 93,
     "metadata": {},
     "output_type": "execute_result"
    }
   ],
   "source": [
    "#Display y values\n",
    "y.head()"
   ]
  },
  {
   "cell_type": "code",
   "execution_count": 94,
   "id": "molecular-martin",
   "metadata": {},
   "outputs": [
    {
     "data": {
      "text/html": [
       "<div>\n",
       "<style scoped>\n",
       "    .dataframe tbody tr th:only-of-type {\n",
       "        vertical-align: middle;\n",
       "    }\n",
       "\n",
       "    .dataframe tbody tr th {\n",
       "        vertical-align: top;\n",
       "    }\n",
       "\n",
       "    .dataframe thead th {\n",
       "        text-align: right;\n",
       "    }\n",
       "</style>\n",
       "<table border=\"1\" class=\"dataframe\">\n",
       "  <thead>\n",
       "    <tr style=\"text-align: right;\">\n",
       "      <th></th>\n",
       "      <th>age</th>\n",
       "      <th>sex</th>\n",
       "      <th>cp</th>\n",
       "      <th>trestbps</th>\n",
       "      <th>chol</th>\n",
       "      <th>fbs</th>\n",
       "      <th>restecg</th>\n",
       "      <th>thalach</th>\n",
       "      <th>exang</th>\n",
       "      <th>oldpeak</th>\n",
       "      <th>slope</th>\n",
       "      <th>ca</th>\n",
       "      <th>thal</th>\n",
       "    </tr>\n",
       "  </thead>\n",
       "  <tbody>\n",
       "    <tr>\n",
       "      <th>0</th>\n",
       "      <td>63</td>\n",
       "      <td>1</td>\n",
       "      <td>3</td>\n",
       "      <td>145</td>\n",
       "      <td>233</td>\n",
       "      <td>1</td>\n",
       "      <td>0</td>\n",
       "      <td>150</td>\n",
       "      <td>0</td>\n",
       "      <td>2.3</td>\n",
       "      <td>0</td>\n",
       "      <td>0</td>\n",
       "      <td>1</td>\n",
       "    </tr>\n",
       "    <tr>\n",
       "      <th>1</th>\n",
       "      <td>37</td>\n",
       "      <td>1</td>\n",
       "      <td>2</td>\n",
       "      <td>130</td>\n",
       "      <td>250</td>\n",
       "      <td>0</td>\n",
       "      <td>1</td>\n",
       "      <td>187</td>\n",
       "      <td>0</td>\n",
       "      <td>3.5</td>\n",
       "      <td>0</td>\n",
       "      <td>0</td>\n",
       "      <td>2</td>\n",
       "    </tr>\n",
       "    <tr>\n",
       "      <th>2</th>\n",
       "      <td>41</td>\n",
       "      <td>0</td>\n",
       "      <td>1</td>\n",
       "      <td>130</td>\n",
       "      <td>204</td>\n",
       "      <td>0</td>\n",
       "      <td>0</td>\n",
       "      <td>172</td>\n",
       "      <td>0</td>\n",
       "      <td>1.4</td>\n",
       "      <td>2</td>\n",
       "      <td>0</td>\n",
       "      <td>2</td>\n",
       "    </tr>\n",
       "    <tr>\n",
       "      <th>3</th>\n",
       "      <td>56</td>\n",
       "      <td>1</td>\n",
       "      <td>1</td>\n",
       "      <td>120</td>\n",
       "      <td>236</td>\n",
       "      <td>0</td>\n",
       "      <td>1</td>\n",
       "      <td>178</td>\n",
       "      <td>0</td>\n",
       "      <td>0.8</td>\n",
       "      <td>2</td>\n",
       "      <td>0</td>\n",
       "      <td>2</td>\n",
       "    </tr>\n",
       "    <tr>\n",
       "      <th>4</th>\n",
       "      <td>57</td>\n",
       "      <td>0</td>\n",
       "      <td>0</td>\n",
       "      <td>120</td>\n",
       "      <td>354</td>\n",
       "      <td>0</td>\n",
       "      <td>1</td>\n",
       "      <td>163</td>\n",
       "      <td>1</td>\n",
       "      <td>0.6</td>\n",
       "      <td>2</td>\n",
       "      <td>0</td>\n",
       "      <td>2</td>\n",
       "    </tr>\n",
       "  </tbody>\n",
       "</table>\n",
       "</div>"
      ],
      "text/plain": [
       "   age  sex  cp  trestbps  chol  fbs  restecg  thalach  exang  oldpeak  slope  \\\n",
       "0   63    1   3       145   233    1        0      150      0      2.3      0   \n",
       "1   37    1   2       130   250    0        1      187      0      3.5      0   \n",
       "2   41    0   1       130   204    0        0      172      0      1.4      2   \n",
       "3   56    1   1       120   236    0        1      178      0      0.8      2   \n",
       "4   57    0   0       120   354    0        1      163      1      0.6      2   \n",
       "\n",
       "   ca  thal  \n",
       "0   0     1  \n",
       "1   0     2  \n",
       "2   0     2  \n",
       "3   0     2  \n",
       "4   0     2  "
      ]
     },
     "execution_count": 94,
     "metadata": {},
     "output_type": "execute_result"
    }
   ],
   "source": [
    "#Display x values\n",
    "x.head()"
   ]
  },
  {
   "cell_type": "markdown",
   "id": "floral-drilling",
   "metadata": {},
   "source": [
    "# Feature Selection.\n",
    "Now that we are done exploring our dataset, we are going to perform our feature selections thats taking the most relevant features to be used in our model using the filtering technique(removing all **Constant**, **Quasi**, and **Duplicated features**). We are going to use **VarianceThreshold** from sklearn feature selection.\n",
    "\n",
    "# Constant features.\n",
    "Constant features are fetures having one magnitude or value thats if it contains 1, it will be one throughout."
   ]
  },
  {
   "cell_type": "code",
   "execution_count": 95,
   "id": "impressed-cleaner",
   "metadata": {},
   "outputs": [
    {
     "data": {
      "text/plain": [
       "VarianceThreshold(threshold=0)"
      ]
     },
     "execution_count": 95,
     "metadata": {},
     "output_type": "execute_result"
    }
   ],
   "source": [
    "#initialize variance threshold\n",
    "filtering_const = VarianceThreshold(threshold=0)\n",
    "\n",
    "#Fit our threshold\n",
    "filtering_const.fit(x)"
   ]
  },
  {
   "cell_type": "code",
   "execution_count": 96,
   "id": "worth-sympathy",
   "metadata": {},
   "outputs": [
    {
     "data": {
      "text/plain": [
       "array([ True,  True,  True,  True,  True,  True,  True,  True,  True,\n",
       "        True,  True,  True,  True])"
      ]
     },
     "execution_count": 96,
     "metadata": {},
     "output_type": "execute_result"
    }
   ],
   "source": [
    "#Display constant features as false and non constant features as true\n",
    "filtering_const.get_support()"
   ]
  },
  {
   "cell_type": "markdown",
   "id": "conventional-safety",
   "metadata": {},
   "source": [
    "from the above there are no constant features in our dataset hence only non constant features. Lets try to print the non constant features and have a look. Its just like using the x.columns to display it."
   ]
  },
  {
   "cell_type": "code",
   "execution_count": 97,
   "id": "junior-protection",
   "metadata": {},
   "outputs": [
    {
     "data": {
      "text/plain": [
       "Index(['age', 'sex', 'cp', 'trestbps', 'chol', 'fbs', 'restecg', 'thalach',\n",
       "       'exang', 'oldpeak', 'slope', 'ca', 'thal'],\n",
       "      dtype='object')"
      ]
     },
     "execution_count": 97,
     "metadata": {},
     "output_type": "execute_result"
    }
   ],
   "source": [
    "x.columns[filtering_const.get_support()]"
   ]
  },
  {
   "cell_type": "markdown",
   "id": "sharing-surface",
   "metadata": {},
   "source": [
    "# Quasi Features.\n",
    "Quasi features are features with almost constant features."
   ]
  },
  {
   "cell_type": "code",
   "execution_count": 98,
   "id": "stuck-glance",
   "metadata": {},
   "outputs": [
    {
     "data": {
      "text/plain": [
       "VarianceThreshold(threshold=0.09)"
      ]
     },
     "execution_count": 98,
     "metadata": {},
     "output_type": "execute_result"
    }
   ],
   "source": [
    "#Initiallize quasi feature\n",
    "filter_quasi = VarianceThreshold(threshold=0.09)\n",
    "\n",
    "#Fit Quasi feature\n",
    "filter_quasi.fit(x)"
   ]
  },
  {
   "cell_type": "code",
   "execution_count": 99,
   "id": "guilty-increase",
   "metadata": {},
   "outputs": [
    {
     "data": {
      "text/plain": [
       "array([ True,  True,  True,  True,  True,  True,  True,  True,  True,\n",
       "        True,  True,  True,  True])"
      ]
     },
     "execution_count": 99,
     "metadata": {},
     "output_type": "execute_result"
    }
   ],
   "source": [
    "#Display quasi features as false and non constant features as true\n",
    "filter_quasi.get_support()"
   ]
  },
  {
   "cell_type": "markdown",
   "id": "ultimate-correction",
   "metadata": {},
   "source": [
    "from the above there are no Quasi features in our dataset hence only non Quasi features. Lets try to print the non Quasi features and have a look. Its just like using the x.columns to display it."
   ]
  },
  {
   "cell_type": "markdown",
   "id": "infinite-lighting",
   "metadata": {},
   "source": [
    "# Duplicated Features\n",
    "Duplicated features are features containing the same values."
   ]
  },
  {
   "cell_type": "code",
   "execution_count": 100,
   "id": "worldwide-behalf",
   "metadata": {},
   "outputs": [
    {
     "data": {
      "text/html": [
       "<div>\n",
       "<style scoped>\n",
       "    .dataframe tbody tr th:only-of-type {\n",
       "        vertical-align: middle;\n",
       "    }\n",
       "\n",
       "    .dataframe tbody tr th {\n",
       "        vertical-align: top;\n",
       "    }\n",
       "\n",
       "    .dataframe thead th {\n",
       "        text-align: right;\n",
       "    }\n",
       "</style>\n",
       "<table border=\"1\" class=\"dataframe\">\n",
       "  <thead>\n",
       "    <tr style=\"text-align: right;\">\n",
       "      <th></th>\n",
       "      <th>0</th>\n",
       "      <th>1</th>\n",
       "      <th>2</th>\n",
       "      <th>3</th>\n",
       "      <th>4</th>\n",
       "      <th>5</th>\n",
       "      <th>6</th>\n",
       "      <th>7</th>\n",
       "      <th>8</th>\n",
       "      <th>9</th>\n",
       "      <th>...</th>\n",
       "      <th>293</th>\n",
       "      <th>294</th>\n",
       "      <th>295</th>\n",
       "      <th>296</th>\n",
       "      <th>297</th>\n",
       "      <th>298</th>\n",
       "      <th>299</th>\n",
       "      <th>300</th>\n",
       "      <th>301</th>\n",
       "      <th>302</th>\n",
       "    </tr>\n",
       "  </thead>\n",
       "  <tbody>\n",
       "    <tr>\n",
       "      <th>age</th>\n",
       "      <td>63.0</td>\n",
       "      <td>37.0</td>\n",
       "      <td>41.0</td>\n",
       "      <td>56.0</td>\n",
       "      <td>57.0</td>\n",
       "      <td>57.0</td>\n",
       "      <td>56.0</td>\n",
       "      <td>44.0</td>\n",
       "      <td>52.0</td>\n",
       "      <td>57.0</td>\n",
       "      <td>...</td>\n",
       "      <td>67.0</td>\n",
       "      <td>44.0</td>\n",
       "      <td>63.0</td>\n",
       "      <td>63.0</td>\n",
       "      <td>59.0</td>\n",
       "      <td>57.0</td>\n",
       "      <td>45.0</td>\n",
       "      <td>68.0</td>\n",
       "      <td>57.0</td>\n",
       "      <td>57.0</td>\n",
       "    </tr>\n",
       "    <tr>\n",
       "      <th>sex</th>\n",
       "      <td>1.0</td>\n",
       "      <td>1.0</td>\n",
       "      <td>0.0</td>\n",
       "      <td>1.0</td>\n",
       "      <td>0.0</td>\n",
       "      <td>1.0</td>\n",
       "      <td>0.0</td>\n",
       "      <td>1.0</td>\n",
       "      <td>1.0</td>\n",
       "      <td>1.0</td>\n",
       "      <td>...</td>\n",
       "      <td>1.0</td>\n",
       "      <td>1.0</td>\n",
       "      <td>1.0</td>\n",
       "      <td>0.0</td>\n",
       "      <td>1.0</td>\n",
       "      <td>0.0</td>\n",
       "      <td>1.0</td>\n",
       "      <td>1.0</td>\n",
       "      <td>1.0</td>\n",
       "      <td>0.0</td>\n",
       "    </tr>\n",
       "    <tr>\n",
       "      <th>cp</th>\n",
       "      <td>3.0</td>\n",
       "      <td>2.0</td>\n",
       "      <td>1.0</td>\n",
       "      <td>1.0</td>\n",
       "      <td>0.0</td>\n",
       "      <td>0.0</td>\n",
       "      <td>1.0</td>\n",
       "      <td>1.0</td>\n",
       "      <td>2.0</td>\n",
       "      <td>2.0</td>\n",
       "      <td>...</td>\n",
       "      <td>2.0</td>\n",
       "      <td>0.0</td>\n",
       "      <td>0.0</td>\n",
       "      <td>0.0</td>\n",
       "      <td>0.0</td>\n",
       "      <td>0.0</td>\n",
       "      <td>3.0</td>\n",
       "      <td>0.0</td>\n",
       "      <td>0.0</td>\n",
       "      <td>1.0</td>\n",
       "    </tr>\n",
       "    <tr>\n",
       "      <th>trestbps</th>\n",
       "      <td>145.0</td>\n",
       "      <td>130.0</td>\n",
       "      <td>130.0</td>\n",
       "      <td>120.0</td>\n",
       "      <td>120.0</td>\n",
       "      <td>140.0</td>\n",
       "      <td>140.0</td>\n",
       "      <td>120.0</td>\n",
       "      <td>172.0</td>\n",
       "      <td>150.0</td>\n",
       "      <td>...</td>\n",
       "      <td>152.0</td>\n",
       "      <td>120.0</td>\n",
       "      <td>140.0</td>\n",
       "      <td>124.0</td>\n",
       "      <td>164.0</td>\n",
       "      <td>140.0</td>\n",
       "      <td>110.0</td>\n",
       "      <td>144.0</td>\n",
       "      <td>130.0</td>\n",
       "      <td>130.0</td>\n",
       "    </tr>\n",
       "    <tr>\n",
       "      <th>chol</th>\n",
       "      <td>233.0</td>\n",
       "      <td>250.0</td>\n",
       "      <td>204.0</td>\n",
       "      <td>236.0</td>\n",
       "      <td>354.0</td>\n",
       "      <td>192.0</td>\n",
       "      <td>294.0</td>\n",
       "      <td>263.0</td>\n",
       "      <td>199.0</td>\n",
       "      <td>168.0</td>\n",
       "      <td>...</td>\n",
       "      <td>212.0</td>\n",
       "      <td>169.0</td>\n",
       "      <td>187.0</td>\n",
       "      <td>197.0</td>\n",
       "      <td>176.0</td>\n",
       "      <td>241.0</td>\n",
       "      <td>264.0</td>\n",
       "      <td>193.0</td>\n",
       "      <td>131.0</td>\n",
       "      <td>236.0</td>\n",
       "    </tr>\n",
       "    <tr>\n",
       "      <th>fbs</th>\n",
       "      <td>1.0</td>\n",
       "      <td>0.0</td>\n",
       "      <td>0.0</td>\n",
       "      <td>0.0</td>\n",
       "      <td>0.0</td>\n",
       "      <td>0.0</td>\n",
       "      <td>0.0</td>\n",
       "      <td>0.0</td>\n",
       "      <td>1.0</td>\n",
       "      <td>0.0</td>\n",
       "      <td>...</td>\n",
       "      <td>0.0</td>\n",
       "      <td>0.0</td>\n",
       "      <td>0.0</td>\n",
       "      <td>0.0</td>\n",
       "      <td>1.0</td>\n",
       "      <td>0.0</td>\n",
       "      <td>0.0</td>\n",
       "      <td>1.0</td>\n",
       "      <td>0.0</td>\n",
       "      <td>0.0</td>\n",
       "    </tr>\n",
       "    <tr>\n",
       "      <th>restecg</th>\n",
       "      <td>0.0</td>\n",
       "      <td>1.0</td>\n",
       "      <td>0.0</td>\n",
       "      <td>1.0</td>\n",
       "      <td>1.0</td>\n",
       "      <td>1.0</td>\n",
       "      <td>0.0</td>\n",
       "      <td>1.0</td>\n",
       "      <td>1.0</td>\n",
       "      <td>1.0</td>\n",
       "      <td>...</td>\n",
       "      <td>0.0</td>\n",
       "      <td>1.0</td>\n",
       "      <td>0.0</td>\n",
       "      <td>1.0</td>\n",
       "      <td>0.0</td>\n",
       "      <td>1.0</td>\n",
       "      <td>1.0</td>\n",
       "      <td>1.0</td>\n",
       "      <td>1.0</td>\n",
       "      <td>0.0</td>\n",
       "    </tr>\n",
       "    <tr>\n",
       "      <th>thalach</th>\n",
       "      <td>150.0</td>\n",
       "      <td>187.0</td>\n",
       "      <td>172.0</td>\n",
       "      <td>178.0</td>\n",
       "      <td>163.0</td>\n",
       "      <td>148.0</td>\n",
       "      <td>153.0</td>\n",
       "      <td>173.0</td>\n",
       "      <td>162.0</td>\n",
       "      <td>174.0</td>\n",
       "      <td>...</td>\n",
       "      <td>150.0</td>\n",
       "      <td>144.0</td>\n",
       "      <td>144.0</td>\n",
       "      <td>136.0</td>\n",
       "      <td>90.0</td>\n",
       "      <td>123.0</td>\n",
       "      <td>132.0</td>\n",
       "      <td>141.0</td>\n",
       "      <td>115.0</td>\n",
       "      <td>174.0</td>\n",
       "    </tr>\n",
       "    <tr>\n",
       "      <th>exang</th>\n",
       "      <td>0.0</td>\n",
       "      <td>0.0</td>\n",
       "      <td>0.0</td>\n",
       "      <td>0.0</td>\n",
       "      <td>1.0</td>\n",
       "      <td>0.0</td>\n",
       "      <td>0.0</td>\n",
       "      <td>0.0</td>\n",
       "      <td>0.0</td>\n",
       "      <td>0.0</td>\n",
       "      <td>...</td>\n",
       "      <td>0.0</td>\n",
       "      <td>1.0</td>\n",
       "      <td>1.0</td>\n",
       "      <td>1.0</td>\n",
       "      <td>0.0</td>\n",
       "      <td>1.0</td>\n",
       "      <td>0.0</td>\n",
       "      <td>0.0</td>\n",
       "      <td>1.0</td>\n",
       "      <td>0.0</td>\n",
       "    </tr>\n",
       "    <tr>\n",
       "      <th>oldpeak</th>\n",
       "      <td>2.3</td>\n",
       "      <td>3.5</td>\n",
       "      <td>1.4</td>\n",
       "      <td>0.8</td>\n",
       "      <td>0.6</td>\n",
       "      <td>0.4</td>\n",
       "      <td>1.3</td>\n",
       "      <td>0.0</td>\n",
       "      <td>0.5</td>\n",
       "      <td>1.6</td>\n",
       "      <td>...</td>\n",
       "      <td>0.8</td>\n",
       "      <td>2.8</td>\n",
       "      <td>4.0</td>\n",
       "      <td>0.0</td>\n",
       "      <td>1.0</td>\n",
       "      <td>0.2</td>\n",
       "      <td>1.2</td>\n",
       "      <td>3.4</td>\n",
       "      <td>1.2</td>\n",
       "      <td>0.0</td>\n",
       "    </tr>\n",
       "    <tr>\n",
       "      <th>slope</th>\n",
       "      <td>0.0</td>\n",
       "      <td>0.0</td>\n",
       "      <td>2.0</td>\n",
       "      <td>2.0</td>\n",
       "      <td>2.0</td>\n",
       "      <td>1.0</td>\n",
       "      <td>1.0</td>\n",
       "      <td>2.0</td>\n",
       "      <td>2.0</td>\n",
       "      <td>2.0</td>\n",
       "      <td>...</td>\n",
       "      <td>1.0</td>\n",
       "      <td>0.0</td>\n",
       "      <td>2.0</td>\n",
       "      <td>1.0</td>\n",
       "      <td>1.0</td>\n",
       "      <td>1.0</td>\n",
       "      <td>1.0</td>\n",
       "      <td>1.0</td>\n",
       "      <td>1.0</td>\n",
       "      <td>1.0</td>\n",
       "    </tr>\n",
       "    <tr>\n",
       "      <th>ca</th>\n",
       "      <td>0.0</td>\n",
       "      <td>0.0</td>\n",
       "      <td>0.0</td>\n",
       "      <td>0.0</td>\n",
       "      <td>0.0</td>\n",
       "      <td>0.0</td>\n",
       "      <td>0.0</td>\n",
       "      <td>0.0</td>\n",
       "      <td>0.0</td>\n",
       "      <td>0.0</td>\n",
       "      <td>...</td>\n",
       "      <td>0.0</td>\n",
       "      <td>0.0</td>\n",
       "      <td>2.0</td>\n",
       "      <td>0.0</td>\n",
       "      <td>2.0</td>\n",
       "      <td>0.0</td>\n",
       "      <td>0.0</td>\n",
       "      <td>2.0</td>\n",
       "      <td>1.0</td>\n",
       "      <td>1.0</td>\n",
       "    </tr>\n",
       "    <tr>\n",
       "      <th>thal</th>\n",
       "      <td>1.0</td>\n",
       "      <td>2.0</td>\n",
       "      <td>2.0</td>\n",
       "      <td>2.0</td>\n",
       "      <td>2.0</td>\n",
       "      <td>1.0</td>\n",
       "      <td>2.0</td>\n",
       "      <td>3.0</td>\n",
       "      <td>3.0</td>\n",
       "      <td>2.0</td>\n",
       "      <td>...</td>\n",
       "      <td>3.0</td>\n",
       "      <td>1.0</td>\n",
       "      <td>3.0</td>\n",
       "      <td>2.0</td>\n",
       "      <td>1.0</td>\n",
       "      <td>3.0</td>\n",
       "      <td>3.0</td>\n",
       "      <td>3.0</td>\n",
       "      <td>3.0</td>\n",
       "      <td>2.0</td>\n",
       "    </tr>\n",
       "  </tbody>\n",
       "</table>\n",
       "<p>13 rows × 303 columns</p>\n",
       "</div>"
      ],
      "text/plain": [
       "            0      1      2      3      4      5      6      7      8    \\\n",
       "age        63.0   37.0   41.0   56.0   57.0   57.0   56.0   44.0   52.0   \n",
       "sex         1.0    1.0    0.0    1.0    0.0    1.0    0.0    1.0    1.0   \n",
       "cp          3.0    2.0    1.0    1.0    0.0    0.0    1.0    1.0    2.0   \n",
       "trestbps  145.0  130.0  130.0  120.0  120.0  140.0  140.0  120.0  172.0   \n",
       "chol      233.0  250.0  204.0  236.0  354.0  192.0  294.0  263.0  199.0   \n",
       "fbs         1.0    0.0    0.0    0.0    0.0    0.0    0.0    0.0    1.0   \n",
       "restecg     0.0    1.0    0.0    1.0    1.0    1.0    0.0    1.0    1.0   \n",
       "thalach   150.0  187.0  172.0  178.0  163.0  148.0  153.0  173.0  162.0   \n",
       "exang       0.0    0.0    0.0    0.0    1.0    0.0    0.0    0.0    0.0   \n",
       "oldpeak     2.3    3.5    1.4    0.8    0.6    0.4    1.3    0.0    0.5   \n",
       "slope       0.0    0.0    2.0    2.0    2.0    1.0    1.0    2.0    2.0   \n",
       "ca          0.0    0.0    0.0    0.0    0.0    0.0    0.0    0.0    0.0   \n",
       "thal        1.0    2.0    2.0    2.0    2.0    1.0    2.0    3.0    3.0   \n",
       "\n",
       "            9    ...    293    294    295    296    297    298    299    300  \\\n",
       "age        57.0  ...   67.0   44.0   63.0   63.0   59.0   57.0   45.0   68.0   \n",
       "sex         1.0  ...    1.0    1.0    1.0    0.0    1.0    0.0    1.0    1.0   \n",
       "cp          2.0  ...    2.0    0.0    0.0    0.0    0.0    0.0    3.0    0.0   \n",
       "trestbps  150.0  ...  152.0  120.0  140.0  124.0  164.0  140.0  110.0  144.0   \n",
       "chol      168.0  ...  212.0  169.0  187.0  197.0  176.0  241.0  264.0  193.0   \n",
       "fbs         0.0  ...    0.0    0.0    0.0    0.0    1.0    0.0    0.0    1.0   \n",
       "restecg     1.0  ...    0.0    1.0    0.0    1.0    0.0    1.0    1.0    1.0   \n",
       "thalach   174.0  ...  150.0  144.0  144.0  136.0   90.0  123.0  132.0  141.0   \n",
       "exang       0.0  ...    0.0    1.0    1.0    1.0    0.0    1.0    0.0    0.0   \n",
       "oldpeak     1.6  ...    0.8    2.8    4.0    0.0    1.0    0.2    1.2    3.4   \n",
       "slope       2.0  ...    1.0    0.0    2.0    1.0    1.0    1.0    1.0    1.0   \n",
       "ca          0.0  ...    0.0    0.0    2.0    0.0    2.0    0.0    0.0    2.0   \n",
       "thal        2.0  ...    3.0    1.0    3.0    2.0    1.0    3.0    3.0    3.0   \n",
       "\n",
       "            301    302  \n",
       "age        57.0   57.0  \n",
       "sex         1.0    0.0  \n",
       "cp          0.0    1.0  \n",
       "trestbps  130.0  130.0  \n",
       "chol      131.0  236.0  \n",
       "fbs         0.0    0.0  \n",
       "restecg     1.0    0.0  \n",
       "thalach   115.0  174.0  \n",
       "exang       1.0    0.0  \n",
       "oldpeak     1.2    0.0  \n",
       "slope       1.0    1.0  \n",
       "ca          1.0    1.0  \n",
       "thal        3.0    2.0  \n",
       "\n",
       "[13 rows x 303 columns]"
      ]
     },
     "execution_count": 100,
     "metadata": {},
     "output_type": "execute_result"
    }
   ],
   "source": [
    "#Lets transpose our x dataset\n",
    "x_t = x.T\n",
    "\n",
    "#Display transposed dataset\n",
    "x_t"
   ]
  },
  {
   "cell_type": "markdown",
   "id": "historic-fusion",
   "metadata": {},
   "source": [
    "Before we can remove all duplicated features in our dataset, we have to first transpose our data because there is a libry in pandas that can deal with duplicated data row by row. After we are done, we will just transpose it back to its normal state. **Note:** there is no libry in pandas that deal with duplicated data in a feature yet. "
   ]
  },
  {
   "cell_type": "code",
   "execution_count": 101,
   "id": "cultural-alberta",
   "metadata": {},
   "outputs": [
    {
     "data": {
      "text/plain": [
       "0"
      ]
     },
     "execution_count": 101,
     "metadata": {},
     "output_type": "execute_result"
    }
   ],
   "source": [
    "#Lets check for duplicated values in our dataset using pandas in built function\n",
    "x_t.duplicated().sum()"
   ]
  },
  {
   "cell_type": "markdown",
   "id": "opening-saturn",
   "metadata": {},
   "source": [
    "from the above, we can see that there are no duplicated values in our dataset. **Conclution:** We will be using all features in our algorithm because non of them contains **Constant values**, **Quasi vallues** and **Duplicated values**."
   ]
  },
  {
   "cell_type": "markdown",
   "id": "bronze-depression",
   "metadata": {},
   "source": [
    "Before we start building our model, we have to make our dataset balanced. During our data exploratory, we discovered that our dataset is imbalanced. We will balance it using under_sampling technique. Let's first split our dataset into training and testing."
   ]
  },
  {
   "cell_type": "code",
   "execution_count": 7,
   "id": "confident-access",
   "metadata": {},
   "outputs": [],
   "source": [
    "#Split data into training and testing\n",
    "x_train, x_test, y_train, y_test = train_test_split(x, y, test_size=0.2, random_state=1)"
   ]
  },
  {
   "cell_type": "code",
   "execution_count": 107,
   "id": "hidden-expansion",
   "metadata": {},
   "outputs": [
    {
     "name": "stdout",
     "output_type": "stream",
     "text": [
      "Before imbalance dataset 242\n",
      "Afetr imbalance dataset 216\n"
     ]
    }
   ],
   "source": [
    "#Now lets balance our dataset\n",
    "bal_dataset = NearMiss()\n",
    "\n",
    "#Reduce imbalance dataset\n",
    "x_train_bal, y_train_bal = bal_dataset.fit_sample(x_train, y_train)\n",
    "\n",
    "#Display before and after handling imbalance dataset\n",
    "print(f\"Before imbalance dataset {len(y_train)}\")\n",
    "print(f\"Afetr imbalance dataset {len(y_train_bal)}\")"
   ]
  },
  {
   "cell_type": "markdown",
   "id": "stone-federation",
   "metadata": {},
   "source": [
    "As we can see, we have been able to make the dataset balanced. Now lets create our model."
   ]
  },
  {
   "cell_type": "markdown",
   "id": "complete-bradford",
   "metadata": {},
   "source": [
    "# Choosing the right estimator to use.\n",
    "from this url https://scikit-learn.org/stable/tutorial/machine_learning_map/index.html from scikit learn roadmap in choosing an estimator. We will start with RandomForestClassifier. "
   ]
  },
  {
   "cell_type": "markdown",
   "id": "underlying-screen",
   "metadata": {},
   "source": [
    "# Fit and Make prediction\n",
    "In this stage we will fit our model and make a prediction out from it using a function inother to reuse it to build other our model with other estimators case it doesnt work"
   ]
  },
  {
   "cell_type": "code",
   "execution_count": 112,
   "id": "innovative-property",
   "metadata": {},
   "outputs": [
    {
     "data": {
      "text/plain": [
       "array([0, 1, 0, 0, 0, 0, 0, 1, 0, 1, 1, 1, 1, 0, 1, 1, 1, 0, 1, 1, 1, 0,\n",
       "       1, 1, 1, 1, 0, 1, 1, 1, 1, 1, 1, 0, 0, 1, 0, 0, 1, 0, 1, 0, 0, 0,\n",
       "       1, 1, 0, 1, 1, 1, 1, 1, 1, 1, 1, 1, 1, 0, 1, 0, 0])"
      ]
     },
     "execution_count": 112,
     "metadata": {},
     "output_type": "execute_result"
    }
   ],
   "source": [
    "#Initialize our algorithm\n",
    "clf = RandomForestClassifier()\n",
    "    \n",
    "#Fit algorithm\n",
    "clf.fit(x_train_bal, y_train_bal)\n",
    "\n",
    "#Make prediction\n",
    "clf_pred = clf.predict(x_test)\n",
    "\n",
    "#Display\n",
    "clf_pred"
   ]
  },
  {
   "cell_type": "code",
   "execution_count": 125,
   "id": "unique-alpha",
   "metadata": {},
   "outputs": [],
   "source": [
    "#Create a function to evaluate our model\n",
    "def evaluateModel(y_test, y_pred):\n",
    "    accuracy = accuracy_score(y_test, y_pred)\n",
    "    cvs = np.mean(cross_val_score(clf, x, y, cv=5)) #without scoring parameter\n",
    "    precision = precision_score(y_test, y_pred)\n",
    "    recall = recall_score(y_test, y_pred)\n",
    "    f1 = f1_score(y_test, y_pred)\n",
    "    \n",
    "    modelevaluate = {\n",
    "        \"Accusracy score\": round(accuracy,2),\n",
    "        \"cross val score\": round(cvs,2),\n",
    "        \"precision score\": round(precision,2),\n",
    "        \"recall score\": round(recall,2),\n",
    "        \"f1 score\": round(f1,2)\n",
    "    }\n",
    "    \n",
    "    print(f\"The accuracy score is {accuracy * 100:.2f}%\")\n",
    "    print(f\"The cross val score is {cvs * 100:.2f}%\")\n",
    "    print(f\"The precision score is {precision * 100:.2f}%\")\n",
    "    print(f\"The recall score is {recall * 100:.2f}%\")\n",
    "    print(f\"The f1 score is {f1 * 100:.2f}%\")\n",
    "    \n",
    "    return modelevaluate"
   ]
  },
  {
   "cell_type": "code",
   "execution_count": 127,
   "id": "necessary-development",
   "metadata": {},
   "outputs": [
    {
     "name": "stdout",
     "output_type": "stream",
     "text": [
      "The accuracy score is 72.13%\n",
      "The cross val score is 82.17%\n",
      "The precision score is 68.42%\n",
      "The recall score is 83.87%\n",
      "The f1 score is 75.36%\n"
     ]
    },
    {
     "data": {
      "text/plain": [
       "{'Accusracy score': 0.72,\n",
       " 'cross val score': 0.82,\n",
       " 'precision score': 0.68,\n",
       " 'recall score': 0.84,\n",
       " 'f1 score': 0.75}"
      ]
     },
     "execution_count": 127,
     "metadata": {},
     "output_type": "execute_result"
    }
   ],
   "source": [
    "#Evaluating our model(Base line prediction)\n",
    "base_prediction = evaluateModel(y_test, clf_pred)\n",
    "\n",
    "#Evaluate model\n",
    "base_prediction"
   ]
  },
  {
   "cell_type": "code",
   "execution_count": 294,
   "id": "proprietary-iraqi",
   "metadata": {},
   "outputs": [
    {
     "data": {
      "image/png": "[encoded data removed]",
      "text/plain": [
       "<Figure size 432x288 with 2 Axes>"
      ]
     },
     "metadata": {
      "needs_background": "light"
     },
     "output_type": "display_data"
    }
   ],
   "source": [
    "#Let's visualize our evaluated model using heatmap and confusion matrics\n",
    "conf_mat = confusion_matrix(y_test, clf_pred)\n",
    "sns.heatmap(conf_mat, annot=True)\n",
    "plt.show()"
   ]
  },
  {
   "cell_type": "markdown",
   "id": "neutral-implementation",
   "metadata": {},
   "source": [
    "From the heatmap confusion matrics out of those Positively, only 26 were predicted correctly and 5 where wrong. And out of those predicted Nagatively only 18 were predicted correctly and 9 were predicted wrongly."
   ]
  },
  {
   "cell_type": "markdown",
   "id": "weighted-subsection",
   "metadata": {},
   "source": [
    "# Let's imporove uporn our model(RandomizedSearchCV)\n",
    "We will imporove uporn our model using RandomisedSearchedCv first."
   ]
  },
  {
   "cell_type": "code",
   "execution_count": 132,
   "id": "thirty-slovakia",
   "metadata": {},
   "outputs": [
    {
     "name": "stdout",
     "output_type": "stream",
     "text": [
      "Fitting 10 folds for each of 5 candidates, totalling 50 fits\n",
      "[CV] n_estimators=10, min_samples_split=6, min_samples_leaf=4, max_features=sqrt, max_depth=None \n",
      "[CV]  n_estimators=10, min_samples_split=6, min_samples_leaf=4, max_features=sqrt, max_depth=None, total=   0.0s\n",
      "[CV] n_estimators=10, min_samples_split=6, min_samples_leaf=4, max_features=sqrt, max_depth=None \n",
      "[CV]  n_estimators=10, min_samples_split=6, min_samples_leaf=4, max_features=sqrt, max_depth=None, total=   0.0s\n",
      "[CV] n_estimators=10, min_samples_split=6, min_samples_leaf=4, max_features=sqrt, max_depth=None \n",
      "[CV]  n_estimators=10, min_samples_split=6, min_samples_leaf=4, max_features=sqrt, max_depth=None, total=   0.0s\n",
      "[CV] n_estimators=10, min_samples_split=6, min_samples_leaf=4, max_features=sqrt, max_depth=None \n",
      "[CV]  n_estimators=10, min_samples_split=6, min_samples_leaf=4, max_features=sqrt, max_depth=None, total=   0.0s\n",
      "[CV] n_estimators=10, min_samples_split=6, min_samples_leaf=4, max_features=sqrt, max_depth=None \n",
      "[CV]  n_estimators=10, min_samples_split=6, min_samples_leaf=4, max_features=sqrt, max_depth=None, total=   0.0s\n",
      "[CV] n_estimators=10, min_samples_split=6, min_samples_leaf=4, max_features=sqrt, max_depth=None \n",
      "[CV]  n_estimators=10, min_samples_split=6, min_samples_leaf=4, max_features=sqrt, max_depth=None, total=   0.0s\n",
      "[CV] n_estimators=10, min_samples_split=6, min_samples_leaf=4, max_features=sqrt, max_depth=None \n"
     ]
    },
    {
     "name": "stderr",
     "output_type": "stream",
     "text": [
      "[Parallel(n_jobs=1)]: Using backend SequentialBackend with 1 concurrent workers.\n",
      "[Parallel(n_jobs=1)]: Done   1 out of   1 | elapsed:    0.0s remaining:    0.0s\n"
     ]
    },
    {
     "name": "stdout",
     "output_type": "stream",
     "text": [
      "[CV]  n_estimators=10, min_samples_split=6, min_samples_leaf=4, max_features=sqrt, max_depth=None, total=   0.0s\n",
      "[CV] n_estimators=10, min_samples_split=6, min_samples_leaf=4, max_features=sqrt, max_depth=None \n",
      "[CV]  n_estimators=10, min_samples_split=6, min_samples_leaf=4, max_features=sqrt, max_depth=None, total=   0.0s\n",
      "[CV] n_estimators=10, min_samples_split=6, min_samples_leaf=4, max_features=sqrt, max_depth=None \n",
      "[CV]  n_estimators=10, min_samples_split=6, min_samples_leaf=4, max_features=sqrt, max_depth=None, total=   0.0s\n",
      "[CV] n_estimators=10, min_samples_split=6, min_samples_leaf=4, max_features=sqrt, max_depth=None \n",
      "[CV]  n_estimators=10, min_samples_split=6, min_samples_leaf=4, max_features=sqrt, max_depth=None, total=   0.0s\n",
      "[CV] n_estimators=500, min_samples_split=2, min_samples_leaf=1, max_features=auto, max_depth=30 \n",
      "[CV]  n_estimators=500, min_samples_split=2, min_samples_leaf=1, max_features=auto, max_depth=30, total=   1.0s\n",
      "[CV] n_estimators=500, min_samples_split=2, min_samples_leaf=1, max_features=auto, max_depth=30 \n",
      "[CV]  n_estimators=500, min_samples_split=2, min_samples_leaf=1, max_features=auto, max_depth=30, total=   0.9s\n",
      "[CV] n_estimators=500, min_samples_split=2, min_samples_leaf=1, max_features=auto, max_depth=30 \n",
      "[CV]  n_estimators=500, min_samples_split=2, min_samples_leaf=1, max_features=auto, max_depth=30, total=   0.9s\n",
      "[CV] n_estimators=500, min_samples_split=2, min_samples_leaf=1, max_features=auto, max_depth=30 \n",
      "[CV]  n_estimators=500, min_samples_split=2, min_samples_leaf=1, max_features=auto, max_depth=30, total=   0.9s\n",
      "[CV] n_estimators=500, min_samples_split=2, min_samples_leaf=1, max_features=auto, max_depth=30 \n",
      "[CV]  n_estimators=500, min_samples_split=2, min_samples_leaf=1, max_features=auto, max_depth=30, total=   0.9s\n",
      "[CV] n_estimators=500, min_samples_split=2, min_samples_leaf=1, max_features=auto, max_depth=30 \n",
      "[CV]  n_estimators=500, min_samples_split=2, min_samples_leaf=1, max_features=auto, max_depth=30, total=   0.9s\n",
      "[CV] n_estimators=500, min_samples_split=2, min_samples_leaf=1, max_features=auto, max_depth=30 \n",
      "[CV]  n_estimators=500, min_samples_split=2, min_samples_leaf=1, max_features=auto, max_depth=30, total=   0.9s\n",
      "[CV] n_estimators=500, min_samples_split=2, min_samples_leaf=1, max_features=auto, max_depth=30 \n",
      "[CV]  n_estimators=500, min_samples_split=2, min_samples_leaf=1, max_features=auto, max_depth=30, total=   0.9s\n",
      "[CV] n_estimators=500, min_samples_split=2, min_samples_leaf=1, max_features=auto, max_depth=30 \n",
      "[CV]  n_estimators=500, min_samples_split=2, min_samples_leaf=1, max_features=auto, max_depth=30, total=   0.9s\n",
      "[CV] n_estimators=500, min_samples_split=2, min_samples_leaf=1, max_features=auto, max_depth=30 \n",
      "[CV]  n_estimators=500, min_samples_split=2, min_samples_leaf=1, max_features=auto, max_depth=30, total=   0.9s\n",
      "[CV] n_estimators=10, min_samples_split=2, min_samples_leaf=1, max_features=sqrt, max_depth=10 \n",
      "[CV]  n_estimators=10, min_samples_split=2, min_samples_leaf=1, max_features=sqrt, max_depth=10, total=   0.0s\n",
      "[CV] n_estimators=10, min_samples_split=2, min_samples_leaf=1, max_features=sqrt, max_depth=10 \n",
      "[CV]  n_estimators=10, min_samples_split=2, min_samples_leaf=1, max_features=sqrt, max_depth=10, total=   0.0s\n",
      "[CV] n_estimators=10, min_samples_split=2, min_samples_leaf=1, max_features=sqrt, max_depth=10 \n",
      "[CV]  n_estimators=10, min_samples_split=2, min_samples_leaf=1, max_features=sqrt, max_depth=10, total=   0.0s\n",
      "[CV] n_estimators=10, min_samples_split=2, min_samples_leaf=1, max_features=sqrt, max_depth=10 \n",
      "[CV]  n_estimators=10, min_samples_split=2, min_samples_leaf=1, max_features=sqrt, max_depth=10, total=   0.0s\n",
      "[CV] n_estimators=10, min_samples_split=2, min_samples_leaf=1, max_features=sqrt, max_depth=10 \n",
      "[CV]  n_estimators=10, min_samples_split=2, min_samples_leaf=1, max_features=sqrt, max_depth=10, total=   0.0s\n",
      "[CV] n_estimators=10, min_samples_split=2, min_samples_leaf=1, max_features=sqrt, max_depth=10 \n",
      "[CV]  n_estimators=10, min_samples_split=2, min_samples_leaf=1, max_features=sqrt, max_depth=10, total=   0.0s\n",
      "[CV] n_estimators=10, min_samples_split=2, min_samples_leaf=1, max_features=sqrt, max_depth=10 \n",
      "[CV]  n_estimators=10, min_samples_split=2, min_samples_leaf=1, max_features=sqrt, max_depth=10, total=   0.0s\n",
      "[CV] n_estimators=10, min_samples_split=2, min_samples_leaf=1, max_features=sqrt, max_depth=10 \n",
      "[CV]  n_estimators=10, min_samples_split=2, min_samples_leaf=1, max_features=sqrt, max_depth=10, total=   0.0s\n",
      "[CV] n_estimators=10, min_samples_split=2, min_samples_leaf=1, max_features=sqrt, max_depth=10 \n",
      "[CV]  n_estimators=10, min_samples_split=2, min_samples_leaf=1, max_features=sqrt, max_depth=10, total=   0.0s\n",
      "[CV] n_estimators=10, min_samples_split=2, min_samples_leaf=1, max_features=sqrt, max_depth=10 \n",
      "[CV]  n_estimators=10, min_samples_split=2, min_samples_leaf=1, max_features=sqrt, max_depth=10, total=   0.0s\n",
      "[CV] n_estimators=1000, min_samples_split=6, min_samples_leaf=4, max_features=sqrt, max_depth=None \n",
      "[CV]  n_estimators=1000, min_samples_split=6, min_samples_leaf=4, max_features=sqrt, max_depth=None, total=   1.7s\n",
      "[CV] n_estimators=1000, min_samples_split=6, min_samples_leaf=4, max_features=sqrt, max_depth=None \n",
      "[CV]  n_estimators=1000, min_samples_split=6, min_samples_leaf=4, max_features=sqrt, max_depth=None, total=   1.8s\n",
      "[CV] n_estimators=1000, min_samples_split=6, min_samples_leaf=4, max_features=sqrt, max_depth=None \n",
      "[CV]  n_estimators=1000, min_samples_split=6, min_samples_leaf=4, max_features=sqrt, max_depth=None, total=   1.8s\n",
      "[CV] n_estimators=1000, min_samples_split=6, min_samples_leaf=4, max_features=sqrt, max_depth=None \n",
      "[CV]  n_estimators=1000, min_samples_split=6, min_samples_leaf=4, max_features=sqrt, max_depth=None, total=   1.8s\n",
      "[CV] n_estimators=1000, min_samples_split=6, min_samples_leaf=4, max_features=sqrt, max_depth=None \n",
      "[CV]  n_estimators=1000, min_samples_split=6, min_samples_leaf=4, max_features=sqrt, max_depth=None, total=   1.9s\n",
      "[CV] n_estimators=1000, min_samples_split=6, min_samples_leaf=4, max_features=sqrt, max_depth=None \n",
      "[CV]  n_estimators=1000, min_samples_split=6, min_samples_leaf=4, max_features=sqrt, max_depth=None, total=   1.9s\n",
      "[CV] n_estimators=1000, min_samples_split=6, min_samples_leaf=4, max_features=sqrt, max_depth=None \n",
      "[CV]  n_estimators=1000, min_samples_split=6, min_samples_leaf=4, max_features=sqrt, max_depth=None, total=   1.8s\n",
      "[CV] n_estimators=1000, min_samples_split=6, min_samples_leaf=4, max_features=sqrt, max_depth=None \n",
      "[CV]  n_estimators=1000, min_samples_split=6, min_samples_leaf=4, max_features=sqrt, max_depth=None, total=   2.0s\n",
      "[CV] n_estimators=1000, min_samples_split=6, min_samples_leaf=4, max_features=sqrt, max_depth=None \n",
      "[CV]  n_estimators=1000, min_samples_split=6, min_samples_leaf=4, max_features=sqrt, max_depth=None, total=   1.9s\n",
      "[CV] n_estimators=1000, min_samples_split=6, min_samples_leaf=4, max_features=sqrt, max_depth=None \n",
      "[CV]  n_estimators=1000, min_samples_split=6, min_samples_leaf=4, max_features=sqrt, max_depth=None, total=   1.9s\n",
      "[CV] n_estimators=1200, min_samples_split=6, min_samples_leaf=1, max_features=sqrt, max_depth=None \n",
      "[CV]  n_estimators=1200, min_samples_split=6, min_samples_leaf=1, max_features=sqrt, max_depth=None, total=   2.2s\n",
      "[CV] n_estimators=1200, min_samples_split=6, min_samples_leaf=1, max_features=sqrt, max_depth=None \n",
      "[CV]  n_estimators=1200, min_samples_split=6, min_samples_leaf=1, max_features=sqrt, max_depth=None, total=   2.2s\n",
      "[CV] n_estimators=1200, min_samples_split=6, min_samples_leaf=1, max_features=sqrt, max_depth=None \n",
      "[CV]  n_estimators=1200, min_samples_split=6, min_samples_leaf=1, max_features=sqrt, max_depth=None, total=   2.2s\n",
      "[CV] n_estimators=1200, min_samples_split=6, min_samples_leaf=1, max_features=sqrt, max_depth=None \n",
      "[CV]  n_estimators=1200, min_samples_split=6, min_samples_leaf=1, max_features=sqrt, max_depth=None, total=   2.2s\n",
      "[CV] n_estimators=1200, min_samples_split=6, min_samples_leaf=1, max_features=sqrt, max_depth=None \n",
      "[CV]  n_estimators=1200, min_samples_split=6, min_samples_leaf=1, max_features=sqrt, max_depth=None, total=   2.2s\n",
      "[CV] n_estimators=1200, min_samples_split=6, min_samples_leaf=1, max_features=sqrt, max_depth=None \n"
     ]
    },
    {
     "name": "stdout",
     "output_type": "stream",
     "text": [
      "[CV]  n_estimators=1200, min_samples_split=6, min_samples_leaf=1, max_features=sqrt, max_depth=None, total=   2.3s\n",
      "[CV] n_estimators=1200, min_samples_split=6, min_samples_leaf=1, max_features=sqrt, max_depth=None \n",
      "[CV]  n_estimators=1200, min_samples_split=6, min_samples_leaf=1, max_features=sqrt, max_depth=None, total=   2.2s\n",
      "[CV] n_estimators=1200, min_samples_split=6, min_samples_leaf=1, max_features=sqrt, max_depth=None \n",
      "[CV]  n_estimators=1200, min_samples_split=6, min_samples_leaf=1, max_features=sqrt, max_depth=None, total=   2.3s\n",
      "[CV] n_estimators=1200, min_samples_split=6, min_samples_leaf=1, max_features=sqrt, max_depth=None \n",
      "[CV]  n_estimators=1200, min_samples_split=6, min_samples_leaf=1, max_features=sqrt, max_depth=None, total=   2.3s\n",
      "[CV] n_estimators=1200, min_samples_split=6, min_samples_leaf=1, max_features=sqrt, max_depth=None \n",
      "[CV]  n_estimators=1200, min_samples_split=6, min_samples_leaf=1, max_features=sqrt, max_depth=None, total=   2.2s\n"
     ]
    },
    {
     "name": "stderr",
     "output_type": "stream",
     "text": [
      "[Parallel(n_jobs=1)]: Done  50 out of  50 | elapsed:   50.7s finished\n"
     ]
    },
    {
     "data": {
      "text/plain": [
       "RandomizedSearchCV(cv=10, estimator=RandomForestClassifier(n_jobs=1), n_iter=5,\n",
       "                   param_distributions={'max_depth': [None, 5, 10, 20, 30],\n",
       "                                        'max_features': ['auto', 'sqrt'],\n",
       "                                        'min_samples_leaf': [1, 2, 4],\n",
       "                                        'min_samples_split': [2, 4, 6],\n",
       "                                        'n_estimators': [10, 100, 200, 500,\n",
       "                                                         1000, 1200]},\n",
       "                   verbose=2)"
      ]
     },
     "execution_count": 132,
     "metadata": {},
     "output_type": "execute_result"
    }
   ],
   "source": [
    "grid = {\n",
    "    'n_estimators': [10, 100, 200, 500, 1000, 1200],\n",
    "    'max_depth': [None, 5, 10, 20, 30],\n",
    "    'max_features': ['auto','sqrt'],\n",
    "    'min_samples_split': [2, 4, 6],\n",
    "    'min_samples_leaf': [1, 2, 4]\n",
    "}\n",
    "\n",
    "#Set random seed to 42\n",
    "np.random.seed(42)\n",
    "\n",
    "#Initiate RandomForestClassifier\n",
    "clf_rs = RandomForestClassifier(n_jobs=1)\n",
    "\n",
    "#Setup RandomizedSearchCV\n",
    "rs_clf = RandomizedSearchCV(estimator=clf_rs,\n",
    "                           param_distributions=grid,\n",
    "                           n_iter=5, # number of models to try\n",
    "                           cv=10,\n",
    "                           verbose=2)\n",
    "rs_clf.fit(x_train, y_train)"
   ]
  },
  {
   "cell_type": "code",
   "execution_count": 176,
   "id": "hairy-encyclopedia",
   "metadata": {},
   "outputs": [
    {
     "data": {
      "text/plain": [
       "{'n_estimators': 500,\n",
       " 'min_samples_split': 2,\n",
       " 'min_samples_leaf': 1,\n",
       " 'max_features': 'auto',\n",
       " 'max_depth': 30}"
      ]
     },
     "execution_count": 176,
     "metadata": {},
     "output_type": "execute_result"
    }
   ],
   "source": [
    "#Display the best params that will be used to make prediction\n",
    "rs_clf.best_params_"
   ]
  },
  {
   "cell_type": "code",
   "execution_count": 136,
   "id": "advisory-scratch",
   "metadata": {},
   "outputs": [
    {
     "data": {
      "text/plain": [
       "RandomForestClassifier(max_depth=30, n_estimators=500, n_jobs=1)"
      ]
     },
     "execution_count": 136,
     "metadata": {},
     "output_type": "execute_result"
    }
   ],
   "source": [
    "#Display the estimators\n",
    "rs_clf.best_estimator_"
   ]
  },
  {
   "cell_type": "code",
   "execution_count": 285,
   "id": "handled-absolute",
   "metadata": {},
   "outputs": [
    {
     "data": {
      "text/plain": [
       "array([0, 1, 0, 0, 0, 0, 0, 1, 0, 1, 1, 0, 1, 0, 0, 1, 1, 0, 1, 1, 1, 0,\n",
       "       1, 1, 1, 1, 0, 1, 1, 1, 1, 1, 1, 1, 0, 1, 0, 0, 1, 0, 1, 0, 0, 0,\n",
       "       0, 1, 0, 1, 1, 1, 1, 1, 1, 1, 1, 1, 1, 0, 1, 0, 0])"
      ]
     },
     "execution_count": 285,
     "metadata": {},
     "output_type": "execute_result"
    }
   ],
   "source": [
    "#Make prediction\n",
    "rs_predicts = rs_clf.predict(x_test)\n",
    "\n",
    "#Display predicted result\n",
    "rs_predicts"
   ]
  },
  {
   "cell_type": "code",
   "execution_count": 286,
   "id": "excellent-workshop",
   "metadata": {},
   "outputs": [
    {
     "name": "stdout",
     "output_type": "stream",
     "text": [
      "The accuracy score is 78.69%\n",
      "The cross val score is 83.15%\n",
      "The precision score is 75.00%\n",
      "The recall score is 87.10%\n",
      "The f1 score is 80.60%\n"
     ]
    },
    {
     "data": {
      "text/plain": [
       "{'Accusracy score': 0.79,\n",
       " 'cross val score': 0.83,\n",
       " 'precision score': 0.75,\n",
       " 'recall score': 0.87,\n",
       " 'f1 score': 0.81}"
      ]
     },
     "execution_count": 286,
     "metadata": {},
     "output_type": "execute_result"
    }
   ],
   "source": [
    "#Lets evaluate our model\n",
    "rs_predict = evaluateModel(y_test, rs_predicts)\n",
    "\n",
    "#Display Evaluation\n",
    "rs_predict"
   ]
  },
  {
   "cell_type": "code",
   "execution_count": 288,
   "id": "shared-result",
   "metadata": {},
   "outputs": [
    {
     "data": {
      "text/plain": [
       "array([[21,  9],\n",
       "       [ 4, 27]])"
      ]
     },
     "execution_count": 288,
     "metadata": {},
     "output_type": "execute_result"
    }
   ],
   "source": [
    "confusion_matrix(y_test, rs_predicts)"
   ]
  },
  {
   "cell_type": "code",
   "execution_count": 290,
   "id": "dressed-floor",
   "metadata": {
    "scrolled": true
   },
   "outputs": [
    {
     "data": {
      "image/png": "[encoded data removed]",
      "text/plain": [
       "<Figure size 432x288 with 2 Axes>"
      ]
     },
     "metadata": {
      "needs_background": "light"
     },
     "output_type": "display_data"
    }
   ],
   "source": [
    "#Let's visualize our evaluated model using heatmap and confusion matrics\n",
    "conf_mat = confusion_matrix(y_test, rs_predicts)\n",
    "sns.heatmap(conf_mat, annot=True)\n",
    "plt.show()"
   ]
  },
  {
   "cell_type": "markdown",
   "id": "impressed-hebrew",
   "metadata": {},
   "source": [
    "From the heatmap confusion matrics out of those **Positively**, only **27** were predicted correctly and **4** where wrong. And out of those predicted **Nagatively** only 21 were predicted correctly and **9** were predicted wrongly."
   ]
  },
  {
   "cell_type": "markdown",
   "id": "historic-challenge",
   "metadata": {},
   "source": [
    "# Let's imporove uporn our model again with(GridSearchCV)\n",
    "We will imporove uporn our model using GridSearchedCv first."
   ]
  },
  {
   "cell_type": "code",
   "execution_count": 219,
   "id": "flush-client",
   "metadata": {},
   "outputs": [
    {
     "name": "stdout",
     "output_type": "stream",
     "text": [
      "Fitting 10 folds for each of 32 candidates, totalling 320 fits\n",
      "[CV] max_depth=20, max_features=sqrt, min_samples_leaf=3, min_samples_split=4, n_estimators=100 \n"
     ]
    },
    {
     "name": "stderr",
     "output_type": "stream",
     "text": [
      "[Parallel(n_jobs=1)]: Using backend SequentialBackend with 1 concurrent workers.\n"
     ]
    },
    {
     "name": "stdout",
     "output_type": "stream",
     "text": [
      "[CV]  max_depth=20, max_features=sqrt, min_samples_leaf=3, min_samples_split=4, n_estimators=100, total=   0.4s\n",
      "[CV] max_depth=20, max_features=sqrt, min_samples_leaf=3, min_samples_split=4, n_estimators=100 \n"
     ]
    },
    {
     "name": "stderr",
     "output_type": "stream",
     "text": [
      "[Parallel(n_jobs=1)]: Done   1 out of   1 | elapsed:    0.4s remaining:    0.0s\n"
     ]
    },
    {
     "name": "stdout",
     "output_type": "stream",
     "text": [
      "[CV]  max_depth=20, max_features=sqrt, min_samples_leaf=3, min_samples_split=4, n_estimators=100, total=   0.2s\n",
      "[CV] max_depth=20, max_features=sqrt, min_samples_leaf=3, min_samples_split=4, n_estimators=100 \n",
      "[CV]  max_depth=20, max_features=sqrt, min_samples_leaf=3, min_samples_split=4, n_estimators=100, total=   0.2s\n",
      "[CV] max_depth=20, max_features=sqrt, min_samples_leaf=3, min_samples_split=4, n_estimators=100 \n",
      "[CV]  max_depth=20, max_features=sqrt, min_samples_leaf=3, min_samples_split=4, n_estimators=100, total=   0.2s\n",
      "[CV] max_depth=20, max_features=sqrt, min_samples_leaf=3, min_samples_split=4, n_estimators=100 \n",
      "[CV]  max_depth=20, max_features=sqrt, min_samples_leaf=3, min_samples_split=4, n_estimators=100, total=   0.2s\n",
      "[CV] max_depth=20, max_features=sqrt, min_samples_leaf=3, min_samples_split=4, n_estimators=100 \n",
      "[CV]  max_depth=20, max_features=sqrt, min_samples_leaf=3, min_samples_split=4, n_estimators=100, total=   0.2s\n",
      "[CV] max_depth=20, max_features=sqrt, min_samples_leaf=3, min_samples_split=4, n_estimators=100 \n",
      "[CV]  max_depth=20, max_features=sqrt, min_samples_leaf=3, min_samples_split=4, n_estimators=100, total=   0.3s\n",
      "[CV] max_depth=20, max_features=sqrt, min_samples_leaf=3, min_samples_split=4, n_estimators=100 \n",
      "[CV]  max_depth=20, max_features=sqrt, min_samples_leaf=3, min_samples_split=4, n_estimators=100, total=   0.3s\n",
      "[CV] max_depth=20, max_features=sqrt, min_samples_leaf=3, min_samples_split=4, n_estimators=100 \n",
      "[CV]  max_depth=20, max_features=sqrt, min_samples_leaf=3, min_samples_split=4, n_estimators=100, total=   0.2s\n",
      "[CV] max_depth=20, max_features=sqrt, min_samples_leaf=3, min_samples_split=4, n_estimators=100 \n",
      "[CV]  max_depth=20, max_features=sqrt, min_samples_leaf=3, min_samples_split=4, n_estimators=100, total=   0.2s\n",
      "[CV] max_depth=20, max_features=sqrt, min_samples_leaf=3, min_samples_split=4, n_estimators=200 \n",
      "[CV]  max_depth=20, max_features=sqrt, min_samples_leaf=3, min_samples_split=4, n_estimators=200, total=   0.4s\n",
      "[CV] max_depth=20, max_features=sqrt, min_samples_leaf=3, min_samples_split=4, n_estimators=200 \n",
      "[CV]  max_depth=20, max_features=sqrt, min_samples_leaf=3, min_samples_split=4, n_estimators=200, total=   0.4s\n",
      "[CV] max_depth=20, max_features=sqrt, min_samples_leaf=3, min_samples_split=4, n_estimators=200 \n",
      "[CV]  max_depth=20, max_features=sqrt, min_samples_leaf=3, min_samples_split=4, n_estimators=200, total=   0.4s\n",
      "[CV] max_depth=20, max_features=sqrt, min_samples_leaf=3, min_samples_split=4, n_estimators=200 \n",
      "[CV]  max_depth=20, max_features=sqrt, min_samples_leaf=3, min_samples_split=4, n_estimators=200, total=   0.4s\n",
      "[CV] max_depth=20, max_features=sqrt, min_samples_leaf=3, min_samples_split=4, n_estimators=200 \n",
      "[CV]  max_depth=20, max_features=sqrt, min_samples_leaf=3, min_samples_split=4, n_estimators=200, total=   0.4s\n",
      "[CV] max_depth=20, max_features=sqrt, min_samples_leaf=3, min_samples_split=4, n_estimators=200 \n",
      "[CV]  max_depth=20, max_features=sqrt, min_samples_leaf=3, min_samples_split=4, n_estimators=200, total=   0.4s\n",
      "[CV] max_depth=20, max_features=sqrt, min_samples_leaf=3, min_samples_split=4, n_estimators=200 \n",
      "[CV]  max_depth=20, max_features=sqrt, min_samples_leaf=3, min_samples_split=4, n_estimators=200, total=   0.4s\n",
      "[CV] max_depth=20, max_features=sqrt, min_samples_leaf=3, min_samples_split=4, n_estimators=200 \n",
      "[CV]  max_depth=20, max_features=sqrt, min_samples_leaf=3, min_samples_split=4, n_estimators=200, total=   0.4s\n",
      "[CV] max_depth=20, max_features=sqrt, min_samples_leaf=3, min_samples_split=4, n_estimators=200 \n",
      "[CV]  max_depth=20, max_features=sqrt, min_samples_leaf=3, min_samples_split=4, n_estimators=200, total=   0.5s\n",
      "[CV] max_depth=20, max_features=sqrt, min_samples_leaf=3, min_samples_split=4, n_estimators=200 \n",
      "[CV]  max_depth=20, max_features=sqrt, min_samples_leaf=3, min_samples_split=4, n_estimators=200, total=   0.5s\n",
      "[CV] max_depth=20, max_features=sqrt, min_samples_leaf=3, min_samples_split=6, n_estimators=100 \n",
      "[CV]  max_depth=20, max_features=sqrt, min_samples_leaf=3, min_samples_split=6, n_estimators=100, total=   0.2s\n",
      "[CV] max_depth=20, max_features=sqrt, min_samples_leaf=3, min_samples_split=6, n_estimators=100 \n",
      "[CV]  max_depth=20, max_features=sqrt, min_samples_leaf=3, min_samples_split=6, n_estimators=100, total=   0.2s\n",
      "[CV] max_depth=20, max_features=sqrt, min_samples_leaf=3, min_samples_split=6, n_estimators=100 \n",
      "[CV]  max_depth=20, max_features=sqrt, min_samples_leaf=3, min_samples_split=6, n_estimators=100, total=   0.2s\n",
      "[CV] max_depth=20, max_features=sqrt, min_samples_leaf=3, min_samples_split=6, n_estimators=100 \n",
      "[CV]  max_depth=20, max_features=sqrt, min_samples_leaf=3, min_samples_split=6, n_estimators=100, total=   0.2s\n",
      "[CV] max_depth=20, max_features=sqrt, min_samples_leaf=3, min_samples_split=6, n_estimators=100 \n",
      "[CV]  max_depth=20, max_features=sqrt, min_samples_leaf=3, min_samples_split=6, n_estimators=100, total=   0.2s\n",
      "[CV] max_depth=20, max_features=sqrt, min_samples_leaf=3, min_samples_split=6, n_estimators=100 \n",
      "[CV]  max_depth=20, max_features=sqrt, min_samples_leaf=3, min_samples_split=6, n_estimators=100, total=   0.2s\n",
      "[CV] max_depth=20, max_features=sqrt, min_samples_leaf=3, min_samples_split=6, n_estimators=100 \n",
      "[CV]  max_depth=20, max_features=sqrt, min_samples_leaf=3, min_samples_split=6, n_estimators=100, total=   0.2s\n",
      "[CV] max_depth=20, max_features=sqrt, min_samples_leaf=3, min_samples_split=6, n_estimators=100 \n",
      "[CV]  max_depth=20, max_features=sqrt, min_samples_leaf=3, min_samples_split=6, n_estimators=100, total=   0.2s\n",
      "[CV] max_depth=20, max_features=sqrt, min_samples_leaf=3, min_samples_split=6, n_estimators=100 \n",
      "[CV]  max_depth=20, max_features=sqrt, min_samples_leaf=3, min_samples_split=6, n_estimators=100, total=   0.2s\n",
      "[CV] max_depth=20, max_features=sqrt, min_samples_leaf=3, min_samples_split=6, n_estimators=100 \n",
      "[CV]  max_depth=20, max_features=sqrt, min_samples_leaf=3, min_samples_split=6, n_estimators=100, total=   0.2s\n",
      "[CV] max_depth=20, max_features=sqrt, min_samples_leaf=3, min_samples_split=6, n_estimators=200 \n",
      "[CV]  max_depth=20, max_features=sqrt, min_samples_leaf=3, min_samples_split=6, n_estimators=200, total=   0.4s\n",
      "[CV] max_depth=20, max_features=sqrt, min_samples_leaf=3, min_samples_split=6, n_estimators=200 \n",
      "[CV]  max_depth=20, max_features=sqrt, min_samples_leaf=3, min_samples_split=6, n_estimators=200, total=   0.4s\n",
      "[CV] max_depth=20, max_features=sqrt, min_samples_leaf=3, min_samples_split=6, n_estimators=200 \n",
      "[CV]  max_depth=20, max_features=sqrt, min_samples_leaf=3, min_samples_split=6, n_estimators=200, total=   0.4s\n",
      "[CV] max_depth=20, max_features=sqrt, min_samples_leaf=3, min_samples_split=6, n_estimators=200 \n",
      "[CV]  max_depth=20, max_features=sqrt, min_samples_leaf=3, min_samples_split=6, n_estimators=200, total=   0.5s\n",
      "[CV] max_depth=20, max_features=sqrt, min_samples_leaf=3, min_samples_split=6, n_estimators=200 \n",
      "[CV]  max_depth=20, max_features=sqrt, min_samples_leaf=3, min_samples_split=6, n_estimators=200, total=   0.7s\n",
      "[CV] max_depth=20, max_features=sqrt, min_samples_leaf=3, min_samples_split=6, n_estimators=200 \n",
      "[CV]  max_depth=20, max_features=sqrt, min_samples_leaf=3, min_samples_split=6, n_estimators=200, total=   0.5s\n",
      "[CV] max_depth=20, max_features=sqrt, min_samples_leaf=3, min_samples_split=6, n_estimators=200 \n",
      "[CV]  max_depth=20, max_features=sqrt, min_samples_leaf=3, min_samples_split=6, n_estimators=200, total=   0.6s\n",
      "[CV] max_depth=20, max_features=sqrt, min_samples_leaf=3, min_samples_split=6, n_estimators=200 \n",
      "[CV]  max_depth=20, max_features=sqrt, min_samples_leaf=3, min_samples_split=6, n_estimators=200, total=   0.5s\n",
      "[CV] max_depth=20, max_features=sqrt, min_samples_leaf=3, min_samples_split=6, n_estimators=200 \n",
      "[CV]  max_depth=20, max_features=sqrt, min_samples_leaf=3, min_samples_split=6, n_estimators=200, total=   0.6s\n",
      "[CV] max_depth=20, max_features=sqrt, min_samples_leaf=3, min_samples_split=6, n_estimators=200 \n",
      "[CV]  max_depth=20, max_features=sqrt, min_samples_leaf=3, min_samples_split=6, n_estimators=200, total=   0.5s\n",
      "[CV] max_depth=20, max_features=sqrt, min_samples_leaf=2, min_samples_split=4, n_estimators=100 \n",
      "[CV]  max_depth=20, max_features=sqrt, min_samples_leaf=2, min_samples_split=4, n_estimators=100, total=   0.3s\n",
      "[CV] max_depth=20, max_features=sqrt, min_samples_leaf=2, min_samples_split=4, n_estimators=100 \n"
     ]
    },
    {
     "name": "stdout",
     "output_type": "stream",
     "text": [
      "[CV]  max_depth=20, max_features=sqrt, min_samples_leaf=2, min_samples_split=4, n_estimators=100, total=   0.2s\n",
      "[CV] max_depth=20, max_features=sqrt, min_samples_leaf=2, min_samples_split=4, n_estimators=100 \n",
      "[CV]  max_depth=20, max_features=sqrt, min_samples_leaf=2, min_samples_split=4, n_estimators=100, total=   0.3s\n",
      "[CV] max_depth=20, max_features=sqrt, min_samples_leaf=2, min_samples_split=4, n_estimators=100 \n",
      "[CV]  max_depth=20, max_features=sqrt, min_samples_leaf=2, min_samples_split=4, n_estimators=100, total=   0.3s\n",
      "[CV] max_depth=20, max_features=sqrt, min_samples_leaf=2, min_samples_split=4, n_estimators=100 \n",
      "[CV]  max_depth=20, max_features=sqrt, min_samples_leaf=2, min_samples_split=4, n_estimators=100, total=   0.3s\n",
      "[CV] max_depth=20, max_features=sqrt, min_samples_leaf=2, min_samples_split=4, n_estimators=100 \n",
      "[CV]  max_depth=20, max_features=sqrt, min_samples_leaf=2, min_samples_split=4, n_estimators=100, total=   0.4s\n",
      "[CV] max_depth=20, max_features=sqrt, min_samples_leaf=2, min_samples_split=4, n_estimators=100 \n",
      "[CV]  max_depth=20, max_features=sqrt, min_samples_leaf=2, min_samples_split=4, n_estimators=100, total=   0.3s\n",
      "[CV] max_depth=20, max_features=sqrt, min_samples_leaf=2, min_samples_split=4, n_estimators=100 \n",
      "[CV]  max_depth=20, max_features=sqrt, min_samples_leaf=2, min_samples_split=4, n_estimators=100, total=   0.2s\n",
      "[CV] max_depth=20, max_features=sqrt, min_samples_leaf=2, min_samples_split=4, n_estimators=100 \n",
      "[CV]  max_depth=20, max_features=sqrt, min_samples_leaf=2, min_samples_split=4, n_estimators=100, total=   0.2s\n",
      "[CV] max_depth=20, max_features=sqrt, min_samples_leaf=2, min_samples_split=4, n_estimators=100 \n",
      "[CV]  max_depth=20, max_features=sqrt, min_samples_leaf=2, min_samples_split=4, n_estimators=100, total=   0.2s\n",
      "[CV] max_depth=20, max_features=sqrt, min_samples_leaf=2, min_samples_split=4, n_estimators=200 \n",
      "[CV]  max_depth=20, max_features=sqrt, min_samples_leaf=2, min_samples_split=4, n_estimators=200, total=   0.6s\n",
      "[CV] max_depth=20, max_features=sqrt, min_samples_leaf=2, min_samples_split=4, n_estimators=200 \n",
      "[CV]  max_depth=20, max_features=sqrt, min_samples_leaf=2, min_samples_split=4, n_estimators=200, total=   0.5s\n",
      "[CV] max_depth=20, max_features=sqrt, min_samples_leaf=2, min_samples_split=4, n_estimators=200 \n",
      "[CV]  max_depth=20, max_features=sqrt, min_samples_leaf=2, min_samples_split=4, n_estimators=200, total=   0.5s\n",
      "[CV] max_depth=20, max_features=sqrt, min_samples_leaf=2, min_samples_split=4, n_estimators=200 \n",
      "[CV]  max_depth=20, max_features=sqrt, min_samples_leaf=2, min_samples_split=4, n_estimators=200, total=   0.4s\n",
      "[CV] max_depth=20, max_features=sqrt, min_samples_leaf=2, min_samples_split=4, n_estimators=200 \n",
      "[CV]  max_depth=20, max_features=sqrt, min_samples_leaf=2, min_samples_split=4, n_estimators=200, total=   0.4s\n",
      "[CV] max_depth=20, max_features=sqrt, min_samples_leaf=2, min_samples_split=4, n_estimators=200 \n",
      "[CV]  max_depth=20, max_features=sqrt, min_samples_leaf=2, min_samples_split=4, n_estimators=200, total=   0.6s\n",
      "[CV] max_depth=20, max_features=sqrt, min_samples_leaf=2, min_samples_split=4, n_estimators=200 \n",
      "[CV]  max_depth=20, max_features=sqrt, min_samples_leaf=2, min_samples_split=4, n_estimators=200, total=   0.8s\n",
      "[CV] max_depth=20, max_features=sqrt, min_samples_leaf=2, min_samples_split=4, n_estimators=200 \n",
      "[CV]  max_depth=20, max_features=sqrt, min_samples_leaf=2, min_samples_split=4, n_estimators=200, total=   0.6s\n",
      "[CV] max_depth=20, max_features=sqrt, min_samples_leaf=2, min_samples_split=4, n_estimators=200 \n",
      "[CV]  max_depth=20, max_features=sqrt, min_samples_leaf=2, min_samples_split=4, n_estimators=200, total=   0.6s\n",
      "[CV] max_depth=20, max_features=sqrt, min_samples_leaf=2, min_samples_split=4, n_estimators=200 \n",
      "[CV]  max_depth=20, max_features=sqrt, min_samples_leaf=2, min_samples_split=4, n_estimators=200, total=   0.6s\n",
      "[CV] max_depth=20, max_features=sqrt, min_samples_leaf=2, min_samples_split=6, n_estimators=100 \n",
      "[CV]  max_depth=20, max_features=sqrt, min_samples_leaf=2, min_samples_split=6, n_estimators=100, total=   0.3s\n",
      "[CV] max_depth=20, max_features=sqrt, min_samples_leaf=2, min_samples_split=6, n_estimators=100 \n",
      "[CV]  max_depth=20, max_features=sqrt, min_samples_leaf=2, min_samples_split=6, n_estimators=100, total=   0.3s\n",
      "[CV] max_depth=20, max_features=sqrt, min_samples_leaf=2, min_samples_split=6, n_estimators=100 \n",
      "[CV]  max_depth=20, max_features=sqrt, min_samples_leaf=2, min_samples_split=6, n_estimators=100, total=   0.4s\n",
      "[CV] max_depth=20, max_features=sqrt, min_samples_leaf=2, min_samples_split=6, n_estimators=100 \n",
      "[CV]  max_depth=20, max_features=sqrt, min_samples_leaf=2, min_samples_split=6, n_estimators=100, total=   0.3s\n",
      "[CV] max_depth=20, max_features=sqrt, min_samples_leaf=2, min_samples_split=6, n_estimators=100 \n",
      "[CV]  max_depth=20, max_features=sqrt, min_samples_leaf=2, min_samples_split=6, n_estimators=100, total=   0.2s\n",
      "[CV] max_depth=20, max_features=sqrt, min_samples_leaf=2, min_samples_split=6, n_estimators=100 \n",
      "[CV]  max_depth=20, max_features=sqrt, min_samples_leaf=2, min_samples_split=6, n_estimators=100, total=   0.3s\n",
      "[CV] max_depth=20, max_features=sqrt, min_samples_leaf=2, min_samples_split=6, n_estimators=100 \n",
      "[CV]  max_depth=20, max_features=sqrt, min_samples_leaf=2, min_samples_split=6, n_estimators=100, total=   0.3s\n",
      "[CV] max_depth=20, max_features=sqrt, min_samples_leaf=2, min_samples_split=6, n_estimators=100 \n",
      "[CV]  max_depth=20, max_features=sqrt, min_samples_leaf=2, min_samples_split=6, n_estimators=100, total=   0.3s\n",
      "[CV] max_depth=20, max_features=sqrt, min_samples_leaf=2, min_samples_split=6, n_estimators=100 \n",
      "[CV]  max_depth=20, max_features=sqrt, min_samples_leaf=2, min_samples_split=6, n_estimators=100, total=   0.4s\n",
      "[CV] max_depth=20, max_features=sqrt, min_samples_leaf=2, min_samples_split=6, n_estimators=100 \n",
      "[CV]  max_depth=20, max_features=sqrt, min_samples_leaf=2, min_samples_split=6, n_estimators=100, total=   0.5s\n",
      "[CV] max_depth=20, max_features=sqrt, min_samples_leaf=2, min_samples_split=6, n_estimators=200 \n",
      "[CV]  max_depth=20, max_features=sqrt, min_samples_leaf=2, min_samples_split=6, n_estimators=200, total=   0.5s\n",
      "[CV] max_depth=20, max_features=sqrt, min_samples_leaf=2, min_samples_split=6, n_estimators=200 \n",
      "[CV]  max_depth=20, max_features=sqrt, min_samples_leaf=2, min_samples_split=6, n_estimators=200, total=   0.6s\n",
      "[CV] max_depth=20, max_features=sqrt, min_samples_leaf=2, min_samples_split=6, n_estimators=200 \n",
      "[CV]  max_depth=20, max_features=sqrt, min_samples_leaf=2, min_samples_split=6, n_estimators=200, total=   0.5s\n",
      "[CV] max_depth=20, max_features=sqrt, min_samples_leaf=2, min_samples_split=6, n_estimators=200 \n",
      "[CV]  max_depth=20, max_features=sqrt, min_samples_leaf=2, min_samples_split=6, n_estimators=200, total=   0.5s\n",
      "[CV] max_depth=20, max_features=sqrt, min_samples_leaf=2, min_samples_split=6, n_estimators=200 \n",
      "[CV]  max_depth=20, max_features=sqrt, min_samples_leaf=2, min_samples_split=6, n_estimators=200, total=   0.6s\n",
      "[CV] max_depth=20, max_features=sqrt, min_samples_leaf=2, min_samples_split=6, n_estimators=200 \n",
      "[CV]  max_depth=20, max_features=sqrt, min_samples_leaf=2, min_samples_split=6, n_estimators=200, total=   0.6s\n",
      "[CV] max_depth=20, max_features=sqrt, min_samples_leaf=2, min_samples_split=6, n_estimators=200 \n",
      "[CV]  max_depth=20, max_features=sqrt, min_samples_leaf=2, min_samples_split=6, n_estimators=200, total=   0.5s\n",
      "[CV] max_depth=20, max_features=sqrt, min_samples_leaf=2, min_samples_split=6, n_estimators=200 \n",
      "[CV]  max_depth=20, max_features=sqrt, min_samples_leaf=2, min_samples_split=6, n_estimators=200, total=   0.6s\n",
      "[CV] max_depth=20, max_features=sqrt, min_samples_leaf=2, min_samples_split=6, n_estimators=200 \n",
      "[CV]  max_depth=20, max_features=sqrt, min_samples_leaf=2, min_samples_split=6, n_estimators=200, total=   0.6s\n",
      "[CV] max_depth=20, max_features=sqrt, min_samples_leaf=2, min_samples_split=6, n_estimators=200 \n",
      "[CV]  max_depth=20, max_features=sqrt, min_samples_leaf=2, min_samples_split=6, n_estimators=200, total=   0.5s\n",
      "[CV] max_depth=20, max_features=auto, min_samples_leaf=3, min_samples_split=4, n_estimators=100 \n",
      "[CV]  max_depth=20, max_features=auto, min_samples_leaf=3, min_samples_split=4, n_estimators=100, total=   0.2s\n",
      "[CV] max_depth=20, max_features=auto, min_samples_leaf=3, min_samples_split=4, n_estimators=100 \n"
     ]
    },
    {
     "name": "stdout",
     "output_type": "stream",
     "text": [
      "[CV]  max_depth=20, max_features=auto, min_samples_leaf=3, min_samples_split=4, n_estimators=100, total=   0.2s\n",
      "[CV] max_depth=20, max_features=auto, min_samples_leaf=3, min_samples_split=4, n_estimators=100 \n",
      "[CV]  max_depth=20, max_features=auto, min_samples_leaf=3, min_samples_split=4, n_estimators=100, total=   0.3s\n",
      "[CV] max_depth=20, max_features=auto, min_samples_leaf=3, min_samples_split=4, n_estimators=100 \n",
      "[CV]  max_depth=20, max_features=auto, min_samples_leaf=3, min_samples_split=4, n_estimators=100, total=   0.3s\n",
      "[CV] max_depth=20, max_features=auto, min_samples_leaf=3, min_samples_split=4, n_estimators=100 \n",
      "[CV]  max_depth=20, max_features=auto, min_samples_leaf=3, min_samples_split=4, n_estimators=100, total=   0.3s\n",
      "[CV] max_depth=20, max_features=auto, min_samples_leaf=3, min_samples_split=4, n_estimators=100 \n",
      "[CV]  max_depth=20, max_features=auto, min_samples_leaf=3, min_samples_split=4, n_estimators=100, total=   0.3s\n",
      "[CV] max_depth=20, max_features=auto, min_samples_leaf=3, min_samples_split=4, n_estimators=100 \n",
      "[CV]  max_depth=20, max_features=auto, min_samples_leaf=3, min_samples_split=4, n_estimators=100, total=   0.3s\n",
      "[CV] max_depth=20, max_features=auto, min_samples_leaf=3, min_samples_split=4, n_estimators=100 \n",
      "[CV]  max_depth=20, max_features=auto, min_samples_leaf=3, min_samples_split=4, n_estimators=100, total=   0.2s\n",
      "[CV] max_depth=20, max_features=auto, min_samples_leaf=3, min_samples_split=4, n_estimators=100 \n",
      "[CV]  max_depth=20, max_features=auto, min_samples_leaf=3, min_samples_split=4, n_estimators=100, total=   0.2s\n",
      "[CV] max_depth=20, max_features=auto, min_samples_leaf=3, min_samples_split=4, n_estimators=100 \n",
      "[CV]  max_depth=20, max_features=auto, min_samples_leaf=3, min_samples_split=4, n_estimators=100, total=   0.2s\n",
      "[CV] max_depth=20, max_features=auto, min_samples_leaf=3, min_samples_split=4, n_estimators=200 \n",
      "[CV]  max_depth=20, max_features=auto, min_samples_leaf=3, min_samples_split=4, n_estimators=200, total=   0.6s\n",
      "[CV] max_depth=20, max_features=auto, min_samples_leaf=3, min_samples_split=4, n_estimators=200 \n",
      "[CV]  max_depth=20, max_features=auto, min_samples_leaf=3, min_samples_split=4, n_estimators=200, total=   0.6s\n",
      "[CV] max_depth=20, max_features=auto, min_samples_leaf=3, min_samples_split=4, n_estimators=200 \n",
      "[CV]  max_depth=20, max_features=auto, min_samples_leaf=3, min_samples_split=4, n_estimators=200, total=   0.5s\n",
      "[CV] max_depth=20, max_features=auto, min_samples_leaf=3, min_samples_split=4, n_estimators=200 \n",
      "[CV]  max_depth=20, max_features=auto, min_samples_leaf=3, min_samples_split=4, n_estimators=200, total=   0.5s\n",
      "[CV] max_depth=20, max_features=auto, min_samples_leaf=3, min_samples_split=4, n_estimators=200 \n",
      "[CV]  max_depth=20, max_features=auto, min_samples_leaf=3, min_samples_split=4, n_estimators=200, total=   0.6s\n",
      "[CV] max_depth=20, max_features=auto, min_samples_leaf=3, min_samples_split=4, n_estimators=200 \n",
      "[CV]  max_depth=20, max_features=auto, min_samples_leaf=3, min_samples_split=4, n_estimators=200, total=   0.5s\n",
      "[CV] max_depth=20, max_features=auto, min_samples_leaf=3, min_samples_split=4, n_estimators=200 \n",
      "[CV]  max_depth=20, max_features=auto, min_samples_leaf=3, min_samples_split=4, n_estimators=200, total=   0.5s\n",
      "[CV] max_depth=20, max_features=auto, min_samples_leaf=3, min_samples_split=4, n_estimators=200 \n",
      "[CV]  max_depth=20, max_features=auto, min_samples_leaf=3, min_samples_split=4, n_estimators=200, total=   0.5s\n",
      "[CV] max_depth=20, max_features=auto, min_samples_leaf=3, min_samples_split=4, n_estimators=200 \n",
      "[CV]  max_depth=20, max_features=auto, min_samples_leaf=3, min_samples_split=4, n_estimators=200, total=   0.6s\n",
      "[CV] max_depth=20, max_features=auto, min_samples_leaf=3, min_samples_split=4, n_estimators=200 \n",
      "[CV]  max_depth=20, max_features=auto, min_samples_leaf=3, min_samples_split=4, n_estimators=200, total=   0.5s\n",
      "[CV] max_depth=20, max_features=auto, min_samples_leaf=3, min_samples_split=6, n_estimators=100 \n",
      "[CV]  max_depth=20, max_features=auto, min_samples_leaf=3, min_samples_split=6, n_estimators=100, total=   0.4s\n",
      "[CV] max_depth=20, max_features=auto, min_samples_leaf=3, min_samples_split=6, n_estimators=100 \n",
      "[CV]  max_depth=20, max_features=auto, min_samples_leaf=3, min_samples_split=6, n_estimators=100, total=   0.4s\n",
      "[CV] max_depth=20, max_features=auto, min_samples_leaf=3, min_samples_split=6, n_estimators=100 \n",
      "[CV]  max_depth=20, max_features=auto, min_samples_leaf=3, min_samples_split=6, n_estimators=100, total=   0.3s\n",
      "[CV] max_depth=20, max_features=auto, min_samples_leaf=3, min_samples_split=6, n_estimators=100 \n",
      "[CV]  max_depth=20, max_features=auto, min_samples_leaf=3, min_samples_split=6, n_estimators=100, total=   0.3s\n",
      "[CV] max_depth=20, max_features=auto, min_samples_leaf=3, min_samples_split=6, n_estimators=100 \n",
      "[CV]  max_depth=20, max_features=auto, min_samples_leaf=3, min_samples_split=6, n_estimators=100, total=   0.3s\n",
      "[CV] max_depth=20, max_features=auto, min_samples_leaf=3, min_samples_split=6, n_estimators=100 \n",
      "[CV]  max_depth=20, max_features=auto, min_samples_leaf=3, min_samples_split=6, n_estimators=100, total=   0.3s\n",
      "[CV] max_depth=20, max_features=auto, min_samples_leaf=3, min_samples_split=6, n_estimators=100 \n",
      "[CV]  max_depth=20, max_features=auto, min_samples_leaf=3, min_samples_split=6, n_estimators=100, total=   0.3s\n",
      "[CV] max_depth=20, max_features=auto, min_samples_leaf=3, min_samples_split=6, n_estimators=100 \n",
      "[CV]  max_depth=20, max_features=auto, min_samples_leaf=3, min_samples_split=6, n_estimators=100, total=   0.2s\n",
      "[CV] max_depth=20, max_features=auto, min_samples_leaf=3, min_samples_split=6, n_estimators=100 \n",
      "[CV]  max_depth=20, max_features=auto, min_samples_leaf=3, min_samples_split=6, n_estimators=100, total=   0.3s\n",
      "[CV] max_depth=20, max_features=auto, min_samples_leaf=3, min_samples_split=6, n_estimators=100 \n",
      "[CV]  max_depth=20, max_features=auto, min_samples_leaf=3, min_samples_split=6, n_estimators=100, total=   0.4s\n",
      "[CV] max_depth=20, max_features=auto, min_samples_leaf=3, min_samples_split=6, n_estimators=200 \n",
      "[CV]  max_depth=20, max_features=auto, min_samples_leaf=3, min_samples_split=6, n_estimators=200, total=   0.6s\n",
      "[CV] max_depth=20, max_features=auto, min_samples_leaf=3, min_samples_split=6, n_estimators=200 \n",
      "[CV]  max_depth=20, max_features=auto, min_samples_leaf=3, min_samples_split=6, n_estimators=200, total=   0.5s\n",
      "[CV] max_depth=20, max_features=auto, min_samples_leaf=3, min_samples_split=6, n_estimators=200 \n",
      "[CV]  max_depth=20, max_features=auto, min_samples_leaf=3, min_samples_split=6, n_estimators=200, total=   0.6s\n",
      "[CV] max_depth=20, max_features=auto, min_samples_leaf=3, min_samples_split=6, n_estimators=200 \n",
      "[CV]  max_depth=20, max_features=auto, min_samples_leaf=3, min_samples_split=6, n_estimators=200, total=   0.7s\n",
      "[CV] max_depth=20, max_features=auto, min_samples_leaf=3, min_samples_split=6, n_estimators=200 \n",
      "[CV]  max_depth=20, max_features=auto, min_samples_leaf=3, min_samples_split=6, n_estimators=200, total=   0.5s\n",
      "[CV] max_depth=20, max_features=auto, min_samples_leaf=3, min_samples_split=6, n_estimators=200 \n",
      "[CV]  max_depth=20, max_features=auto, min_samples_leaf=3, min_samples_split=6, n_estimators=200, total=   0.5s\n",
      "[CV] max_depth=20, max_features=auto, min_samples_leaf=3, min_samples_split=6, n_estimators=200 \n",
      "[CV]  max_depth=20, max_features=auto, min_samples_leaf=3, min_samples_split=6, n_estimators=200, total=   0.7s\n",
      "[CV] max_depth=20, max_features=auto, min_samples_leaf=3, min_samples_split=6, n_estimators=200 \n",
      "[CV]  max_depth=20, max_features=auto, min_samples_leaf=3, min_samples_split=6, n_estimators=200, total=   0.6s\n",
      "[CV] max_depth=20, max_features=auto, min_samples_leaf=3, min_samples_split=6, n_estimators=200 \n",
      "[CV]  max_depth=20, max_features=auto, min_samples_leaf=3, min_samples_split=6, n_estimators=200, total=   0.5s\n",
      "[CV] max_depth=20, max_features=auto, min_samples_leaf=3, min_samples_split=6, n_estimators=200 \n",
      "[CV]  max_depth=20, max_features=auto, min_samples_leaf=3, min_samples_split=6, n_estimators=200, total=   0.6s\n",
      "[CV] max_depth=20, max_features=auto, min_samples_leaf=2, min_samples_split=4, n_estimators=100 \n",
      "[CV]  max_depth=20, max_features=auto, min_samples_leaf=2, min_samples_split=4, n_estimators=100, total=   0.5s\n",
      "[CV] max_depth=20, max_features=auto, min_samples_leaf=2, min_samples_split=4, n_estimators=100 \n"
     ]
    },
    {
     "name": "stdout",
     "output_type": "stream",
     "text": [
      "[CV]  max_depth=20, max_features=auto, min_samples_leaf=2, min_samples_split=4, n_estimators=100, total=   0.4s\n",
      "[CV] max_depth=20, max_features=auto, min_samples_leaf=2, min_samples_split=4, n_estimators=100 \n",
      "[CV]  max_depth=20, max_features=auto, min_samples_leaf=2, min_samples_split=4, n_estimators=100, total=   0.3s\n",
      "[CV] max_depth=20, max_features=auto, min_samples_leaf=2, min_samples_split=4, n_estimators=100 \n",
      "[CV]  max_depth=20, max_features=auto, min_samples_leaf=2, min_samples_split=4, n_estimators=100, total=   0.4s\n",
      "[CV] max_depth=20, max_features=auto, min_samples_leaf=2, min_samples_split=4, n_estimators=100 \n",
      "[CV]  max_depth=20, max_features=auto, min_samples_leaf=2, min_samples_split=4, n_estimators=100, total=   0.2s\n",
      "[CV] max_depth=20, max_features=auto, min_samples_leaf=2, min_samples_split=4, n_estimators=100 \n",
      "[CV]  max_depth=20, max_features=auto, min_samples_leaf=2, min_samples_split=4, n_estimators=100, total=   0.4s\n",
      "[CV] max_depth=20, max_features=auto, min_samples_leaf=2, min_samples_split=4, n_estimators=100 \n",
      "[CV]  max_depth=20, max_features=auto, min_samples_leaf=2, min_samples_split=4, n_estimators=100, total=   0.3s\n",
      "[CV] max_depth=20, max_features=auto, min_samples_leaf=2, min_samples_split=4, n_estimators=100 \n",
      "[CV]  max_depth=20, max_features=auto, min_samples_leaf=2, min_samples_split=4, n_estimators=100, total=   0.4s\n",
      "[CV] max_depth=20, max_features=auto, min_samples_leaf=2, min_samples_split=4, n_estimators=100 \n",
      "[CV]  max_depth=20, max_features=auto, min_samples_leaf=2, min_samples_split=4, n_estimators=100, total=   0.3s\n",
      "[CV] max_depth=20, max_features=auto, min_samples_leaf=2, min_samples_split=4, n_estimators=100 \n",
      "[CV]  max_depth=20, max_features=auto, min_samples_leaf=2, min_samples_split=4, n_estimators=100, total=   0.2s\n",
      "[CV] max_depth=20, max_features=auto, min_samples_leaf=2, min_samples_split=4, n_estimators=200 \n",
      "[CV]  max_depth=20, max_features=auto, min_samples_leaf=2, min_samples_split=4, n_estimators=200, total=   0.6s\n",
      "[CV] max_depth=20, max_features=auto, min_samples_leaf=2, min_samples_split=4, n_estimators=200 \n",
      "[CV]  max_depth=20, max_features=auto, min_samples_leaf=2, min_samples_split=4, n_estimators=200, total=   0.7s\n",
      "[CV] max_depth=20, max_features=auto, min_samples_leaf=2, min_samples_split=4, n_estimators=200 \n",
      "[CV]  max_depth=20, max_features=auto, min_samples_leaf=2, min_samples_split=4, n_estimators=200, total=   0.6s\n",
      "[CV] max_depth=20, max_features=auto, min_samples_leaf=2, min_samples_split=4, n_estimators=200 \n",
      "[CV]  max_depth=20, max_features=auto, min_samples_leaf=2, min_samples_split=4, n_estimators=200, total=   0.6s\n",
      "[CV] max_depth=20, max_features=auto, min_samples_leaf=2, min_samples_split=4, n_estimators=200 \n",
      "[CV]  max_depth=20, max_features=auto, min_samples_leaf=2, min_samples_split=4, n_estimators=200, total=   0.6s\n",
      "[CV] max_depth=20, max_features=auto, min_samples_leaf=2, min_samples_split=4, n_estimators=200 \n",
      "[CV]  max_depth=20, max_features=auto, min_samples_leaf=2, min_samples_split=4, n_estimators=200, total=   0.6s\n",
      "[CV] max_depth=20, max_features=auto, min_samples_leaf=2, min_samples_split=4, n_estimators=200 \n",
      "[CV]  max_depth=20, max_features=auto, min_samples_leaf=2, min_samples_split=4, n_estimators=200, total=   0.5s\n",
      "[CV] max_depth=20, max_features=auto, min_samples_leaf=2, min_samples_split=4, n_estimators=200 \n",
      "[CV]  max_depth=20, max_features=auto, min_samples_leaf=2, min_samples_split=4, n_estimators=200, total=   0.6s\n",
      "[CV] max_depth=20, max_features=auto, min_samples_leaf=2, min_samples_split=4, n_estimators=200 \n",
      "[CV]  max_depth=20, max_features=auto, min_samples_leaf=2, min_samples_split=4, n_estimators=200, total=   0.7s\n",
      "[CV] max_depth=20, max_features=auto, min_samples_leaf=2, min_samples_split=4, n_estimators=200 \n",
      "[CV]  max_depth=20, max_features=auto, min_samples_leaf=2, min_samples_split=4, n_estimators=200, total=   0.5s\n",
      "[CV] max_depth=20, max_features=auto, min_samples_leaf=2, min_samples_split=6, n_estimators=100 \n",
      "[CV]  max_depth=20, max_features=auto, min_samples_leaf=2, min_samples_split=6, n_estimators=100, total=   0.2s\n",
      "[CV] max_depth=20, max_features=auto, min_samples_leaf=2, min_samples_split=6, n_estimators=100 \n",
      "[CV]  max_depth=20, max_features=auto, min_samples_leaf=2, min_samples_split=6, n_estimators=100, total=   0.3s\n",
      "[CV] max_depth=20, max_features=auto, min_samples_leaf=2, min_samples_split=6, n_estimators=100 \n",
      "[CV]  max_depth=20, max_features=auto, min_samples_leaf=2, min_samples_split=6, n_estimators=100, total=   0.3s\n",
      "[CV] max_depth=20, max_features=auto, min_samples_leaf=2, min_samples_split=6, n_estimators=100 \n",
      "[CV]  max_depth=20, max_features=auto, min_samples_leaf=2, min_samples_split=6, n_estimators=100, total=   0.3s\n",
      "[CV] max_depth=20, max_features=auto, min_samples_leaf=2, min_samples_split=6, n_estimators=100 \n",
      "[CV]  max_depth=20, max_features=auto, min_samples_leaf=2, min_samples_split=6, n_estimators=100, total=   0.3s\n",
      "[CV] max_depth=20, max_features=auto, min_samples_leaf=2, min_samples_split=6, n_estimators=100 \n",
      "[CV]  max_depth=20, max_features=auto, min_samples_leaf=2, min_samples_split=6, n_estimators=100, total=   0.3s\n",
      "[CV] max_depth=20, max_features=auto, min_samples_leaf=2, min_samples_split=6, n_estimators=100 \n",
      "[CV]  max_depth=20, max_features=auto, min_samples_leaf=2, min_samples_split=6, n_estimators=100, total=   0.3s\n",
      "[CV] max_depth=20, max_features=auto, min_samples_leaf=2, min_samples_split=6, n_estimators=100 \n",
      "[CV]  max_depth=20, max_features=auto, min_samples_leaf=2, min_samples_split=6, n_estimators=100, total=   0.2s\n",
      "[CV] max_depth=20, max_features=auto, min_samples_leaf=2, min_samples_split=6, n_estimators=100 \n",
      "[CV]  max_depth=20, max_features=auto, min_samples_leaf=2, min_samples_split=6, n_estimators=100, total=   0.2s\n",
      "[CV] max_depth=20, max_features=auto, min_samples_leaf=2, min_samples_split=6, n_estimators=100 \n",
      "[CV]  max_depth=20, max_features=auto, min_samples_leaf=2, min_samples_split=6, n_estimators=100, total=   0.2s\n",
      "[CV] max_depth=20, max_features=auto, min_samples_leaf=2, min_samples_split=6, n_estimators=200 \n",
      "[CV]  max_depth=20, max_features=auto, min_samples_leaf=2, min_samples_split=6, n_estimators=200, total=   0.8s\n",
      "[CV] max_depth=20, max_features=auto, min_samples_leaf=2, min_samples_split=6, n_estimators=200 \n",
      "[CV]  max_depth=20, max_features=auto, min_samples_leaf=2, min_samples_split=6, n_estimators=200, total=   0.5s\n",
      "[CV] max_depth=20, max_features=auto, min_samples_leaf=2, min_samples_split=6, n_estimators=200 \n",
      "[CV]  max_depth=20, max_features=auto, min_samples_leaf=2, min_samples_split=6, n_estimators=200, total=   0.5s\n",
      "[CV] max_depth=20, max_features=auto, min_samples_leaf=2, min_samples_split=6, n_estimators=200 \n",
      "[CV]  max_depth=20, max_features=auto, min_samples_leaf=2, min_samples_split=6, n_estimators=200, total=   0.5s\n",
      "[CV] max_depth=20, max_features=auto, min_samples_leaf=2, min_samples_split=6, n_estimators=200 \n",
      "[CV]  max_depth=20, max_features=auto, min_samples_leaf=2, min_samples_split=6, n_estimators=200, total=   0.6s\n",
      "[CV] max_depth=20, max_features=auto, min_samples_leaf=2, min_samples_split=6, n_estimators=200 \n",
      "[CV]  max_depth=20, max_features=auto, min_samples_leaf=2, min_samples_split=6, n_estimators=200, total=   0.5s\n",
      "[CV] max_depth=20, max_features=auto, min_samples_leaf=2, min_samples_split=6, n_estimators=200 \n",
      "[CV]  max_depth=20, max_features=auto, min_samples_leaf=2, min_samples_split=6, n_estimators=200, total=   0.5s\n",
      "[CV] max_depth=20, max_features=auto, min_samples_leaf=2, min_samples_split=6, n_estimators=200 \n",
      "[CV]  max_depth=20, max_features=auto, min_samples_leaf=2, min_samples_split=6, n_estimators=200, total=   0.6s\n",
      "[CV] max_depth=20, max_features=auto, min_samples_leaf=2, min_samples_split=6, n_estimators=200 \n",
      "[CV]  max_depth=20, max_features=auto, min_samples_leaf=2, min_samples_split=6, n_estimators=200, total=   0.6s\n",
      "[CV] max_depth=20, max_features=auto, min_samples_leaf=2, min_samples_split=6, n_estimators=200 \n",
      "[CV]  max_depth=20, max_features=auto, min_samples_leaf=2, min_samples_split=6, n_estimators=200, total=   0.5s\n",
      "[CV] max_depth=40, max_features=sqrt, min_samples_leaf=3, min_samples_split=4, n_estimators=100 \n",
      "[CV]  max_depth=40, max_features=sqrt, min_samples_leaf=3, min_samples_split=4, n_estimators=100, total=   0.2s\n",
      "[CV] max_depth=40, max_features=sqrt, min_samples_leaf=3, min_samples_split=4, n_estimators=100 \n"
     ]
    },
    {
     "name": "stdout",
     "output_type": "stream",
     "text": [
      "[CV]  max_depth=40, max_features=sqrt, min_samples_leaf=3, min_samples_split=4, n_estimators=100, total=   0.3s\n",
      "[CV] max_depth=40, max_features=sqrt, min_samples_leaf=3, min_samples_split=4, n_estimators=100 \n",
      "[CV]  max_depth=40, max_features=sqrt, min_samples_leaf=3, min_samples_split=4, n_estimators=100, total=   0.3s\n",
      "[CV] max_depth=40, max_features=sqrt, min_samples_leaf=3, min_samples_split=4, n_estimators=100 \n",
      "[CV]  max_depth=40, max_features=sqrt, min_samples_leaf=3, min_samples_split=4, n_estimators=100, total=   0.3s\n",
      "[CV] max_depth=40, max_features=sqrt, min_samples_leaf=3, min_samples_split=4, n_estimators=100 \n",
      "[CV]  max_depth=40, max_features=sqrt, min_samples_leaf=3, min_samples_split=4, n_estimators=100, total=   0.3s\n",
      "[CV] max_depth=40, max_features=sqrt, min_samples_leaf=3, min_samples_split=4, n_estimators=100 \n",
      "[CV]  max_depth=40, max_features=sqrt, min_samples_leaf=3, min_samples_split=4, n_estimators=100, total=   0.3s\n",
      "[CV] max_depth=40, max_features=sqrt, min_samples_leaf=3, min_samples_split=4, n_estimators=100 \n",
      "[CV]  max_depth=40, max_features=sqrt, min_samples_leaf=3, min_samples_split=4, n_estimators=100, total=   0.3s\n",
      "[CV] max_depth=40, max_features=sqrt, min_samples_leaf=3, min_samples_split=4, n_estimators=100 \n",
      "[CV]  max_depth=40, max_features=sqrt, min_samples_leaf=3, min_samples_split=4, n_estimators=100, total=   0.3s\n",
      "[CV] max_depth=40, max_features=sqrt, min_samples_leaf=3, min_samples_split=4, n_estimators=100 \n",
      "[CV]  max_depth=40, max_features=sqrt, min_samples_leaf=3, min_samples_split=4, n_estimators=100, total=   0.3s\n",
      "[CV] max_depth=40, max_features=sqrt, min_samples_leaf=3, min_samples_split=4, n_estimators=100 \n",
      "[CV]  max_depth=40, max_features=sqrt, min_samples_leaf=3, min_samples_split=4, n_estimators=100, total=   0.3s\n",
      "[CV] max_depth=40, max_features=sqrt, min_samples_leaf=3, min_samples_split=4, n_estimators=200 \n",
      "[CV]  max_depth=40, max_features=sqrt, min_samples_leaf=3, min_samples_split=4, n_estimators=200, total=   0.6s\n",
      "[CV] max_depth=40, max_features=sqrt, min_samples_leaf=3, min_samples_split=4, n_estimators=200 \n",
      "[CV]  max_depth=40, max_features=sqrt, min_samples_leaf=3, min_samples_split=4, n_estimators=200, total=   0.5s\n",
      "[CV] max_depth=40, max_features=sqrt, min_samples_leaf=3, min_samples_split=4, n_estimators=200 \n",
      "[CV]  max_depth=40, max_features=sqrt, min_samples_leaf=3, min_samples_split=4, n_estimators=200, total=   0.5s\n",
      "[CV] max_depth=40, max_features=sqrt, min_samples_leaf=3, min_samples_split=4, n_estimators=200 \n",
      "[CV]  max_depth=40, max_features=sqrt, min_samples_leaf=3, min_samples_split=4, n_estimators=200, total=   0.6s\n",
      "[CV] max_depth=40, max_features=sqrt, min_samples_leaf=3, min_samples_split=4, n_estimators=200 \n",
      "[CV]  max_depth=40, max_features=sqrt, min_samples_leaf=3, min_samples_split=4, n_estimators=200, total=   0.6s\n",
      "[CV] max_depth=40, max_features=sqrt, min_samples_leaf=3, min_samples_split=4, n_estimators=200 \n",
      "[CV]  max_depth=40, max_features=sqrt, min_samples_leaf=3, min_samples_split=4, n_estimators=200, total=   0.5s\n",
      "[CV] max_depth=40, max_features=sqrt, min_samples_leaf=3, min_samples_split=4, n_estimators=200 \n",
      "[CV]  max_depth=40, max_features=sqrt, min_samples_leaf=3, min_samples_split=4, n_estimators=200, total=   0.5s\n",
      "[CV] max_depth=40, max_features=sqrt, min_samples_leaf=3, min_samples_split=4, n_estimators=200 \n",
      "[CV]  max_depth=40, max_features=sqrt, min_samples_leaf=3, min_samples_split=4, n_estimators=200, total=   0.6s\n",
      "[CV] max_depth=40, max_features=sqrt, min_samples_leaf=3, min_samples_split=4, n_estimators=200 \n",
      "[CV]  max_depth=40, max_features=sqrt, min_samples_leaf=3, min_samples_split=4, n_estimators=200, total=   0.5s\n",
      "[CV] max_depth=40, max_features=sqrt, min_samples_leaf=3, min_samples_split=4, n_estimators=200 \n",
      "[CV]  max_depth=40, max_features=sqrt, min_samples_leaf=3, min_samples_split=4, n_estimators=200, total=   0.5s\n",
      "[CV] max_depth=40, max_features=sqrt, min_samples_leaf=3, min_samples_split=6, n_estimators=100 \n",
      "[CV]  max_depth=40, max_features=sqrt, min_samples_leaf=3, min_samples_split=6, n_estimators=100, total=   0.2s\n",
      "[CV] max_depth=40, max_features=sqrt, min_samples_leaf=3, min_samples_split=6, n_estimators=100 \n",
      "[CV]  max_depth=40, max_features=sqrt, min_samples_leaf=3, min_samples_split=6, n_estimators=100, total=   0.3s\n",
      "[CV] max_depth=40, max_features=sqrt, min_samples_leaf=3, min_samples_split=6, n_estimators=100 \n",
      "[CV]  max_depth=40, max_features=sqrt, min_samples_leaf=3, min_samples_split=6, n_estimators=100, total=   0.3s\n",
      "[CV] max_depth=40, max_features=sqrt, min_samples_leaf=3, min_samples_split=6, n_estimators=100 \n",
      "[CV]  max_depth=40, max_features=sqrt, min_samples_leaf=3, min_samples_split=6, n_estimators=100, total=   0.3s\n",
      "[CV] max_depth=40, max_features=sqrt, min_samples_leaf=3, min_samples_split=6, n_estimators=100 \n",
      "[CV]  max_depth=40, max_features=sqrt, min_samples_leaf=3, min_samples_split=6, n_estimators=100, total=   0.3s\n",
      "[CV] max_depth=40, max_features=sqrt, min_samples_leaf=3, min_samples_split=6, n_estimators=100 \n",
      "[CV]  max_depth=40, max_features=sqrt, min_samples_leaf=3, min_samples_split=6, n_estimators=100, total=   0.2s\n",
      "[CV] max_depth=40, max_features=sqrt, min_samples_leaf=3, min_samples_split=6, n_estimators=100 \n",
      "[CV]  max_depth=40, max_features=sqrt, min_samples_leaf=3, min_samples_split=6, n_estimators=100, total=   0.2s\n",
      "[CV] max_depth=40, max_features=sqrt, min_samples_leaf=3, min_samples_split=6, n_estimators=100 \n",
      "[CV]  max_depth=40, max_features=sqrt, min_samples_leaf=3, min_samples_split=6, n_estimators=100, total=   0.2s\n",
      "[CV] max_depth=40, max_features=sqrt, min_samples_leaf=3, min_samples_split=6, n_estimators=100 \n",
      "[CV]  max_depth=40, max_features=sqrt, min_samples_leaf=3, min_samples_split=6, n_estimators=100, total=   0.3s\n",
      "[CV] max_depth=40, max_features=sqrt, min_samples_leaf=3, min_samples_split=6, n_estimators=100 \n",
      "[CV]  max_depth=40, max_features=sqrt, min_samples_leaf=3, min_samples_split=6, n_estimators=100, total=   0.3s\n",
      "[CV] max_depth=40, max_features=sqrt, min_samples_leaf=3, min_samples_split=6, n_estimators=200 \n",
      "[CV]  max_depth=40, max_features=sqrt, min_samples_leaf=3, min_samples_split=6, n_estimators=200, total=   0.7s\n",
      "[CV] max_depth=40, max_features=sqrt, min_samples_leaf=3, min_samples_split=6, n_estimators=200 \n",
      "[CV]  max_depth=40, max_features=sqrt, min_samples_leaf=3, min_samples_split=6, n_estimators=200, total=   0.5s\n",
      "[CV] max_depth=40, max_features=sqrt, min_samples_leaf=3, min_samples_split=6, n_estimators=200 \n",
      "[CV]  max_depth=40, max_features=sqrt, min_samples_leaf=3, min_samples_split=6, n_estimators=200, total=   0.5s\n",
      "[CV] max_depth=40, max_features=sqrt, min_samples_leaf=3, min_samples_split=6, n_estimators=200 \n",
      "[CV]  max_depth=40, max_features=sqrt, min_samples_leaf=3, min_samples_split=6, n_estimators=200, total=   0.6s\n",
      "[CV] max_depth=40, max_features=sqrt, min_samples_leaf=3, min_samples_split=6, n_estimators=200 \n",
      "[CV]  max_depth=40, max_features=sqrt, min_samples_leaf=3, min_samples_split=6, n_estimators=200, total=   0.5s\n",
      "[CV] max_depth=40, max_features=sqrt, min_samples_leaf=3, min_samples_split=6, n_estimators=200 \n",
      "[CV]  max_depth=40, max_features=sqrt, min_samples_leaf=3, min_samples_split=6, n_estimators=200, total=   0.5s\n",
      "[CV] max_depth=40, max_features=sqrt, min_samples_leaf=3, min_samples_split=6, n_estimators=200 \n",
      "[CV]  max_depth=40, max_features=sqrt, min_samples_leaf=3, min_samples_split=6, n_estimators=200, total=   0.5s\n",
      "[CV] max_depth=40, max_features=sqrt, min_samples_leaf=3, min_samples_split=6, n_estimators=200 \n",
      "[CV]  max_depth=40, max_features=sqrt, min_samples_leaf=3, min_samples_split=6, n_estimators=200, total=   0.6s\n",
      "[CV] max_depth=40, max_features=sqrt, min_samples_leaf=3, min_samples_split=6, n_estimators=200 \n",
      "[CV]  max_depth=40, max_features=sqrt, min_samples_leaf=3, min_samples_split=6, n_estimators=200, total=   0.5s\n",
      "[CV] max_depth=40, max_features=sqrt, min_samples_leaf=3, min_samples_split=6, n_estimators=200 \n",
      "[CV]  max_depth=40, max_features=sqrt, min_samples_leaf=3, min_samples_split=6, n_estimators=200, total=   0.5s\n",
      "[CV] max_depth=40, max_features=sqrt, min_samples_leaf=2, min_samples_split=4, n_estimators=100 \n",
      "[CV]  max_depth=40, max_features=sqrt, min_samples_leaf=2, min_samples_split=4, n_estimators=100, total=   0.3s\n",
      "[CV] max_depth=40, max_features=sqrt, min_samples_leaf=2, min_samples_split=4, n_estimators=100 \n"
     ]
    },
    {
     "name": "stdout",
     "output_type": "stream",
     "text": [
      "[CV]  max_depth=40, max_features=sqrt, min_samples_leaf=2, min_samples_split=4, n_estimators=100, total=   0.3s\n",
      "[CV] max_depth=40, max_features=sqrt, min_samples_leaf=2, min_samples_split=4, n_estimators=100 \n",
      "[CV]  max_depth=40, max_features=sqrt, min_samples_leaf=2, min_samples_split=4, n_estimators=100, total=   0.3s\n",
      "[CV] max_depth=40, max_features=sqrt, min_samples_leaf=2, min_samples_split=4, n_estimators=100 \n",
      "[CV]  max_depth=40, max_features=sqrt, min_samples_leaf=2, min_samples_split=4, n_estimators=100, total=   0.3s\n",
      "[CV] max_depth=40, max_features=sqrt, min_samples_leaf=2, min_samples_split=4, n_estimators=100 \n",
      "[CV]  max_depth=40, max_features=sqrt, min_samples_leaf=2, min_samples_split=4, n_estimators=100, total=   0.2s\n",
      "[CV] max_depth=40, max_features=sqrt, min_samples_leaf=2, min_samples_split=4, n_estimators=100 \n",
      "[CV]  max_depth=40, max_features=sqrt, min_samples_leaf=2, min_samples_split=4, n_estimators=100, total=   0.2s\n",
      "[CV] max_depth=40, max_features=sqrt, min_samples_leaf=2, min_samples_split=4, n_estimators=100 \n",
      "[CV]  max_depth=40, max_features=sqrt, min_samples_leaf=2, min_samples_split=4, n_estimators=100, total=   0.2s\n",
      "[CV] max_depth=40, max_features=sqrt, min_samples_leaf=2, min_samples_split=4, n_estimators=100 \n",
      "[CV]  max_depth=40, max_features=sqrt, min_samples_leaf=2, min_samples_split=4, n_estimators=100, total=   0.2s\n",
      "[CV] max_depth=40, max_features=sqrt, min_samples_leaf=2, min_samples_split=4, n_estimators=100 \n",
      "[CV]  max_depth=40, max_features=sqrt, min_samples_leaf=2, min_samples_split=4, n_estimators=100, total=   0.3s\n",
      "[CV] max_depth=40, max_features=sqrt, min_samples_leaf=2, min_samples_split=4, n_estimators=100 \n",
      "[CV]  max_depth=40, max_features=sqrt, min_samples_leaf=2, min_samples_split=4, n_estimators=100, total=   0.3s\n",
      "[CV] max_depth=40, max_features=sqrt, min_samples_leaf=2, min_samples_split=4, n_estimators=200 \n",
      "[CV]  max_depth=40, max_features=sqrt, min_samples_leaf=2, min_samples_split=4, n_estimators=200, total=   0.5s\n",
      "[CV] max_depth=40, max_features=sqrt, min_samples_leaf=2, min_samples_split=4, n_estimators=200 \n",
      "[CV]  max_depth=40, max_features=sqrt, min_samples_leaf=2, min_samples_split=4, n_estimators=200, total=   0.5s\n",
      "[CV] max_depth=40, max_features=sqrt, min_samples_leaf=2, min_samples_split=4, n_estimators=200 \n",
      "[CV]  max_depth=40, max_features=sqrt, min_samples_leaf=2, min_samples_split=4, n_estimators=200, total=   0.5s\n",
      "[CV] max_depth=40, max_features=sqrt, min_samples_leaf=2, min_samples_split=4, n_estimators=200 \n",
      "[CV]  max_depth=40, max_features=sqrt, min_samples_leaf=2, min_samples_split=4, n_estimators=200, total=   0.6s\n",
      "[CV] max_depth=40, max_features=sqrt, min_samples_leaf=2, min_samples_split=4, n_estimators=200 \n",
      "[CV]  max_depth=40, max_features=sqrt, min_samples_leaf=2, min_samples_split=4, n_estimators=200, total=   0.5s\n",
      "[CV] max_depth=40, max_features=sqrt, min_samples_leaf=2, min_samples_split=4, n_estimators=200 \n",
      "[CV]  max_depth=40, max_features=sqrt, min_samples_leaf=2, min_samples_split=4, n_estimators=200, total=   0.5s\n",
      "[CV] max_depth=40, max_features=sqrt, min_samples_leaf=2, min_samples_split=4, n_estimators=200 \n",
      "[CV]  max_depth=40, max_features=sqrt, min_samples_leaf=2, min_samples_split=4, n_estimators=200, total=   0.5s\n",
      "[CV] max_depth=40, max_features=sqrt, min_samples_leaf=2, min_samples_split=4, n_estimators=200 \n",
      "[CV]  max_depth=40, max_features=sqrt, min_samples_leaf=2, min_samples_split=4, n_estimators=200, total=   0.6s\n",
      "[CV] max_depth=40, max_features=sqrt, min_samples_leaf=2, min_samples_split=4, n_estimators=200 \n",
      "[CV]  max_depth=40, max_features=sqrt, min_samples_leaf=2, min_samples_split=4, n_estimators=200, total=   0.5s\n",
      "[CV] max_depth=40, max_features=sqrt, min_samples_leaf=2, min_samples_split=4, n_estimators=200 \n",
      "[CV]  max_depth=40, max_features=sqrt, min_samples_leaf=2, min_samples_split=4, n_estimators=200, total=   0.5s\n",
      "[CV] max_depth=40, max_features=sqrt, min_samples_leaf=2, min_samples_split=6, n_estimators=100 \n",
      "[CV]  max_depth=40, max_features=sqrt, min_samples_leaf=2, min_samples_split=6, n_estimators=100, total=   0.3s\n",
      "[CV] max_depth=40, max_features=sqrt, min_samples_leaf=2, min_samples_split=6, n_estimators=100 \n",
      "[CV]  max_depth=40, max_features=sqrt, min_samples_leaf=2, min_samples_split=6, n_estimators=100, total=   0.4s\n",
      "[CV] max_depth=40, max_features=sqrt, min_samples_leaf=2, min_samples_split=6, n_estimators=100 \n",
      "[CV]  max_depth=40, max_features=sqrt, min_samples_leaf=2, min_samples_split=6, n_estimators=100, total=   0.4s\n",
      "[CV] max_depth=40, max_features=sqrt, min_samples_leaf=2, min_samples_split=6, n_estimators=100 \n",
      "[CV]  max_depth=40, max_features=sqrt, min_samples_leaf=2, min_samples_split=6, n_estimators=100, total=   0.4s\n",
      "[CV] max_depth=40, max_features=sqrt, min_samples_leaf=2, min_samples_split=6, n_estimators=100 \n",
      "[CV]  max_depth=40, max_features=sqrt, min_samples_leaf=2, min_samples_split=6, n_estimators=100, total=   0.3s\n",
      "[CV] max_depth=40, max_features=sqrt, min_samples_leaf=2, min_samples_split=6, n_estimators=100 \n",
      "[CV]  max_depth=40, max_features=sqrt, min_samples_leaf=2, min_samples_split=6, n_estimators=100, total=   0.3s\n",
      "[CV] max_depth=40, max_features=sqrt, min_samples_leaf=2, min_samples_split=6, n_estimators=100 \n",
      "[CV]  max_depth=40, max_features=sqrt, min_samples_leaf=2, min_samples_split=6, n_estimators=100, total=   0.3s\n",
      "[CV] max_depth=40, max_features=sqrt, min_samples_leaf=2, min_samples_split=6, n_estimators=100 \n",
      "[CV]  max_depth=40, max_features=sqrt, min_samples_leaf=2, min_samples_split=6, n_estimators=100, total=   0.4s\n",
      "[CV] max_depth=40, max_features=sqrt, min_samples_leaf=2, min_samples_split=6, n_estimators=100 \n",
      "[CV]  max_depth=40, max_features=sqrt, min_samples_leaf=2, min_samples_split=6, n_estimators=100, total=   0.4s\n",
      "[CV] max_depth=40, max_features=sqrt, min_samples_leaf=2, min_samples_split=6, n_estimators=100 \n",
      "[CV]  max_depth=40, max_features=sqrt, min_samples_leaf=2, min_samples_split=6, n_estimators=100, total=   0.4s\n",
      "[CV] max_depth=40, max_features=sqrt, min_samples_leaf=2, min_samples_split=6, n_estimators=200 \n",
      "[CV]  max_depth=40, max_features=sqrt, min_samples_leaf=2, min_samples_split=6, n_estimators=200, total=   0.6s\n",
      "[CV] max_depth=40, max_features=sqrt, min_samples_leaf=2, min_samples_split=6, n_estimators=200 \n",
      "[CV]  max_depth=40, max_features=sqrt, min_samples_leaf=2, min_samples_split=6, n_estimators=200, total=   0.6s\n",
      "[CV] max_depth=40, max_features=sqrt, min_samples_leaf=2, min_samples_split=6, n_estimators=200 \n",
      "[CV]  max_depth=40, max_features=sqrt, min_samples_leaf=2, min_samples_split=6, n_estimators=200, total=   0.6s\n",
      "[CV] max_depth=40, max_features=sqrt, min_samples_leaf=2, min_samples_split=6, n_estimators=200 \n",
      "[CV]  max_depth=40, max_features=sqrt, min_samples_leaf=2, min_samples_split=6, n_estimators=200, total=   0.5s\n",
      "[CV] max_depth=40, max_features=sqrt, min_samples_leaf=2, min_samples_split=6, n_estimators=200 \n",
      "[CV]  max_depth=40, max_features=sqrt, min_samples_leaf=2, min_samples_split=6, n_estimators=200, total=   0.7s\n",
      "[CV] max_depth=40, max_features=sqrt, min_samples_leaf=2, min_samples_split=6, n_estimators=200 \n",
      "[CV]  max_depth=40, max_features=sqrt, min_samples_leaf=2, min_samples_split=6, n_estimators=200, total=   0.6s\n",
      "[CV] max_depth=40, max_features=sqrt, min_samples_leaf=2, min_samples_split=6, n_estimators=200 \n",
      "[CV]  max_depth=40, max_features=sqrt, min_samples_leaf=2, min_samples_split=6, n_estimators=200, total=   0.5s\n",
      "[CV] max_depth=40, max_features=sqrt, min_samples_leaf=2, min_samples_split=6, n_estimators=200 \n",
      "[CV]  max_depth=40, max_features=sqrt, min_samples_leaf=2, min_samples_split=6, n_estimators=200, total=   0.5s\n",
      "[CV] max_depth=40, max_features=sqrt, min_samples_leaf=2, min_samples_split=6, n_estimators=200 \n",
      "[CV]  max_depth=40, max_features=sqrt, min_samples_leaf=2, min_samples_split=6, n_estimators=200, total=   0.6s\n",
      "[CV] max_depth=40, max_features=sqrt, min_samples_leaf=2, min_samples_split=6, n_estimators=200 \n",
      "[CV]  max_depth=40, max_features=sqrt, min_samples_leaf=2, min_samples_split=6, n_estimators=200, total=   0.6s\n",
      "[CV] max_depth=40, max_features=auto, min_samples_leaf=3, min_samples_split=4, n_estimators=100 \n",
      "[CV]  max_depth=40, max_features=auto, min_samples_leaf=3, min_samples_split=4, n_estimators=100, total=   0.3s\n",
      "[CV] max_depth=40, max_features=auto, min_samples_leaf=3, min_samples_split=4, n_estimators=100 \n"
     ]
    },
    {
     "name": "stdout",
     "output_type": "stream",
     "text": [
      "[CV]  max_depth=40, max_features=auto, min_samples_leaf=3, min_samples_split=4, n_estimators=100, total=   0.3s\n",
      "[CV] max_depth=40, max_features=auto, min_samples_leaf=3, min_samples_split=4, n_estimators=100 \n",
      "[CV]  max_depth=40, max_features=auto, min_samples_leaf=3, min_samples_split=4, n_estimators=100, total=   0.2s\n",
      "[CV] max_depth=40, max_features=auto, min_samples_leaf=3, min_samples_split=4, n_estimators=100 \n",
      "[CV]  max_depth=40, max_features=auto, min_samples_leaf=3, min_samples_split=4, n_estimators=100, total=   0.3s\n",
      "[CV] max_depth=40, max_features=auto, min_samples_leaf=3, min_samples_split=4, n_estimators=100 \n",
      "[CV]  max_depth=40, max_features=auto, min_samples_leaf=3, min_samples_split=4, n_estimators=100, total=   0.5s\n",
      "[CV] max_depth=40, max_features=auto, min_samples_leaf=3, min_samples_split=4, n_estimators=100 \n",
      "[CV]  max_depth=40, max_features=auto, min_samples_leaf=3, min_samples_split=4, n_estimators=100, total=   0.4s\n",
      "[CV] max_depth=40, max_features=auto, min_samples_leaf=3, min_samples_split=4, n_estimators=100 \n",
      "[CV]  max_depth=40, max_features=auto, min_samples_leaf=3, min_samples_split=4, n_estimators=100, total=   0.3s\n",
      "[CV] max_depth=40, max_features=auto, min_samples_leaf=3, min_samples_split=4, n_estimators=100 \n",
      "[CV]  max_depth=40, max_features=auto, min_samples_leaf=3, min_samples_split=4, n_estimators=100, total=   0.3s\n",
      "[CV] max_depth=40, max_features=auto, min_samples_leaf=3, min_samples_split=4, n_estimators=100 \n",
      "[CV]  max_depth=40, max_features=auto, min_samples_leaf=3, min_samples_split=4, n_estimators=100, total=   0.2s\n",
      "[CV] max_depth=40, max_features=auto, min_samples_leaf=3, min_samples_split=4, n_estimators=100 \n",
      "[CV]  max_depth=40, max_features=auto, min_samples_leaf=3, min_samples_split=4, n_estimators=100, total=   0.3s\n",
      "[CV] max_depth=40, max_features=auto, min_samples_leaf=3, min_samples_split=4, n_estimators=200 \n",
      "[CV]  max_depth=40, max_features=auto, min_samples_leaf=3, min_samples_split=4, n_estimators=200, total=   0.8s\n",
      "[CV] max_depth=40, max_features=auto, min_samples_leaf=3, min_samples_split=4, n_estimators=200 \n",
      "[CV]  max_depth=40, max_features=auto, min_samples_leaf=3, min_samples_split=4, n_estimators=200, total=   0.7s\n",
      "[CV] max_depth=40, max_features=auto, min_samples_leaf=3, min_samples_split=4, n_estimators=200 \n",
      "[CV]  max_depth=40, max_features=auto, min_samples_leaf=3, min_samples_split=4, n_estimators=200, total=   0.6s\n",
      "[CV] max_depth=40, max_features=auto, min_samples_leaf=3, min_samples_split=4, n_estimators=200 \n",
      "[CV]  max_depth=40, max_features=auto, min_samples_leaf=3, min_samples_split=4, n_estimators=200, total=   0.6s\n",
      "[CV] max_depth=40, max_features=auto, min_samples_leaf=3, min_samples_split=4, n_estimators=200 \n",
      "[CV]  max_depth=40, max_features=auto, min_samples_leaf=3, min_samples_split=4, n_estimators=200, total=   0.6s\n",
      "[CV] max_depth=40, max_features=auto, min_samples_leaf=3, min_samples_split=4, n_estimators=200 \n",
      "[CV]  max_depth=40, max_features=auto, min_samples_leaf=3, min_samples_split=4, n_estimators=200, total=   0.5s\n",
      "[CV] max_depth=40, max_features=auto, min_samples_leaf=3, min_samples_split=4, n_estimators=200 \n",
      "[CV]  max_depth=40, max_features=auto, min_samples_leaf=3, min_samples_split=4, n_estimators=200, total=   0.6s\n",
      "[CV] max_depth=40, max_features=auto, min_samples_leaf=3, min_samples_split=4, n_estimators=200 \n",
      "[CV]  max_depth=40, max_features=auto, min_samples_leaf=3, min_samples_split=4, n_estimators=200, total=   0.6s\n",
      "[CV] max_depth=40, max_features=auto, min_samples_leaf=3, min_samples_split=4, n_estimators=200 \n",
      "[CV]  max_depth=40, max_features=auto, min_samples_leaf=3, min_samples_split=4, n_estimators=200, total=   0.5s\n",
      "[CV] max_depth=40, max_features=auto, min_samples_leaf=3, min_samples_split=4, n_estimators=200 \n",
      "[CV]  max_depth=40, max_features=auto, min_samples_leaf=3, min_samples_split=4, n_estimators=200, total=   0.5s\n",
      "[CV] max_depth=40, max_features=auto, min_samples_leaf=3, min_samples_split=6, n_estimators=100 \n",
      "[CV]  max_depth=40, max_features=auto, min_samples_leaf=3, min_samples_split=6, n_estimators=100, total=   0.3s\n",
      "[CV] max_depth=40, max_features=auto, min_samples_leaf=3, min_samples_split=6, n_estimators=100 \n",
      "[CV]  max_depth=40, max_features=auto, min_samples_leaf=3, min_samples_split=6, n_estimators=100, total=   0.3s\n",
      "[CV] max_depth=40, max_features=auto, min_samples_leaf=3, min_samples_split=6, n_estimators=100 \n",
      "[CV]  max_depth=40, max_features=auto, min_samples_leaf=3, min_samples_split=6, n_estimators=100, total=   0.4s\n",
      "[CV] max_depth=40, max_features=auto, min_samples_leaf=3, min_samples_split=6, n_estimators=100 \n",
      "[CV]  max_depth=40, max_features=auto, min_samples_leaf=3, min_samples_split=6, n_estimators=100, total=   0.2s\n",
      "[CV] max_depth=40, max_features=auto, min_samples_leaf=3, min_samples_split=6, n_estimators=100 \n",
      "[CV]  max_depth=40, max_features=auto, min_samples_leaf=3, min_samples_split=6, n_estimators=100, total=   0.3s\n",
      "[CV] max_depth=40, max_features=auto, min_samples_leaf=3, min_samples_split=6, n_estimators=100 \n",
      "[CV]  max_depth=40, max_features=auto, min_samples_leaf=3, min_samples_split=6, n_estimators=100, total=   0.3s\n",
      "[CV] max_depth=40, max_features=auto, min_samples_leaf=3, min_samples_split=6, n_estimators=100 \n",
      "[CV]  max_depth=40, max_features=auto, min_samples_leaf=3, min_samples_split=6, n_estimators=100, total=   0.4s\n",
      "[CV] max_depth=40, max_features=auto, min_samples_leaf=3, min_samples_split=6, n_estimators=100 \n",
      "[CV]  max_depth=40, max_features=auto, min_samples_leaf=3, min_samples_split=6, n_estimators=100, total=   0.3s\n",
      "[CV] max_depth=40, max_features=auto, min_samples_leaf=3, min_samples_split=6, n_estimators=100 \n",
      "[CV]  max_depth=40, max_features=auto, min_samples_leaf=3, min_samples_split=6, n_estimators=100, total=   0.3s\n",
      "[CV] max_depth=40, max_features=auto, min_samples_leaf=3, min_samples_split=6, n_estimators=100 \n",
      "[CV]  max_depth=40, max_features=auto, min_samples_leaf=3, min_samples_split=6, n_estimators=100, total=   0.3s\n",
      "[CV] max_depth=40, max_features=auto, min_samples_leaf=3, min_samples_split=6, n_estimators=200 \n",
      "[CV]  max_depth=40, max_features=auto, min_samples_leaf=3, min_samples_split=6, n_estimators=200, total=   0.5s\n",
      "[CV] max_depth=40, max_features=auto, min_samples_leaf=3, min_samples_split=6, n_estimators=200 \n",
      "[CV]  max_depth=40, max_features=auto, min_samples_leaf=3, min_samples_split=6, n_estimators=200, total=   0.6s\n",
      "[CV] max_depth=40, max_features=auto, min_samples_leaf=3, min_samples_split=6, n_estimators=200 \n",
      "[CV]  max_depth=40, max_features=auto, min_samples_leaf=3, min_samples_split=6, n_estimators=200, total=   0.6s\n",
      "[CV] max_depth=40, max_features=auto, min_samples_leaf=3, min_samples_split=6, n_estimators=200 \n",
      "[CV]  max_depth=40, max_features=auto, min_samples_leaf=3, min_samples_split=6, n_estimators=200, total=   0.5s\n",
      "[CV] max_depth=40, max_features=auto, min_samples_leaf=3, min_samples_split=6, n_estimators=200 \n",
      "[CV]  max_depth=40, max_features=auto, min_samples_leaf=3, min_samples_split=6, n_estimators=200, total=   0.5s\n",
      "[CV] max_depth=40, max_features=auto, min_samples_leaf=3, min_samples_split=6, n_estimators=200 \n",
      "[CV]  max_depth=40, max_features=auto, min_samples_leaf=3, min_samples_split=6, n_estimators=200, total=   0.7s\n",
      "[CV] max_depth=40, max_features=auto, min_samples_leaf=3, min_samples_split=6, n_estimators=200 \n",
      "[CV]  max_depth=40, max_features=auto, min_samples_leaf=3, min_samples_split=6, n_estimators=200, total=   0.6s\n",
      "[CV] max_depth=40, max_features=auto, min_samples_leaf=3, min_samples_split=6, n_estimators=200 \n",
      "[CV]  max_depth=40, max_features=auto, min_samples_leaf=3, min_samples_split=6, n_estimators=200, total=   0.5s\n",
      "[CV] max_depth=40, max_features=auto, min_samples_leaf=3, min_samples_split=6, n_estimators=200 \n",
      "[CV]  max_depth=40, max_features=auto, min_samples_leaf=3, min_samples_split=6, n_estimators=200, total=   0.5s\n",
      "[CV] max_depth=40, max_features=auto, min_samples_leaf=3, min_samples_split=6, n_estimators=200 \n",
      "[CV]  max_depth=40, max_features=auto, min_samples_leaf=3, min_samples_split=6, n_estimators=200, total=   0.6s\n",
      "[CV] max_depth=40, max_features=auto, min_samples_leaf=2, min_samples_split=4, n_estimators=100 \n",
      "[CV]  max_depth=40, max_features=auto, min_samples_leaf=2, min_samples_split=4, n_estimators=100, total=   0.3s\n",
      "[CV] max_depth=40, max_features=auto, min_samples_leaf=2, min_samples_split=4, n_estimators=100 \n"
     ]
    },
    {
     "name": "stdout",
     "output_type": "stream",
     "text": [
      "[CV]  max_depth=40, max_features=auto, min_samples_leaf=2, min_samples_split=4, n_estimators=100, total=   0.3s\n",
      "[CV] max_depth=40, max_features=auto, min_samples_leaf=2, min_samples_split=4, n_estimators=100 \n",
      "[CV]  max_depth=40, max_features=auto, min_samples_leaf=2, min_samples_split=4, n_estimators=100, total=   0.2s\n",
      "[CV] max_depth=40, max_features=auto, min_samples_leaf=2, min_samples_split=4, n_estimators=100 \n",
      "[CV]  max_depth=40, max_features=auto, min_samples_leaf=2, min_samples_split=4, n_estimators=100, total=   0.2s\n",
      "[CV] max_depth=40, max_features=auto, min_samples_leaf=2, min_samples_split=4, n_estimators=100 \n",
      "[CV]  max_depth=40, max_features=auto, min_samples_leaf=2, min_samples_split=4, n_estimators=100, total=   0.3s\n",
      "[CV] max_depth=40, max_features=auto, min_samples_leaf=2, min_samples_split=4, n_estimators=100 \n",
      "[CV]  max_depth=40, max_features=auto, min_samples_leaf=2, min_samples_split=4, n_estimators=100, total=   0.3s\n",
      "[CV] max_depth=40, max_features=auto, min_samples_leaf=2, min_samples_split=4, n_estimators=100 \n",
      "[CV]  max_depth=40, max_features=auto, min_samples_leaf=2, min_samples_split=4, n_estimators=100, total=   0.3s\n",
      "[CV] max_depth=40, max_features=auto, min_samples_leaf=2, min_samples_split=4, n_estimators=100 \n",
      "[CV]  max_depth=40, max_features=auto, min_samples_leaf=2, min_samples_split=4, n_estimators=100, total=   0.3s\n",
      "[CV] max_depth=40, max_features=auto, min_samples_leaf=2, min_samples_split=4, n_estimators=100 \n",
      "[CV]  max_depth=40, max_features=auto, min_samples_leaf=2, min_samples_split=4, n_estimators=100, total=   0.2s\n",
      "[CV] max_depth=40, max_features=auto, min_samples_leaf=2, min_samples_split=4, n_estimators=100 \n",
      "[CV]  max_depth=40, max_features=auto, min_samples_leaf=2, min_samples_split=4, n_estimators=100, total=   0.2s\n",
      "[CV] max_depth=40, max_features=auto, min_samples_leaf=2, min_samples_split=4, n_estimators=200 \n",
      "[CV]  max_depth=40, max_features=auto, min_samples_leaf=2, min_samples_split=4, n_estimators=200, total=   0.5s\n",
      "[CV] max_depth=40, max_features=auto, min_samples_leaf=2, min_samples_split=4, n_estimators=200 \n",
      "[CV]  max_depth=40, max_features=auto, min_samples_leaf=2, min_samples_split=4, n_estimators=200, total=   0.6s\n",
      "[CV] max_depth=40, max_features=auto, min_samples_leaf=2, min_samples_split=4, n_estimators=200 \n",
      "[CV]  max_depth=40, max_features=auto, min_samples_leaf=2, min_samples_split=4, n_estimators=200, total=   0.6s\n",
      "[CV] max_depth=40, max_features=auto, min_samples_leaf=2, min_samples_split=4, n_estimators=200 \n",
      "[CV]  max_depth=40, max_features=auto, min_samples_leaf=2, min_samples_split=4, n_estimators=200, total=   0.5s\n",
      "[CV] max_depth=40, max_features=auto, min_samples_leaf=2, min_samples_split=4, n_estimators=200 \n",
      "[CV]  max_depth=40, max_features=auto, min_samples_leaf=2, min_samples_split=4, n_estimators=200, total=   0.5s\n",
      "[CV] max_depth=40, max_features=auto, min_samples_leaf=2, min_samples_split=4, n_estimators=200 \n",
      "[CV]  max_depth=40, max_features=auto, min_samples_leaf=2, min_samples_split=4, n_estimators=200, total=   0.6s\n",
      "[CV] max_depth=40, max_features=auto, min_samples_leaf=2, min_samples_split=4, n_estimators=200 \n",
      "[CV]  max_depth=40, max_features=auto, min_samples_leaf=2, min_samples_split=4, n_estimators=200, total=   0.5s\n",
      "[CV] max_depth=40, max_features=auto, min_samples_leaf=2, min_samples_split=4, n_estimators=200 \n",
      "[CV]  max_depth=40, max_features=auto, min_samples_leaf=2, min_samples_split=4, n_estimators=200, total=   0.5s\n",
      "[CV] max_depth=40, max_features=auto, min_samples_leaf=2, min_samples_split=4, n_estimators=200 \n",
      "[CV]  max_depth=40, max_features=auto, min_samples_leaf=2, min_samples_split=4, n_estimators=200, total=   0.5s\n",
      "[CV] max_depth=40, max_features=auto, min_samples_leaf=2, min_samples_split=4, n_estimators=200 \n",
      "[CV]  max_depth=40, max_features=auto, min_samples_leaf=2, min_samples_split=4, n_estimators=200, total=   0.6s\n",
      "[CV] max_depth=40, max_features=auto, min_samples_leaf=2, min_samples_split=6, n_estimators=100 \n",
      "[CV]  max_depth=40, max_features=auto, min_samples_leaf=2, min_samples_split=6, n_estimators=100, total=   0.5s\n",
      "[CV] max_depth=40, max_features=auto, min_samples_leaf=2, min_samples_split=6, n_estimators=100 \n",
      "[CV]  max_depth=40, max_features=auto, min_samples_leaf=2, min_samples_split=6, n_estimators=100, total=   0.3s\n",
      "[CV] max_depth=40, max_features=auto, min_samples_leaf=2, min_samples_split=6, n_estimators=100 \n",
      "[CV]  max_depth=40, max_features=auto, min_samples_leaf=2, min_samples_split=6, n_estimators=100, total=   0.3s\n",
      "[CV] max_depth=40, max_features=auto, min_samples_leaf=2, min_samples_split=6, n_estimators=100 \n",
      "[CV]  max_depth=40, max_features=auto, min_samples_leaf=2, min_samples_split=6, n_estimators=100, total=   0.2s\n",
      "[CV] max_depth=40, max_features=auto, min_samples_leaf=2, min_samples_split=6, n_estimators=100 \n",
      "[CV]  max_depth=40, max_features=auto, min_samples_leaf=2, min_samples_split=6, n_estimators=100, total=   0.3s\n",
      "[CV] max_depth=40, max_features=auto, min_samples_leaf=2, min_samples_split=6, n_estimators=100 \n",
      "[CV]  max_depth=40, max_features=auto, min_samples_leaf=2, min_samples_split=6, n_estimators=100, total=   0.3s\n",
      "[CV] max_depth=40, max_features=auto, min_samples_leaf=2, min_samples_split=6, n_estimators=100 \n",
      "[CV]  max_depth=40, max_features=auto, min_samples_leaf=2, min_samples_split=6, n_estimators=100, total=   0.3s\n",
      "[CV] max_depth=40, max_features=auto, min_samples_leaf=2, min_samples_split=6, n_estimators=100 \n",
      "[CV]  max_depth=40, max_features=auto, min_samples_leaf=2, min_samples_split=6, n_estimators=100, total=   0.3s\n",
      "[CV] max_depth=40, max_features=auto, min_samples_leaf=2, min_samples_split=6, n_estimators=100 \n",
      "[CV]  max_depth=40, max_features=auto, min_samples_leaf=2, min_samples_split=6, n_estimators=100, total=   0.2s\n",
      "[CV] max_depth=40, max_features=auto, min_samples_leaf=2, min_samples_split=6, n_estimators=100 \n",
      "[CV]  max_depth=40, max_features=auto, min_samples_leaf=2, min_samples_split=6, n_estimators=100, total=   0.3s\n",
      "[CV] max_depth=40, max_features=auto, min_samples_leaf=2, min_samples_split=6, n_estimators=200 \n",
      "[CV]  max_depth=40, max_features=auto, min_samples_leaf=2, min_samples_split=6, n_estimators=200, total=   0.6s\n",
      "[CV] max_depth=40, max_features=auto, min_samples_leaf=2, min_samples_split=6, n_estimators=200 \n",
      "[CV]  max_depth=40, max_features=auto, min_samples_leaf=2, min_samples_split=6, n_estimators=200, total=   0.6s\n",
      "[CV] max_depth=40, max_features=auto, min_samples_leaf=2, min_samples_split=6, n_estimators=200 \n",
      "[CV]  max_depth=40, max_features=auto, min_samples_leaf=2, min_samples_split=6, n_estimators=200, total=   0.5s\n",
      "[CV] max_depth=40, max_features=auto, min_samples_leaf=2, min_samples_split=6, n_estimators=200 \n",
      "[CV]  max_depth=40, max_features=auto, min_samples_leaf=2, min_samples_split=6, n_estimators=200, total=   0.5s\n",
      "[CV] max_depth=40, max_features=auto, min_samples_leaf=2, min_samples_split=6, n_estimators=200 \n",
      "[CV]  max_depth=40, max_features=auto, min_samples_leaf=2, min_samples_split=6, n_estimators=200, total=   0.6s\n",
      "[CV] max_depth=40, max_features=auto, min_samples_leaf=2, min_samples_split=6, n_estimators=200 \n",
      "[CV]  max_depth=40, max_features=auto, min_samples_leaf=2, min_samples_split=6, n_estimators=200, total=   0.6s\n",
      "[CV] max_depth=40, max_features=auto, min_samples_leaf=2, min_samples_split=6, n_estimators=200 \n",
      "[CV]  max_depth=40, max_features=auto, min_samples_leaf=2, min_samples_split=6, n_estimators=200, total=   0.5s\n",
      "[CV] max_depth=40, max_features=auto, min_samples_leaf=2, min_samples_split=6, n_estimators=200 \n",
      "[CV]  max_depth=40, max_features=auto, min_samples_leaf=2, min_samples_split=6, n_estimators=200, total=   0.5s\n",
      "[CV] max_depth=40, max_features=auto, min_samples_leaf=2, min_samples_split=6, n_estimators=200 \n",
      "[CV]  max_depth=40, max_features=auto, min_samples_leaf=2, min_samples_split=6, n_estimators=200, total=   0.7s\n",
      "[CV] max_depth=40, max_features=auto, min_samples_leaf=2, min_samples_split=6, n_estimators=200 \n",
      "[CV]  max_depth=40, max_features=auto, min_samples_leaf=2, min_samples_split=6, n_estimators=200, total=   0.5s\n"
     ]
    },
    {
     "name": "stderr",
     "output_type": "stream",
     "text": [
      "[Parallel(n_jobs=1)]: Done 320 out of 320 | elapsed:  2.2min finished\n"
     ]
    },
    {
     "data": {
      "text/plain": [
       "GridSearchCV(cv=10, estimator=RandomForestClassifier(),\n",
       "             param_grid={'max_depth': [20, 40],\n",
       "                         'max_features': ['sqrt', 'auto'],\n",
       "                         'min_samples_leaf': [3, 2],\n",
       "                         'min_samples_split': [4, 6],\n",
       "                         'n_estimators': [100, 200]},\n",
       "             verbose=2)"
      ]
     },
     "execution_count": 219,
     "metadata": {},
     "output_type": "execute_result"
    }
   ],
   "source": [
    "grid_2 = {\n",
    "        'n_estimators': [100, 200],\n",
    "        'min_samples_split': [4,6],\n",
    "        'min_samples_leaf': [3,2],\n",
    "        'max_features': ['sqrt','auto'],\n",
    "        'max_depth': [20,40],\n",
    "}\n",
    "\n",
    "#Set random seed to 42\n",
    "np.random.seed(42)\n",
    "\n",
    "#Initiate RandomForestClassifier\n",
    "clf_gs = RandomForestClassifier(n_jobs=1)\n",
    "\n",
    "#Setup RandomizedSearchCV\n",
    "gs_clf = GridSearchCV(estimator=clf,\n",
    "                           param_grid=grid_2,\n",
    "                           cv=10,\n",
    "                           verbose=2)\n",
    "gs_clf.fit(x_train, y_train)"
   ]
  },
  {
   "cell_type": "code",
   "execution_count": 220,
   "id": "amateur-waters",
   "metadata": {},
   "outputs": [
    {
     "data": {
      "text/plain": [
       "{'max_depth': 20,\n",
       " 'max_features': 'sqrt',\n",
       " 'min_samples_leaf': 2,\n",
       " 'min_samples_split': 6,\n",
       " 'n_estimators': 100}"
      ]
     },
     "execution_count": 220,
     "metadata": {},
     "output_type": "execute_result"
    }
   ],
   "source": [
    "#Get best parameter\n",
    "gs_clf.best_params_"
   ]
  },
  {
   "cell_type": "code",
   "execution_count": 221,
   "id": "local-wiring",
   "metadata": {},
   "outputs": [
    {
     "data": {
      "text/plain": [
       "RandomForestClassifier(max_depth=20, max_features='sqrt', min_samples_leaf=2,\n",
       "                       min_samples_split=6)"
      ]
     },
     "execution_count": 221,
     "metadata": {},
     "output_type": "execute_result"
    }
   ],
   "source": [
    "#Get the best estimator\n",
    "gs_clf.best_estimator_"
   ]
  },
  {
   "cell_type": "code",
   "execution_count": 291,
   "id": "positive-devices",
   "metadata": {},
   "outputs": [
    {
     "data": {
      "text/plain": [
       "array([0, 1, 0, 0, 0, 0, 0, 1, 0, 1, 1, 0, 1, 0, 0, 1, 1, 0, 1, 1, 1, 0,\n",
       "       1, 1, 1, 1, 0, 1, 1, 1, 1, 1, 1, 0, 0, 1, 0, 0, 1, 0, 1, 0, 0, 0,\n",
       "       0, 1, 0, 1, 1, 1, 1, 1, 1, 1, 1, 1, 0, 0, 1, 0, 0])"
      ]
     },
     "execution_count": 291,
     "metadata": {},
     "output_type": "execute_result"
    }
   ],
   "source": [
    "#Make prediction\n",
    "gs_predicts = gs_clf.predict(x_test)\n",
    "\n",
    "#Display predicted values\n",
    "gs_predicts"
   ]
  },
  {
   "cell_type": "code",
   "execution_count": 292,
   "id": "pretty-crystal",
   "metadata": {},
   "outputs": [
    {
     "name": "stdout",
     "output_type": "stream",
     "text": [
      "The accuracy score is 75.41%\n",
      "The cross val score is 82.16%\n",
      "The precision score is 73.53%\n",
      "The recall score is 80.65%\n",
      "The f1 score is 76.92%\n"
     ]
    },
    {
     "data": {
      "text/plain": [
       "{'Accusracy score': 0.75,\n",
       " 'cross val score': 0.82,\n",
       " 'precision score': 0.74,\n",
       " 'recall score': 0.81,\n",
       " 'f1 score': 0.77}"
      ]
     },
     "execution_count": 292,
     "metadata": {},
     "output_type": "execute_result"
    }
   ],
   "source": [
    "#Make evaluation\n",
    "gs_predict = evaluateModel(y_test, gs_predicts)\n",
    "\n",
    "#Display predicted result\n",
    "gs_predict"
   ]
  },
  {
   "cell_type": "code",
   "execution_count": 293,
   "id": "detected-findings",
   "metadata": {},
   "outputs": [
    {
     "data": {
      "image/png": "[encoded data removed]",
      "text/plain": [
       "<Figure size 432x288 with 2 Axes>"
      ]
     },
     "metadata": {
      "needs_background": "light"
     },
     "output_type": "display_data"
    }
   ],
   "source": [
    "#Let's visualize our evaluated model using heatmap and confusion matrics\n",
    "conf_mat = confusion_matrix(y_test, gs_predicts)\n",
    "sns.heatmap(conf_mat, annot=True)\n",
    "plt.show()"
   ]
  },
  {
   "cell_type": "markdown",
   "id": "extra-treasurer",
   "metadata": {},
   "source": [
    "From the heatmap confusion matrics out of those Positively, only 25 were predicted correctly and 6 where wrong. And out of those predicted Nagatively only 21 were predicted correctly and 9 were predicted wrongly."
   ]
  },
  {
   "cell_type": "markdown",
   "id": "norwegian-kelly",
   "metadata": {},
   "source": [
    "# Now lets display all our evaluation and draw conclusions out of it."
   ]
  },
  {
   "cell_type": "code",
   "execution_count": 224,
   "id": "other-oxford",
   "metadata": {},
   "outputs": [
    {
     "data": {
      "text/plain": [
       "{'Accusracy score': 0.72,\n",
       " 'cross val score': 0.82,\n",
       " 'precision score': 0.68,\n",
       " 'recall score': 0.84,\n",
       " 'f1 score': 0.75}"
      ]
     },
     "execution_count": 224,
     "metadata": {},
     "output_type": "execute_result"
    }
   ],
   "source": [
    "#Display base evaluated result\n",
    "base_prediction"
   ]
  },
  {
   "cell_type": "code",
   "execution_count": 225,
   "id": "suspected-brand",
   "metadata": {},
   "outputs": [
    {
     "data": {
      "text/plain": [
       "{'Accusracy score': 0.79,\n",
       " 'cross val score': 0.82,\n",
       " 'precision score': 0.75,\n",
       " 'recall score': 0.87,\n",
       " 'f1 score': 0.81}"
      ]
     },
     "execution_count": 225,
     "metadata": {},
     "output_type": "execute_result"
    }
   ],
   "source": [
    "#Display Randomized search evaluation\n",
    "rs_predict"
   ]
  },
  {
   "cell_type": "code",
   "execution_count": 226,
   "id": "ordered-packing",
   "metadata": {},
   "outputs": [
    {
     "data": {
      "text/plain": [
       "{'Accusracy score': 0.75,\n",
       " 'cross val score': 0.82,\n",
       " 'precision score': 0.74,\n",
       " 'recall score': 0.81,\n",
       " 'f1 score': 0.77}"
      ]
     },
     "execution_count": 226,
     "metadata": {},
     "output_type": "execute_result"
    }
   ],
   "source": [
    "#Display Grid Search evaluation\n",
    "gs_predict"
   ]
  },
  {
   "cell_type": "code",
   "execution_count": 227,
   "id": "applicable-yellow",
   "metadata": {},
   "outputs": [],
   "source": [
    "#Create data frame from the evaluated metrics\n",
    "evaluated_metrics = pd.DataFrame({\n",
    "    \"Base Line Prediction\": base_prediction,\n",
    "    \"Randomized Search\": rs_predict,\n",
    "    \"Grid Search\": gs_predict\n",
    "})"
   ]
  },
  {
   "cell_type": "code",
   "execution_count": 228,
   "id": "shaped-connectivity",
   "metadata": {},
   "outputs": [
    {
     "data": {
      "text/html": [
       "<div>\n",
       "<style scoped>\n",
       "    .dataframe tbody tr th:only-of-type {\n",
       "        vertical-align: middle;\n",
       "    }\n",
       "\n",
       "    .dataframe tbody tr th {\n",
       "        vertical-align: top;\n",
       "    }\n",
       "\n",
       "    .dataframe thead th {\n",
       "        text-align: right;\n",
       "    }\n",
       "</style>\n",
       "<table border=\"1\" class=\"dataframe\">\n",
       "  <thead>\n",
       "    <tr style=\"text-align: right;\">\n",
       "      <th></th>\n",
       "      <th>Base Line Prediction</th>\n",
       "      <th>Randomized Search</th>\n",
       "      <th>Grid Search</th>\n",
       "    </tr>\n",
       "  </thead>\n",
       "  <tbody>\n",
       "    <tr>\n",
       "      <th>Accusracy score</th>\n",
       "      <td>0.72</td>\n",
       "      <td>0.79</td>\n",
       "      <td>0.75</td>\n",
       "    </tr>\n",
       "    <tr>\n",
       "      <th>cross val score</th>\n",
       "      <td>0.82</td>\n",
       "      <td>0.82</td>\n",
       "      <td>0.82</td>\n",
       "    </tr>\n",
       "    <tr>\n",
       "      <th>precision score</th>\n",
       "      <td>0.68</td>\n",
       "      <td>0.75</td>\n",
       "      <td>0.74</td>\n",
       "    </tr>\n",
       "    <tr>\n",
       "      <th>recall score</th>\n",
       "      <td>0.84</td>\n",
       "      <td>0.87</td>\n",
       "      <td>0.81</td>\n",
       "    </tr>\n",
       "    <tr>\n",
       "      <th>f1 score</th>\n",
       "      <td>0.75</td>\n",
       "      <td>0.81</td>\n",
       "      <td>0.77</td>\n",
       "    </tr>\n",
       "  </tbody>\n",
       "</table>\n",
       "</div>"
      ],
      "text/plain": [
       "                 Base Line Prediction  Randomized Search  Grid Search\n",
       "Accusracy score                  0.72               0.79         0.75\n",
       "cross val score                  0.82               0.82         0.82\n",
       "precision score                  0.68               0.75         0.74\n",
       "recall score                     0.84               0.87         0.81\n",
       "f1 score                         0.75               0.81         0.77"
      ]
     },
     "execution_count": 228,
     "metadata": {},
     "output_type": "execute_result"
    }
   ],
   "source": [
    "#Display evaluated metrics\n",
    "evaluated_metrics"
   ]
  },
  {
   "cell_type": "code",
   "execution_count": 229,
   "id": "welsh-spain",
   "metadata": {},
   "outputs": [
    {
     "data": {
      "image/png": "[encoded data removed]",
      "text/plain": [
       "<Figure size 432x288 with 1 Axes>"
      ]
     },
     "metadata": {
      "needs_background": "light"
     },
     "output_type": "display_data"
    }
   ],
   "source": [
    "#Lets visualize our evaluated result\n",
    "evaluated_metrics.T.plot(kind='bar')\n",
    "plt.show()"
   ]
  },
  {
   "cell_type": "markdown",
   "id": "incident-yahoo",
   "metadata": {},
   "source": [
    "### Random forest feature importance"
   ]
  },
  {
   "cell_type": "code",
   "execution_count": 231,
   "id": "experienced-garlic",
   "metadata": {},
   "outputs": [
    {
     "data": {
      "text/plain": [
       "array([0.08645635, 0.03843492, 0.17250921, 0.07280533, 0.08345948,\n",
       "       0.00626739, 0.02293827, 0.10402868, 0.05851189, 0.13031582,\n",
       "       0.03936859, 0.10394178, 0.08096227])"
      ]
     },
     "execution_count": 231,
     "metadata": {},
     "output_type": "execute_result"
    }
   ],
   "source": [
    "clf.feature_importances_"
   ]
  },
  {
   "cell_type": "code",
   "execution_count": 246,
   "id": "surprised-abraham",
   "metadata": {},
   "outputs": [
    {
     "data": {
      "text/plain": [
       "{'age': 0.08645635299540737,\n",
       " 'sex': 0.038434924331593165,\n",
       " 'cp': 0.1725092110786702,\n",
       " 'trestbps': 0.07280533440072046,\n",
       " 'chol': 0.08345947802306668,\n",
       " 'fbs': 0.006267391046677382,\n",
       " 'restecg': 0.022938267542580975,\n",
       " 'thalach': 0.10402868191606682,\n",
       " 'exang': 0.0585118936883085,\n",
       " 'oldpeak': 0.13031582308854972,\n",
       " 'slope': 0.039368593578584764,\n",
       " 'ca': 0.10394177955805321,\n",
       " 'thal': 0.08096226875172063}"
      ]
     },
     "execution_count": 246,
     "metadata": {},
     "output_type": "execute_result"
    }
   ],
   "source": [
    "#let's assign the features names with with their corresponding feature importance\n",
    "dict(zip(x_train.columns, list(clf.feature_importances_)))"
   ]
  },
  {
   "cell_type": "markdown",
   "id": "resistant-housing",
   "metadata": {},
   "source": [
    "### Randomized searched cv feature importance"
   ]
  },
  {
   "cell_type": "code",
   "execution_count": 232,
   "id": "heated-title",
   "metadata": {},
   "outputs": [
    {
     "data": {
      "text/plain": [
       "array([0.08034808, 0.04409051, 0.16679547, 0.07002365, 0.07704502,\n",
       "       0.00972623, 0.0202036 , 0.12404314, 0.07943606, 0.11316364,\n",
       "       0.04152635, 0.10599507, 0.06760319])"
      ]
     },
     "execution_count": 232,
     "metadata": {},
     "output_type": "execute_result"
    }
   ],
   "source": [
    "rs_clf.best_estimator_.feature_importances_"
   ]
  },
  {
   "cell_type": "code",
   "execution_count": 247,
   "id": "lonely-thinking",
   "metadata": {},
   "outputs": [
    {
     "data": {
      "text/plain": [
       "{'age': 0.08034808142407891,\n",
       " 'sex': 0.044090512974509,\n",
       " 'cp': 0.16679546831489392,\n",
       " 'trestbps': 0.07002364859130833,\n",
       " 'chol': 0.07704501564121728,\n",
       " 'fbs': 0.009726233423930256,\n",
       " 'restecg': 0.02020360381931221,\n",
       " 'thalach': 0.12404313552142693,\n",
       " 'exang': 0.07943605819236722,\n",
       " 'oldpeak': 0.11316364349986131,\n",
       " 'slope': 0.04152634528852885,\n",
       " 'ca': 0.1059950653291659,\n",
       " 'thal': 0.06760318797939999}"
      ]
     },
     "execution_count": 247,
     "metadata": {},
     "output_type": "execute_result"
    }
   ],
   "source": [
    "#let's assign the features names with with their corresponding feature importance\n",
    "dict(zip(x_train.columns, rs_clf.best_estimator_.feature_importances_ ))"
   ]
  },
  {
   "cell_type": "markdown",
   "id": "african-stamp",
   "metadata": {},
   "source": [
    "### Grid search cv feature importance"
   ]
  },
  {
   "cell_type": "code",
   "execution_count": 236,
   "id": "acceptable-multimedia",
   "metadata": {},
   "outputs": [
    {
     "data": {
      "text/plain": [
       "array([0.07289035, 0.04211273, 0.19842682, 0.05546384, 0.05317286,\n",
       "       0.00772644, 0.01448532, 0.11894782, 0.08818657, 0.11548821,\n",
       "       0.0398313 , 0.11016825, 0.0830995 ])"
      ]
     },
     "execution_count": 236,
     "metadata": {},
     "output_type": "execute_result"
    }
   ],
   "source": [
    "gs_clf.best_estimator_.feature_importances_"
   ]
  },
  {
   "cell_type": "code",
   "execution_count": 237,
   "id": "recorded-seventh",
   "metadata": {},
   "outputs": [
    {
     "data": {
      "text/plain": [
       "{'age': 0.07289034687572682,\n",
       " 'sex': 0.04211272754650344,\n",
       " 'cp': 0.19842681960518518,\n",
       " 'trestbps': 0.05546383653864857,\n",
       " 'chol': 0.053172862473469786,\n",
       " 'fbs': 0.007726444840114876,\n",
       " 'restecg': 0.01448531849443873,\n",
       " 'thalach': 0.11894782194274979,\n",
       " 'exang': 0.08818656589156909,\n",
       " 'oldpeak': 0.11548820891642057,\n",
       " 'slope': 0.039831303161338705,\n",
       " 'ca': 0.11016824579411624,\n",
       " 'thal': 0.08309949791971824}"
      ]
     },
     "execution_count": 237,
     "metadata": {},
     "output_type": "execute_result"
    }
   ],
   "source": [
    "dict(zip(x_train.columns, list(gs_clf.best_estimator_.feature_importances_)))"
   ]
  },
  {
   "cell_type": "code",
   "execution_count": 248,
   "id": "lightweight-forth",
   "metadata": {},
   "outputs": [],
   "source": [
    "#let's create a dataframe out of our feature importance results and visualize it\n",
    "feat_import = pd.DataFrame({\n",
    "    \"Base Line Feature Importance\": dict(zip(x_train.columns, list(clf.feature_importances_))),\n",
    "    \"Randomized Search CV Feat Import\": dict(zip(x_train.columns, rs_clf.best_estimator_.feature_importances_ )),\n",
    "    \"Grid Search CV Feat Import\" : dict(zip(x_train.columns, list(gs_clf.best_estimator_.feature_importances_)))\n",
    "})"
   ]
  },
  {
   "cell_type": "code",
   "execution_count": 315,
   "id": "little-contributor",
   "metadata": {},
   "outputs": [
    {
     "data": {
      "text/html": [
       "<div>\n",
       "<style scoped>\n",
       "    .dataframe tbody tr th:only-of-type {\n",
       "        vertical-align: middle;\n",
       "    }\n",
       "\n",
       "    .dataframe tbody tr th {\n",
       "        vertical-align: top;\n",
       "    }\n",
       "\n",
       "    .dataframe thead th {\n",
       "        text-align: right;\n",
       "    }\n",
       "</style>\n",
       "<table border=\"1\" class=\"dataframe\">\n",
       "  <thead>\n",
       "    <tr style=\"text-align: right;\">\n",
       "      <th></th>\n",
       "      <th>Base Line Feature Importance</th>\n",
       "      <th>Randomized Search CV Feat Import</th>\n",
       "      <th>Grid Search CV Feat Import</th>\n",
       "    </tr>\n",
       "  </thead>\n",
       "  <tbody>\n",
       "    <tr>\n",
       "      <th>age</th>\n",
       "      <td>0.086456</td>\n",
       "      <td>0.080348</td>\n",
       "      <td>0.072890</td>\n",
       "    </tr>\n",
       "    <tr>\n",
       "      <th>sex</th>\n",
       "      <td>0.038435</td>\n",
       "      <td>0.044091</td>\n",
       "      <td>0.042113</td>\n",
       "    </tr>\n",
       "    <tr>\n",
       "      <th>cp</th>\n",
       "      <td>0.172509</td>\n",
       "      <td>0.166795</td>\n",
       "      <td>0.198427</td>\n",
       "    </tr>\n",
       "    <tr>\n",
       "      <th>trestbps</th>\n",
       "      <td>0.072805</td>\n",
       "      <td>0.070024</td>\n",
       "      <td>0.055464</td>\n",
       "    </tr>\n",
       "    <tr>\n",
       "      <th>chol</th>\n",
       "      <td>0.083459</td>\n",
       "      <td>0.077045</td>\n",
       "      <td>0.053173</td>\n",
       "    </tr>\n",
       "    <tr>\n",
       "      <th>fbs</th>\n",
       "      <td>0.006267</td>\n",
       "      <td>0.009726</td>\n",
       "      <td>0.007726</td>\n",
       "    </tr>\n",
       "    <tr>\n",
       "      <th>restecg</th>\n",
       "      <td>0.022938</td>\n",
       "      <td>0.020204</td>\n",
       "      <td>0.014485</td>\n",
       "    </tr>\n",
       "    <tr>\n",
       "      <th>thalach</th>\n",
       "      <td>0.104029</td>\n",
       "      <td>0.124043</td>\n",
       "      <td>0.118948</td>\n",
       "    </tr>\n",
       "    <tr>\n",
       "      <th>exang</th>\n",
       "      <td>0.058512</td>\n",
       "      <td>0.079436</td>\n",
       "      <td>0.088187</td>\n",
       "    </tr>\n",
       "    <tr>\n",
       "      <th>oldpeak</th>\n",
       "      <td>0.130316</td>\n",
       "      <td>0.113164</td>\n",
       "      <td>0.115488</td>\n",
       "    </tr>\n",
       "    <tr>\n",
       "      <th>slope</th>\n",
       "      <td>0.039369</td>\n",
       "      <td>0.041526</td>\n",
       "      <td>0.039831</td>\n",
       "    </tr>\n",
       "    <tr>\n",
       "      <th>ca</th>\n",
       "      <td>0.103942</td>\n",
       "      <td>0.105995</td>\n",
       "      <td>0.110168</td>\n",
       "    </tr>\n",
       "    <tr>\n",
       "      <th>thal</th>\n",
       "      <td>0.080962</td>\n",
       "      <td>0.067603</td>\n",
       "      <td>0.083099</td>\n",
       "    </tr>\n",
       "  </tbody>\n",
       "</table>\n",
       "</div>"
      ],
      "text/plain": [
       "          Base Line Feature Importance  Randomized Search CV Feat Import  \\\n",
       "age                           0.086456                          0.080348   \n",
       "sex                           0.038435                          0.044091   \n",
       "cp                            0.172509                          0.166795   \n",
       "trestbps                      0.072805                          0.070024   \n",
       "chol                          0.083459                          0.077045   \n",
       "fbs                           0.006267                          0.009726   \n",
       "restecg                       0.022938                          0.020204   \n",
       "thalach                       0.104029                          0.124043   \n",
       "exang                         0.058512                          0.079436   \n",
       "oldpeak                       0.130316                          0.113164   \n",
       "slope                         0.039369                          0.041526   \n",
       "ca                            0.103942                          0.105995   \n",
       "thal                          0.080962                          0.067603   \n",
       "\n",
       "          Grid Search CV Feat Import  \n",
       "age                         0.072890  \n",
       "sex                         0.042113  \n",
       "cp                          0.198427  \n",
       "trestbps                    0.055464  \n",
       "chol                        0.053173  \n",
       "fbs                         0.007726  \n",
       "restecg                     0.014485  \n",
       "thalach                     0.118948  \n",
       "exang                       0.088187  \n",
       "oldpeak                     0.115488  \n",
       "slope                       0.039831  \n",
       "ca                          0.110168  \n",
       "thal                        0.083099  "
      ]
     },
     "execution_count": 315,
     "metadata": {},
     "output_type": "execute_result"
    }
   ],
   "source": [
    "#Lets display our results feature importance dataframe\n",
    "feat_import"
   ]
  },
  {
   "cell_type": "code",
   "execution_count": 266,
   "id": "scheduled-chicago",
   "metadata": {},
   "outputs": [
    {
     "data": {
      "text/plain": [
       "<Figure size 6480x1440 with 0 Axes>"
      ]
     },
     "metadata": {},
     "output_type": "display_data"
    },
    {
     "data": {
      "image/png": "[encoded data removed]",
      "text/plain": [
       "<Figure size 432x288 with 1 Axes>"
      ]
     },
     "metadata": {
      "needs_background": "light"
     },
     "output_type": "display_data"
    }
   ],
   "source": [
    "#Lets virsualize our result\n",
    "feat_import.T.plot(kind='bar');\n",
    "plt.show()"
   ]
  },
  {
   "cell_type": "markdown",
   "id": "close-separate",
   "metadata": {},
   "source": [
    "# Using permutation to visualize our most important features\n",
    "The permutation-based importance can be used to overcome drawbacks of default feature importance computed with mean impurity decrease. It is implemented in scikit-learn as permutation_importance method. As arguments it requires trained model (can be any model compatible with scikit-learn API) and validation (test data). This method will randomly shuffle each feature and compute the change in the model's performance. The features which impact the performance the most are the most important one. \n",
    "\n",
    "## Note: \n",
    "The permutation-based importance is computationally expensive. The permutation-based    method can have problems with highly-correlated features, it can report them as unimportant. Hence you have to deal with highly correlated features before using this method."
   ]
  },
  {
   "cell_type": "code",
   "execution_count": 274,
   "id": "featured-lebanon",
   "metadata": {},
   "outputs": [
    {
     "data": {
      "image/png": "[encoded data removed]",
      "text/plain": [
       "<Figure size 432x288 with 1 Axes>"
      ]
     },
     "metadata": {
      "needs_background": "light"
     },
     "output_type": "display_data"
    }
   ],
   "source": [
    "#Feature importance for baseline using permutation\n",
    "perm_importance = permutation_importance(clf, x_test, y_test)\n",
    "sorted_idx = perm_importance.importances_mean.argsort()\n",
    "plt.barh(x_train.columns, perm_importance.importances_mean[sorted_idx])\n",
    "plt.xlabel(\"Permutation Importance\")\n",
    "plt.show()"
   ]
  },
  {
   "cell_type": "code",
   "execution_count": 276,
   "id": "fresh-measurement",
   "metadata": {},
   "outputs": [
    {
     "data": {
      "image/png": "[encoded data removed]",
      "text/plain": [
       "<Figure size 432x288 with 1 Axes>"
      ]
     },
     "metadata": {
      "needs_background": "light"
     },
     "output_type": "display_data"
    }
   ],
   "source": [
    "#Feature importance for Randomized Search Cv permutation\n",
    "perm_importance = permutation_importance(rs_clf, x_test, y_test)\n",
    "sorted_idx = perm_importance.importances_mean.argsort()\n",
    "plt.barh(x_train.columns, perm_importance.importances_mean[sorted_idx])\n",
    "plt.xlabel(\"Permutation Importance\")\n",
    "plt.show()"
   ]
  },
  {
   "cell_type": "code",
   "execution_count": 277,
   "id": "cutting-advisory",
   "metadata": {},
   "outputs": [
    {
     "data": {
      "image/png": "[encoded data removed]",
      "text/plain": [
       "<Figure size 432x288 with 1 Axes>"
      ]
     },
     "metadata": {
      "needs_background": "light"
     },
     "output_type": "display_data"
    }
   ],
   "source": [
    "#Feature importance for Grid Search Cv using permutation\n",
    "perm_importance = permutation_importance(gs_clf, x_test, y_test)\n",
    "sorted_idx = perm_importance.importances_mean.argsort()\n",
    "plt.barh(x_train.columns, perm_importance.importances_mean[sorted_idx])\n",
    "plt.xlabel(\"Permutation Importance\")\n",
    "plt.show()"
   ]
  },
  {
   "cell_type": "markdown",
   "id": "heavy-transcription",
   "metadata": {},
   "source": [
    "## Lets save our model and reuse it to make predictions.\n",
    "We will save our model using pickle inother to reuse our model again without re-running the entire application from scratch again. Before that lets place our accuracy score in a dataframe variable, display it and visualize it."
   ]
  },
  {
   "cell_type": "code",
   "execution_count": 327,
   "id": "exceptional-cosmetic",
   "metadata": {},
   "outputs": [],
   "source": [
    "#Saving base line model\n",
    "pickle.dump(clf, open(\"baseline-model.pkl\",\"wb\"))\n",
    "\n",
    "#Saving randomized search cv model\n",
    "pickle.dump(rs_clf, open(\"rs_clf.pkl\",\"wb\"))\n",
    "\n",
    "#Saving grid search cv model\n",
    "pickle.dump(gs_clf, open(\"gs_clf.pkl\",\"wb\"))"
   ]
  },
  {
   "cell_type": "code",
   "execution_count": 3,
   "id": "optimum-candidate",
   "metadata": {},
   "outputs": [],
   "source": [
    "#load and test our saved model\n",
    "baseline_final = pickle.load(open(\"baseline-model.pkl\",\"rb\"))\n",
    "rs_clf_final = pickle.load(open(\"rs_clf.pkl\",\"rb\"))\n",
    "gs_clf_final = pickle.load(open(\"gs_clf.pkl\",\"rb\"))"
   ]
  },
  {
   "cell_type": "code",
   "execution_count": 8,
   "id": "essential-replica",
   "metadata": {},
   "outputs": [
    {
     "data": {
      "text/plain": [
       "array([0, 1, 0, 0, 0, 0, 0, 1, 0, 1, 1, 1, 1, 0, 1, 1, 1, 0, 1, 1, 1, 0,\n",
       "       1, 1, 1, 1, 0, 1, 1, 1, 1, 1, 1, 0, 0, 1, 0, 0, 1, 0, 1, 0, 0, 0,\n",
       "       1, 1, 0, 1, 1, 1, 1, 1, 1, 1, 1, 1, 1, 0, 1, 0, 0])"
      ]
     },
     "execution_count": 8,
     "metadata": {},
     "output_type": "execute_result"
    }
   ],
   "source": [
    "#Test our model(baseline)\n",
    "baseline_final.predict(x_test)"
   ]
  },
  {
   "cell_type": "code",
   "execution_count": 333,
   "id": "decreased-moral",
   "metadata": {},
   "outputs": [
    {
     "data": {
      "text/plain": [
       "array([0, 1, 0, 0, 0, 0, 0, 1, 0, 1, 1, 0, 1, 0, 0, 1, 1, 0, 1, 1, 1, 0,\n",
       "       1, 1, 1, 1, 0, 1, 1, 1, 1, 1, 1, 1, 0, 1, 0, 0, 1, 0, 1, 0, 0, 0,\n",
       "       0, 1, 0, 1, 1, 1, 1, 1, 1, 1, 1, 1, 1, 0, 1, 0, 0])"
      ]
     },
     "execution_count": 333,
     "metadata": {},
     "output_type": "execute_result"
    }
   ],
   "source": [
    "#Test our model(randomized search cv)\n",
    "rs_clf_final.predict(x_test)"
   ]
  },
  {
   "cell_type": "code",
   "execution_count": 334,
   "id": "competitive-chile",
   "metadata": {},
   "outputs": [
    {
     "data": {
      "text/plain": [
       "array([0, 1, 0, 0, 0, 0, 0, 1, 0, 1, 1, 0, 1, 0, 0, 1, 1, 0, 1, 1, 1, 0,\n",
       "       1, 1, 1, 1, 0, 1, 1, 1, 1, 1, 1, 0, 0, 1, 0, 0, 1, 0, 1, 0, 0, 0,\n",
       "       0, 1, 0, 1, 1, 1, 1, 1, 1, 1, 1, 1, 0, 0, 1, 0, 0])"
      ]
     },
     "execution_count": 334,
     "metadata": {},
     "output_type": "execute_result"
    }
   ],
   "source": [
    "#Test our model(grid search cv)\n",
    "gs_clf_final.predict(x_test)"
   ]
  },
  {
   "cell_type": "markdown",
   "id": "integrated-guard",
   "metadata": {},
   "source": [
    "# Conclusion:\n",
    "Finally we have come to an end of building our model. We had an accuracy score for Baseline prediction= **0.72** and Randomized searched cv= **0.79** and Grid search cv= **0.75**.We just have to pick one, thats the one with the highest Accuracy score but should also consider **Precision, recall and f1 score** before selecting the highest accuracy score.\n",
    "## Note:\n",
    "We can still improve our model by:\n",
    "* Getting more data.\n",
    "* Trying different Algorigthms.\n",
    "* Increaseing or decreasing our parameters."
   ]
  },
  {
   "cell_type": "code",
   "execution_count": 337,
   "id": "interesting-screw",
   "metadata": {},
   "outputs": [
    {
     "data": {
      "text/html": [
       "<div>\n",
       "<style scoped>\n",
       "    .dataframe tbody tr th:only-of-type {\n",
       "        vertical-align: middle;\n",
       "    }\n",
       "\n",
       "    .dataframe tbody tr th {\n",
       "        vertical-align: top;\n",
       "    }\n",
       "\n",
       "    .dataframe thead th {\n",
       "        text-align: right;\n",
       "    }\n",
       "</style>\n",
       "<table border=\"1\" class=\"dataframe\">\n",
       "  <thead>\n",
       "    <tr style=\"text-align: right;\">\n",
       "      <th></th>\n",
       "      <th>Base Line Prediction</th>\n",
       "      <th>Randomized Search</th>\n",
       "      <th>Grid Search</th>\n",
       "    </tr>\n",
       "  </thead>\n",
       "  <tbody>\n",
       "    <tr>\n",
       "      <th>Accusracy score</th>\n",
       "      <td>0.72</td>\n",
       "      <td>0.79</td>\n",
       "      <td>0.75</td>\n",
       "    </tr>\n",
       "    <tr>\n",
       "      <th>cross val score</th>\n",
       "      <td>0.82</td>\n",
       "      <td>0.82</td>\n",
       "      <td>0.82</td>\n",
       "    </tr>\n",
       "    <tr>\n",
       "      <th>precision score</th>\n",
       "      <td>0.68</td>\n",
       "      <td>0.75</td>\n",
       "      <td>0.74</td>\n",
       "    </tr>\n",
       "    <tr>\n",
       "      <th>recall score</th>\n",
       "      <td>0.84</td>\n",
       "      <td>0.87</td>\n",
       "      <td>0.81</td>\n",
       "    </tr>\n",
       "    <tr>\n",
       "      <th>f1 score</th>\n",
       "      <td>0.75</td>\n",
       "      <td>0.81</td>\n",
       "      <td>0.77</td>\n",
       "    </tr>\n",
       "  </tbody>\n",
       "</table>\n",
       "</div>"
      ],
      "text/plain": [
       "                 Base Line Prediction  Randomized Search  Grid Search\n",
       "Accusracy score                  0.72               0.79         0.75\n",
       "cross val score                  0.82               0.82         0.82\n",
       "precision score                  0.68               0.75         0.74\n",
       "recall score                     0.84               0.87         0.81\n",
       "f1 score                         0.75               0.81         0.77"
      ]
     },
     "execution_count": 337,
     "metadata": {},
     "output_type": "execute_result"
    }
   ],
   "source": [
    "evaluated_metrics"
   ]
  },
  {
   "cell_type": "code",
   "execution_count": null,
   "id": "reported-cyprus",
   "metadata": {},
   "outputs": [],
   "source": []
  }
 ],
 "metadata": {
  "kernelspec": {
   "display_name": "Python 3",
   "language": "python",
   "name": "python3"
  },
  "language_info": {
   "codemirror_mode": {
    "name": "ipython",
    "version": 3
   },
   "file_extension": ".py",
   "mimetype": "text/x-python",
   "name": "python",
   "nbconvert_exporter": "python",
   "pygments_lexer": "ipython3",
   "version": "3.8.5"
  }
 },
 "nbformat": 4,
 "nbformat_minor": 5
}
